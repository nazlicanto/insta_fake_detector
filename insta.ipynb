{
 "cells": [
  {
   "cell_type": "markdown",
   "id": "2bd39893",
   "metadata": {},
   "source": [
    "## Importing libraries"
   ]
  },
  {
   "cell_type": "code",
   "execution_count": 1,
   "id": "5aa5e638",
   "metadata": {},
   "outputs": [
    {
     "name": "stderr",
     "output_type": "stream",
     "text": [
      "Using `tqdm.autonotebook.tqdm` in notebook mode. Use `tqdm.tqdm` instead to force console mode (e.g. in jupyter console)\n"
     ]
    },
    {
     "data": {
      "text/html": [
       "        <script type=\"text/javascript\">\n",
       "        window.PlotlyConfig = {MathJaxConfig: 'local'};\n",
       "        if (window.MathJax && window.MathJax.Hub && window.MathJax.Hub.Config) {window.MathJax.Hub.Config({SVG: {font: \"STIX-Web\"}});}\n",
       "        if (typeof require !== 'undefined') {\n",
       "        require.undef(\"plotly\");\n",
       "        requirejs.config({\n",
       "            paths: {\n",
       "                'plotly': ['https://cdn.plot.ly/plotly-2.20.0.min']\n",
       "            }\n",
       "        });\n",
       "        require(['plotly'], function(Plotly) {\n",
       "            window._Plotly = Plotly;\n",
       "        });\n",
       "        }\n",
       "        </script>\n",
       "        "
      ]
     },
     "metadata": {},
     "output_type": "display_data"
    }
   ],
   "source": [
    " # Operations\n",
    "import pandas as pd, numpy as np, plotly.express as px\n",
    "\n",
    "# Visualization\n",
    "from plotly.subplots import make_subplots \n",
    "import matplotlib.pyplot as plt \n",
    "import seaborn as sns \n",
    "\n",
    "# Preprocessing & Evaluation Metrics\n",
    "from sklearn.pipeline import Pipeline \n",
    "from sklearn.preprocessing import StandardScaler \n",
    "from sklearn.model_selection import train_test_split \n",
    "from sklearn.metrics import roc_auc_score, roc_curve, confusion_matrix, recall_score \n",
    "from sklearn.preprocessing import FunctionTransformer\n",
    "from imblearn.over_sampling import RandomOverSampler\n",
    "import shap \n",
    "\n",
    "# Models\n",
    "from sklearn.ensemble import RandomForestClassifier\n",
    "from xgboost import XGBClassifier\n",
    "from lightgbm import LGBMClassifier\n",
    "from catboost import CatBoostClassifier\n",
    "from sklearn.ensemble import AdaBoostClassifier\n",
    "\n",
    "import warnings\n",
    "warnings.filterwarnings(\"ignore\", category=DeprecationWarning)\n",
    "from plotly.offline import init_notebook_mode\n",
    "init_notebook_mode(connected=True)\n",
    "\n",
    "# Loading data\n",
    "training_data = pd.read_csv('C://Users//nazli//OneDrive//Desktop//DATA//DATASETS//insta//train.csv') # Training dataset\n",
    "testing_data = pd.read_csv('C://Users//nazli//OneDrive//Desktop//DATA//DATASETS//insta//test.csv') # Testing dataset\n"
   ]
  },
  {
   "cell_type": "markdown",
   "id": "a0bcbabe",
   "metadata": {},
   "source": [
    "## Exploratory Data Analysis"
   ]
  },
  {
   "cell_type": "code",
   "execution_count": 2,
   "id": "06d1c4ab",
   "metadata": {},
   "outputs": [],
   "source": [
    "def inspect(df):\n",
    "    print('\\n')\n",
    "    print('Missing Values: ')\n",
    "    print(df.isnull().sum())\n",
    "    print('\\n')\n",
    "    print('Duplicated Values: ')    \n",
    "    print(df.duplicated().sum())\n",
    "    print('\\n')\n",
    "    print('Data Types: ')\n",
    "    print(df.dtypes)\n",
    "    print('\\n')\n",
    "    print(f'Rows: {df.shape[0]}')   \n",
    "    print(f'Attributes: {df.shape[1]}')\n",
    "    print('\\n')\n",
    "    print('Head: ')\n",
    "    print('\\n')\n",
    "    return df.head()"
   ]
  },
  {
   "cell_type": "code",
   "execution_count": 3,
   "id": "f54b77ae",
   "metadata": {
    "scrolled": true
   },
   "outputs": [
    {
     "name": "stdout",
     "output_type": "stream",
     "text": [
      "\n",
      "\n",
      "Missing Values: \n",
      "profile pic             0\n",
      "nums/length username    0\n",
      "fullname words          0\n",
      "nums/length fullname    0\n",
      "name==username          0\n",
      "description length      0\n",
      "external URL            0\n",
      "private                 0\n",
      "#posts                  0\n",
      "#followers              0\n",
      "#follows                0\n",
      "fake                    0\n",
      "dtype: int64\n",
      "\n",
      "\n",
      "Duplicated Values: \n",
      "2\n",
      "\n",
      "\n",
      "Data Types: \n",
      "profile pic               int64\n",
      "nums/length username    float64\n",
      "fullname words            int64\n",
      "nums/length fullname    float64\n",
      "name==username            int64\n",
      "description length        int64\n",
      "external URL              int64\n",
      "private                   int64\n",
      "#posts                    int64\n",
      "#followers                int64\n",
      "#follows                  int64\n",
      "fake                      int64\n",
      "dtype: object\n",
      "\n",
      "\n",
      "Rows: 576\n",
      "Attributes: 12\n",
      "\n",
      "\n",
      "Head: \n",
      "\n",
      "\n"
     ]
    },
    {
     "data": {
      "text/html": [
       "<div>\n",
       "<style scoped>\n",
       "    .dataframe tbody tr th:only-of-type {\n",
       "        vertical-align: middle;\n",
       "    }\n",
       "\n",
       "    .dataframe tbody tr th {\n",
       "        vertical-align: top;\n",
       "    }\n",
       "\n",
       "    .dataframe thead th {\n",
       "        text-align: right;\n",
       "    }\n",
       "</style>\n",
       "<table border=\"1\" class=\"dataframe\">\n",
       "  <thead>\n",
       "    <tr style=\"text-align: right;\">\n",
       "      <th></th>\n",
       "      <th>profile pic</th>\n",
       "      <th>nums/length username</th>\n",
       "      <th>fullname words</th>\n",
       "      <th>nums/length fullname</th>\n",
       "      <th>name==username</th>\n",
       "      <th>description length</th>\n",
       "      <th>external URL</th>\n",
       "      <th>private</th>\n",
       "      <th>#posts</th>\n",
       "      <th>#followers</th>\n",
       "      <th>#follows</th>\n",
       "      <th>fake</th>\n",
       "    </tr>\n",
       "  </thead>\n",
       "  <tbody>\n",
       "    <tr>\n",
       "      <th>0</th>\n",
       "      <td>1</td>\n",
       "      <td>0.27</td>\n",
       "      <td>0</td>\n",
       "      <td>0.0</td>\n",
       "      <td>0</td>\n",
       "      <td>53</td>\n",
       "      <td>0</td>\n",
       "      <td>0</td>\n",
       "      <td>32</td>\n",
       "      <td>1000</td>\n",
       "      <td>955</td>\n",
       "      <td>0</td>\n",
       "    </tr>\n",
       "    <tr>\n",
       "      <th>1</th>\n",
       "      <td>1</td>\n",
       "      <td>0.00</td>\n",
       "      <td>2</td>\n",
       "      <td>0.0</td>\n",
       "      <td>0</td>\n",
       "      <td>44</td>\n",
       "      <td>0</td>\n",
       "      <td>0</td>\n",
       "      <td>286</td>\n",
       "      <td>2740</td>\n",
       "      <td>533</td>\n",
       "      <td>0</td>\n",
       "    </tr>\n",
       "    <tr>\n",
       "      <th>2</th>\n",
       "      <td>1</td>\n",
       "      <td>0.10</td>\n",
       "      <td>2</td>\n",
       "      <td>0.0</td>\n",
       "      <td>0</td>\n",
       "      <td>0</td>\n",
       "      <td>0</td>\n",
       "      <td>1</td>\n",
       "      <td>13</td>\n",
       "      <td>159</td>\n",
       "      <td>98</td>\n",
       "      <td>0</td>\n",
       "    </tr>\n",
       "    <tr>\n",
       "      <th>3</th>\n",
       "      <td>1</td>\n",
       "      <td>0.00</td>\n",
       "      <td>1</td>\n",
       "      <td>0.0</td>\n",
       "      <td>0</td>\n",
       "      <td>82</td>\n",
       "      <td>0</td>\n",
       "      <td>0</td>\n",
       "      <td>679</td>\n",
       "      <td>414</td>\n",
       "      <td>651</td>\n",
       "      <td>0</td>\n",
       "    </tr>\n",
       "    <tr>\n",
       "      <th>4</th>\n",
       "      <td>1</td>\n",
       "      <td>0.00</td>\n",
       "      <td>2</td>\n",
       "      <td>0.0</td>\n",
       "      <td>0</td>\n",
       "      <td>0</td>\n",
       "      <td>0</td>\n",
       "      <td>1</td>\n",
       "      <td>6</td>\n",
       "      <td>151</td>\n",
       "      <td>126</td>\n",
       "      <td>0</td>\n",
       "    </tr>\n",
       "  </tbody>\n",
       "</table>\n",
       "</div>"
      ],
      "text/plain": [
       "   profile pic  nums/length username  fullname words  nums/length fullname  \\\n",
       "0            1                  0.27               0                   0.0   \n",
       "1            1                  0.00               2                   0.0   \n",
       "2            1                  0.10               2                   0.0   \n",
       "3            1                  0.00               1                   0.0   \n",
       "4            1                  0.00               2                   0.0   \n",
       "\n",
       "   name==username  description length  external URL  private  #posts  \\\n",
       "0               0                  53             0        0      32   \n",
       "1               0                  44             0        0     286   \n",
       "2               0                   0             0        1      13   \n",
       "3               0                  82             0        0     679   \n",
       "4               0                   0             0        1       6   \n",
       "\n",
       "   #followers  #follows  fake  \n",
       "0        1000       955     0  \n",
       "1        2740       533     0  \n",
       "2         159        98     0  \n",
       "3         414       651     0  \n",
       "4         151       126     0  "
      ]
     },
     "execution_count": 3,
     "metadata": {},
     "output_type": "execute_result"
    }
   ],
   "source": [
    "inspect(training_data)"
   ]
  },
  {
   "cell_type": "markdown",
   "id": "b55fd055",
   "metadata": {},
   "source": [
    "### Gathering:\n",
    "\n",
    "Both dataframes don't have any missing values. Every attribute in these dataframes is numeric. \n",
    "They are relatively small in size, with the larger dataframe containing just 576 entries. \n",
    "There are two duplicate records in each dataframe. \n",
    "Furthermore, the dataframes seem to be structured with a mix of continuous and binary attributes. \n",
    "Here's a breakdown of the features available:\n",
    "\n",
    "Profile Pic: This binary attribute indicates if an account has a profile picture.\n",
    "\n",
    "Nums/Length Username: Represents the proportion of numerical characters to the total characters in a username, making it a continuous feature.\n",
    "\n",
    "Fullname Words: This appears to be a continuous feature that counts the total words in the account holder's name.\n",
    "\n",
    "Nums/Length Fullname: A continuous attribute showing the proportion of numerical characters to the total characters in the full name of the account holder.\n",
    "\n",
    "Name Equals Username: A binary feature that signifies if the account holder's name matches the username.\n",
    "\n",
    "Description Length: This measures the length of the profile's description, likely referring to the bio.\n",
    "\n",
    "External URL: A binary feature that indicates if there's an external website link in the profile's bio.\n",
    "\n",
    "Private: This binary attribute shows if the profile is private to non-followers.\n",
    "\n",
    "#Posts: A continuous feature denoting the total number of posts on the profile.\n",
    "\n",
    "#Followers: A continuous feature indicating the total follower count for each account.\n",
    "\n",
    "#Follows: A continuous feature showing the total number of accounts that the profile is following.\n",
    "\n",
    "Fake: This is our target variable, determining if an account is genuine or fake.\n",
    "\n",
    "Binary features, 0 = No and 1 = Yes."
   ]
  },
  {
   "cell_type": "code",
   "execution_count": 4,
   "id": "8acfd44d",
   "metadata": {},
   "outputs": [
    {
     "name": "stdout",
     "output_type": "stream",
     "text": [
      "\n",
      "\n",
      "Missing Values: \n",
      "profile pic             0\n",
      "nums/length username    0\n",
      "fullname words          0\n",
      "nums/length fullname    0\n",
      "name==username          0\n",
      "description length      0\n",
      "external URL            0\n",
      "private                 0\n",
      "#posts                  0\n",
      "#followers              0\n",
      "#follows                0\n",
      "fake                    0\n",
      "dtype: int64\n",
      "\n",
      "\n",
      "Duplicated Values: \n",
      "2\n",
      "\n",
      "\n",
      "Data Types: \n",
      "profile pic               int64\n",
      "nums/length username    float64\n",
      "fullname words            int64\n",
      "nums/length fullname    float64\n",
      "name==username            int64\n",
      "description length        int64\n",
      "external URL              int64\n",
      "private                   int64\n",
      "#posts                    int64\n",
      "#followers                int64\n",
      "#follows                  int64\n",
      "fake                      int64\n",
      "dtype: object\n",
      "\n",
      "\n",
      "Rows: 120\n",
      "Attributes: 12\n",
      "\n",
      "\n",
      "Head: \n",
      "\n",
      "\n"
     ]
    },
    {
     "data": {
      "text/html": [
       "<div>\n",
       "<style scoped>\n",
       "    .dataframe tbody tr th:only-of-type {\n",
       "        vertical-align: middle;\n",
       "    }\n",
       "\n",
       "    .dataframe tbody tr th {\n",
       "        vertical-align: top;\n",
       "    }\n",
       "\n",
       "    .dataframe thead th {\n",
       "        text-align: right;\n",
       "    }\n",
       "</style>\n",
       "<table border=\"1\" class=\"dataframe\">\n",
       "  <thead>\n",
       "    <tr style=\"text-align: right;\">\n",
       "      <th></th>\n",
       "      <th>profile pic</th>\n",
       "      <th>nums/length username</th>\n",
       "      <th>fullname words</th>\n",
       "      <th>nums/length fullname</th>\n",
       "      <th>name==username</th>\n",
       "      <th>description length</th>\n",
       "      <th>external URL</th>\n",
       "      <th>private</th>\n",
       "      <th>#posts</th>\n",
       "      <th>#followers</th>\n",
       "      <th>#follows</th>\n",
       "      <th>fake</th>\n",
       "    </tr>\n",
       "  </thead>\n",
       "  <tbody>\n",
       "    <tr>\n",
       "      <th>0</th>\n",
       "      <td>1</td>\n",
       "      <td>0.33</td>\n",
       "      <td>1</td>\n",
       "      <td>0.33</td>\n",
       "      <td>1</td>\n",
       "      <td>30</td>\n",
       "      <td>0</td>\n",
       "      <td>1</td>\n",
       "      <td>35</td>\n",
       "      <td>488</td>\n",
       "      <td>604</td>\n",
       "      <td>0</td>\n",
       "    </tr>\n",
       "    <tr>\n",
       "      <th>1</th>\n",
       "      <td>1</td>\n",
       "      <td>0.00</td>\n",
       "      <td>5</td>\n",
       "      <td>0.00</td>\n",
       "      <td>0</td>\n",
       "      <td>64</td>\n",
       "      <td>0</td>\n",
       "      <td>1</td>\n",
       "      <td>3</td>\n",
       "      <td>35</td>\n",
       "      <td>6</td>\n",
       "      <td>0</td>\n",
       "    </tr>\n",
       "    <tr>\n",
       "      <th>2</th>\n",
       "      <td>1</td>\n",
       "      <td>0.00</td>\n",
       "      <td>2</td>\n",
       "      <td>0.00</td>\n",
       "      <td>0</td>\n",
       "      <td>82</td>\n",
       "      <td>0</td>\n",
       "      <td>1</td>\n",
       "      <td>319</td>\n",
       "      <td>328</td>\n",
       "      <td>668</td>\n",
       "      <td>0</td>\n",
       "    </tr>\n",
       "    <tr>\n",
       "      <th>3</th>\n",
       "      <td>1</td>\n",
       "      <td>0.00</td>\n",
       "      <td>1</td>\n",
       "      <td>0.00</td>\n",
       "      <td>0</td>\n",
       "      <td>143</td>\n",
       "      <td>0</td>\n",
       "      <td>1</td>\n",
       "      <td>273</td>\n",
       "      <td>14890</td>\n",
       "      <td>7369</td>\n",
       "      <td>0</td>\n",
       "    </tr>\n",
       "    <tr>\n",
       "      <th>4</th>\n",
       "      <td>1</td>\n",
       "      <td>0.50</td>\n",
       "      <td>1</td>\n",
       "      <td>0.00</td>\n",
       "      <td>0</td>\n",
       "      <td>76</td>\n",
       "      <td>0</td>\n",
       "      <td>1</td>\n",
       "      <td>6</td>\n",
       "      <td>225</td>\n",
       "      <td>356</td>\n",
       "      <td>0</td>\n",
       "    </tr>\n",
       "  </tbody>\n",
       "</table>\n",
       "</div>"
      ],
      "text/plain": [
       "   profile pic  nums/length username  fullname words  nums/length fullname  \\\n",
       "0            1                  0.33               1                  0.33   \n",
       "1            1                  0.00               5                  0.00   \n",
       "2            1                  0.00               2                  0.00   \n",
       "3            1                  0.00               1                  0.00   \n",
       "4            1                  0.50               1                  0.00   \n",
       "\n",
       "   name==username  description length  external URL  private  #posts  \\\n",
       "0               1                  30             0        1      35   \n",
       "1               0                  64             0        1       3   \n",
       "2               0                  82             0        1     319   \n",
       "3               0                 143             0        1     273   \n",
       "4               0                  76             0        1       6   \n",
       "\n",
       "   #followers  #follows  fake  \n",
       "0         488       604     0  \n",
       "1          35         6     0  \n",
       "2         328       668     0  \n",
       "3       14890      7369     0  \n",
       "4         225       356     0  "
      ]
     },
     "execution_count": 4,
     "metadata": {},
     "output_type": "execute_result"
    }
   ],
   "source": [
    "inspect(testing_data)"
   ]
  },
  {
   "cell_type": "markdown",
   "id": "162d6632",
   "metadata": {},
   "source": [
    "Duplicate rows can skew the model's performance and increase the risk of overfitting. Therefore, we'll remove them."
   ]
  },
  {
   "cell_type": "code",
   "execution_count": 5,
   "id": "4c83add7",
   "metadata": {},
   "outputs": [
    {
     "name": "stdout",
     "output_type": "stream",
     "text": [
      "\n",
      "\n",
      "Train new rows count: 574\n",
      "Test new rows count: 118\n"
     ]
    }
   ],
   "source": [
    "# Removing duplicates\n",
    "training_data.drop_duplicates(inplace = True)\n",
    "testing_data.drop_duplicates(inplace = True)\n",
    "\n",
    "# Printing new rows count\n",
    "print('\\n')\n",
    "print(f'Train new rows count: {training_data.shape[0]}')\n",
    "print(f'Test new rows count: {testing_data.shape[0]}')"
   ]
  },
  {
   "cell_type": "markdown",
   "id": "0daba255",
   "metadata": {},
   "source": [
    "#### Categorize features into two groups: Continuous and binary."
   ]
  },
  {
   "cell_type": "code",
   "execution_count": 6,
   "id": "651143f1",
   "metadata": {},
   "outputs": [],
   "source": [
    "def categorize_features(df):\n",
    "    # creating empty lists\n",
    "    continuous_features = []\n",
    "    binary_features = []\n",
    "    \n",
    "    for col in df.columns:\n",
    "        # if the number of unique values per feature is either equal or smaller than 2, it gets appended to the binary_features list\n",
    "        if df[col].nunique() <= 2: \n",
    "            binary_features.append(col)\n",
    "        else:\n",
    "            continuous_features.append(col) \n",
    "    # In case it has more unique values than 2, it get appended to the continuous_feature list \n",
    "    return continuous_features, binary_features"
   ]
  },
  {
   "cell_type": "code",
   "execution_count": 7,
   "id": "95091343",
   "metadata": {},
   "outputs": [],
   "source": [
    "continuous_features, binary_features = categorize_features(training_data)"
   ]
  },
  {
   "cell_type": "code",
   "execution_count": 8,
   "id": "487b6988",
   "metadata": {},
   "outputs": [
    {
     "name": "stdout",
     "output_type": "stream",
     "text": [
      "Continuous features: ['nums/length username', 'fullname words', 'nums/length fullname', 'description length', '#posts', '#followers', '#follows']\n",
      "Binary features: ['profile pic', 'name==username', 'external URL', 'private', 'fake']\n"
     ]
    }
   ],
   "source": [
    "print(f'Continuous features:', continuous_features)\n",
    "print(f'Binary features:', binary_features)"
   ]
  },
  {
   "cell_type": "markdown",
   "id": "14657513",
   "metadata": {},
   "source": [
    "### Binary Features"
   ]
  },
  {
   "cell_type": "code",
   "execution_count": 9,
   "id": "59d39f89",
   "metadata": {},
   "outputs": [],
   "source": [
    "binary_features.remove('fake')\n",
    "legend_df = training_data.copy()\n",
    "legend_df['fake'] = legend_df['fake'].replace({0: 'Real Accounts', 1: \"Fake Accounts\"}) "
   ]
  },
  {
   "cell_type": "code",
   "execution_count": 10,
   "id": "1f9e769c",
   "metadata": {},
   "outputs": [],
   "source": [
    "def create_barplots(df, legend_df):\n",
    "    for feature in binary_features:\n",
    "        fig = px.histogram(train, x=feature, color=legend_df['fake'],\n",
    "                           color_discrete_sequence=['#636EFA','#EF553B'],\n",
    "                           barmode='group', template='plotly_white',labels={'color': 'Real/Fake'})\n",
    "        \n",
    "        fig.update_layout(title=f'{feature}?',\n",
    "                          xaxis_title=feature, yaxis_title='Count', xaxis=dict(tickmode='array',\n",
    "                                                                               tickvals=[0, 1],\n",
    "                                                                               ticktext=['No', 'Yes']\n",
    "                                                                               ),\n",
    "                     height = 650)\n",
    "        \n",
    "        fig.show()"
   ]
  },
  {
   "cell_type": "code",
   "execution_count": 12,
   "id": "b0f60247",
   "metadata": {
    "scrolled": true
   },
   "outputs": [
    {
     "data": {
      "image/png": "[encoded data removed]",
      "text/plain": [
       "<Figure size 504x432 with 1 Axes>"
      ]
     },
     "metadata": {
      "needs_background": "light"
     },
     "output_type": "display_data"
    },
    {
     "data": {
      "image/png": "[encoded data removed]",
      "text/plain": [
       "<Figure size 504x432 with 1 Axes>"
      ]
     },
     "metadata": {
      "needs_background": "light"
     },
     "output_type": "display_data"
    },
    {
     "data": {
      "image/png": "[encoded data removed]",
      "text/plain": [
       "<Figure size 504x432 with 1 Axes>"
      ]
     },
     "metadata": {
      "needs_background": "light"
     },
     "output_type": "display_data"
    },
    {
     "data": {
      "image/png": "[encoded data removed]",
      "text/plain": [
       "<Figure size 504x432 with 1 Axes>"
      ]
     },
     "metadata": {
      "needs_background": "light"
     },
     "output_type": "display_data"
    }
   ],
   "source": [
    "def crossbar(df):\n",
    "    for feature in binary_features:\n",
    "        plt.figure(figsize=(7, 6))\n",
    "        sns.countplot(data=df, x=feature, hue='fake', palette={0: 'orangered', 1: 'darkcyan'})\n",
    "        plt.title(f'Distribution of {feature} by Account Type')\n",
    "        plt.legend(title='Account Type', labels=['Real Accounts', 'Fake Accounts'])\n",
    "        plt.xticks(ticks=[0, 1], labels=['No', 'Yes'])\n",
    "        plt.ylabel('Count')\n",
    "        plt.xlabel(feature)\n",
    "        plt.show()\n",
    "\n",
    "# Let's visualize using the function\n",
    "crossbar(training_data)\n"
   ]
  },
  {
   "cell_type": "markdown",
   "id": "25988929",
   "metadata": {},
   "source": [
    "### Insights:\n",
    "\n",
    "A significant number of accounts without profile pictures tend to be fake.\n",
    "\n",
    "Predominantly, accounts where the name matches the username are categorized as fake.\n",
    "\n",
    "Interestingly, all accounts that have an external URL in their bios appear to be real. However, a majority of accounts don't possess an external URL.\n",
    "\n",
    "The bulk of accounts that are public (not private) lean towards being fake, whereas most of the private accounts are real."
   ]
  },
  {
   "cell_type": "markdown",
   "id": "82918170",
   "metadata": {},
   "source": [
    "### Continuous Features"
   ]
  },
  {
   "cell_type": "code",
   "execution_count": 13,
   "id": "f89a716b",
   "metadata": {
    "scrolled": true
   },
   "outputs": [
    {
     "data": {
      "image/png": "[encoded data removed]",
      "text/plain": [
       "<Figure size 720x2160 with 14 Axes>"
      ]
     },
     "metadata": {
      "needs_background": "light"
     },
     "output_type": "display_data"
    }
   ],
   "source": [
    "fig, axes = plt.subplots(nrows=len(continuous_features), ncols=2, figsize=(10, 30))\n",
    "\n",
    "for i, col in enumerate(continuous_features):\n",
    "    sns.boxplot(data=training_data[training_data['fake'] == 0], x=col, ax=axes[i, 0], color = 'darkblue')\n",
    "    sns.boxplot(data=training_data[training_data['fake'] == 1], x=col, ax=axes[i, 1], color = 'sandybrown')\n",
    "    axes[i, 0].set_title(col + \" - Real Accounts\")\n",
    "    axes[i, 1].set_title(col + \" - Fake Accounts\")\n",
    "\n",
    "plt.tight_layout()\n",
    "plt.show()"
   ]
  },
  {
   "cell_type": "markdown",
   "id": "4fe42295",
   "metadata": {},
   "source": [
    "### Insights:\n",
    "\n",
    "-Usernames of fake accounts tend to contain a higher percentage of numbers.\n",
    "\n",
    "-Fake accounts generally have fewer words in their full names.\n",
    "\n",
    "-When we set aside outliers, fake accounts typically have much shorter descriptions for bios.\n",
    "\n",
    "-Real accounts boast a significantly higher number of posts compared to their fake counterparts.\n",
    "\n",
    "-Real accounts also have a substantially larger follower base than fake accounts.\n",
    "\n",
    "On the whole, when we exclude the outliers, it appears that fake accounts, on average, follow fewer individuals compared to real accounts.\n",
    "\n",
    "Due the number of outliers, we will build a Random Forest baseline and using Gradient Boosting Algorithms for predictions."
   ]
  },
  {
   "cell_type": "markdown",
   "id": "e8e0ff6a",
   "metadata": {},
   "source": [
    "### Target Variable"
   ]
  },
  {
   "cell_type": "code",
   "execution_count": 14,
   "id": "01796df9",
   "metadata": {
    "scrolled": false
   },
   "outputs": [
    {
     "data": {
      "application/vnd.plotly.v1+json": {
       "config": {
        "plotlyServerURL": "https://plot.ly"
       },
       "data": [
        {
         "domain": {
          "x": [
           0,
           1
          ],
          "y": [
           0,
           1
          ]
         },
         "hovertemplate": "fake=%{label}<extra></extra>",
         "labels": [
          "Real Accounts",
          "Real Accounts",
          "Real Accounts",
          "Real Accounts",
          "Real Accounts",
          "Real Accounts",
          "Real Accounts",
          "Real Accounts",
          "Real Accounts",
          "Real Accounts",
          "Real Accounts",
          "Real Accounts",
          "Real Accounts",
          "Real Accounts",
          "Real Accounts",
          "Real Accounts",
          "Real Accounts",
          "Real Accounts",
          "Real Accounts",
          "Real Accounts",
          "Real Accounts",
          "Real Accounts",
          "Real Accounts",
          "Real Accounts",
          "Real Accounts",
          "Real Accounts",
          "Real Accounts",
          "Real Accounts",
          "Real Accounts",
          "Real Accounts",
          "Real Accounts",
          "Real Accounts",
          "Real Accounts",
          "Real Accounts",
          "Real Accounts",
          "Real Accounts",
          "Real Accounts",
          "Real Accounts",
          "Real Accounts",
          "Real Accounts",
          "Real Accounts",
          "Real Accounts",
          "Real Accounts",
          "Real Accounts",
          "Real Accounts",
          "Real Accounts",
          "Real Accounts",
          "Real Accounts",
          "Real Accounts",
          "Real Accounts",
          "Real Accounts",
          "Real Accounts",
          "Real Accounts",
          "Real Accounts",
          "Real Accounts",
          "Real Accounts",
          "Real Accounts",
          "Real Accounts",
          "Real Accounts",
          "Real Accounts",
          "Real Accounts",
          "Real Accounts",
          "Real Accounts",
          "Real Accounts",
          "Real Accounts",
          "Real Accounts",
          "Real Accounts",
          "Real Accounts",
          "Real Accounts",
          "Real Accounts",
          "Real Accounts",
          "Real Accounts",
          "Real Accounts",
          "Real Accounts",
          "Real Accounts",
          "Real Accounts",
          "Real Accounts",
          "Real Accounts",
          "Real Accounts",
          "Real Accounts",
          "Real Accounts",
          "Real Accounts",
          "Real Accounts",
          "Real Accounts",
          "Real Accounts",
          "Real Accounts",
          "Real Accounts",
          "Real Accounts",
          "Real Accounts",
          "Real Accounts",
          "Real Accounts",
          "Real Accounts",
          "Real Accounts",
          "Real Accounts",
          "Real Accounts",
          "Real Accounts",
          "Real Accounts",
          "Real Accounts",
          "Real Accounts",
          "Real Accounts",
          "Real Accounts",
          "Real Accounts",
          "Real Accounts",
          "Real Accounts",
          "Real Accounts",
          "Real Accounts",
          "Real Accounts",
          "Real Accounts",
          "Real Accounts",
          "Real Accounts",
          "Real Accounts",
          "Real Accounts",
          "Real Accounts",
          "Real Accounts",
          "Real Accounts",
          "Real Accounts",
          "Real Accounts",
          "Real Accounts",
          "Real Accounts",
          "Real Accounts",
          "Real Accounts",
          "Real Accounts",
          "Real Accounts",
          "Real Accounts",
          "Real Accounts",
          "Real Accounts",
          "Real Accounts",
          "Real Accounts",
          "Real Accounts",
          "Real Accounts",
          "Real Accounts",
          "Real Accounts",
          "Real Accounts",
          "Real Accounts",
          "Real Accounts",
          "Real Accounts",
          "Real Accounts",
          "Real Accounts",
          "Real Accounts",
          "Real Accounts",
          "Real Accounts",
          "Real Accounts",
          "Real Accounts",
          "Real Accounts",
          "Real Accounts",
          "Real Accounts",
          "Real Accounts",
          "Real Accounts",
          "Real Accounts",
          "Real Accounts",
          "Real Accounts",
          "Real Accounts",
          "Real Accounts",
          "Real Accounts",
          "Real Accounts",
          "Real Accounts",
          "Real Accounts",
          "Real Accounts",
          "Real Accounts",
          "Real Accounts",
          "Real Accounts",
          "Real Accounts",
          "Real Accounts",
          "Real Accounts",
          "Real Accounts",
          "Real Accounts",
          "Real Accounts",
          "Real Accounts",
          "Real Accounts",
          "Real Accounts",
          "Real Accounts",
          "Real Accounts",
          "Real Accounts",
          "Real Accounts",
          "Real Accounts",
          "Real Accounts",
          "Real Accounts",
          "Real Accounts",
          "Real Accounts",
          "Real Accounts",
          "Real Accounts",
          "Real Accounts",
          "Real Accounts",
          "Real Accounts",
          "Real Accounts",
          "Real Accounts",
          "Real Accounts",
          "Real Accounts",
          "Real Accounts",
          "Real Accounts",
          "Real Accounts",
          "Real Accounts",
          "Real Accounts",
          "Real Accounts",
          "Real Accounts",
          "Real Accounts",
          "Real Accounts",
          "Real Accounts",
          "Real Accounts",
          "Real Accounts",
          "Real Accounts",
          "Real Accounts",
          "Real Accounts",
          "Real Accounts",
          "Real Accounts",
          "Real Accounts",
          "Real Accounts",
          "Real Accounts",
          "Real Accounts",
          "Real Accounts",
          "Real Accounts",
          "Real Accounts",
          "Real Accounts",
          "Real Accounts",
          "Real Accounts",
          "Real Accounts",
          "Real Accounts",
          "Real Accounts",
          "Real Accounts",
          "Real Accounts",
          "Real Accounts",
          "Real Accounts",
          "Real Accounts",
          "Real Accounts",
          "Real Accounts",
          "Real Accounts",
          "Real Accounts",
          "Real Accounts",
          "Real Accounts",
          "Real Accounts",
          "Real Accounts",
          "Real Accounts",
          "Real Accounts",
          "Real Accounts",
          "Real Accounts",
          "Real Accounts",
          "Real Accounts",
          "Real Accounts",
          "Real Accounts",
          "Real Accounts",
          "Real Accounts",
          "Real Accounts",
          "Real Accounts",
          "Real Accounts",
          "Real Accounts",
          "Real Accounts",
          "Real Accounts",
          "Real Accounts",
          "Real Accounts",
          "Real Accounts",
          "Real Accounts",
          "Real Accounts",
          "Real Accounts",
          "Real Accounts",
          "Real Accounts",
          "Real Accounts",
          "Real Accounts",
          "Real Accounts",
          "Real Accounts",
          "Real Accounts",
          "Real Accounts",
          "Real Accounts",
          "Real Accounts",
          "Real Accounts",
          "Real Accounts",
          "Real Accounts",
          "Real Accounts",
          "Real Accounts",
          "Real Accounts",
          "Real Accounts",
          "Real Accounts",
          "Real Accounts",
          "Real Accounts",
          "Real Accounts",
          "Real Accounts",
          "Real Accounts",
          "Real Accounts",
          "Real Accounts",
          "Real Accounts",
          "Real Accounts",
          "Real Accounts",
          "Real Accounts",
          "Real Accounts",
          "Real Accounts",
          "Real Accounts",
          "Real Accounts",
          "Real Accounts",
          "Fake Accounts",
          "Fake Accounts",
          "Fake Accounts",
          "Fake Accounts",
          "Fake Accounts",
          "Fake Accounts",
          "Fake Accounts",
          "Fake Accounts",
          "Fake Accounts",
          "Fake Accounts",
          "Fake Accounts",
          "Fake Accounts",
          "Fake Accounts",
          "Fake Accounts",
          "Fake Accounts",
          "Fake Accounts",
          "Fake Accounts",
          "Fake Accounts",
          "Fake Accounts",
          "Fake Accounts",
          "Fake Accounts",
          "Fake Accounts",
          "Fake Accounts",
          "Fake Accounts",
          "Fake Accounts",
          "Fake Accounts",
          "Fake Accounts",
          "Fake Accounts",
          "Fake Accounts",
          "Fake Accounts",
          "Fake Accounts",
          "Fake Accounts",
          "Fake Accounts",
          "Fake Accounts",
          "Fake Accounts",
          "Fake Accounts",
          "Fake Accounts",
          "Fake Accounts",
          "Fake Accounts",
          "Fake Accounts",
          "Fake Accounts",
          "Fake Accounts",
          "Fake Accounts",
          "Fake Accounts",
          "Fake Accounts",
          "Fake Accounts",
          "Fake Accounts",
          "Fake Accounts",
          "Fake Accounts",
          "Fake Accounts",
          "Fake Accounts",
          "Fake Accounts",
          "Fake Accounts",
          "Fake Accounts",
          "Fake Accounts",
          "Fake Accounts",
          "Fake Accounts",
          "Fake Accounts",
          "Fake Accounts",
          "Fake Accounts",
          "Fake Accounts",
          "Fake Accounts",
          "Fake Accounts",
          "Fake Accounts",
          "Fake Accounts",
          "Fake Accounts",
          "Fake Accounts",
          "Fake Accounts",
          "Fake Accounts",
          "Fake Accounts",
          "Fake Accounts",
          "Fake Accounts",
          "Fake Accounts",
          "Fake Accounts",
          "Fake Accounts",
          "Fake Accounts",
          "Fake Accounts",
          "Fake Accounts",
          "Fake Accounts",
          "Fake Accounts",
          "Fake Accounts",
          "Fake Accounts",
          "Fake Accounts",
          "Fake Accounts",
          "Fake Accounts",
          "Fake Accounts",
          "Fake Accounts",
          "Fake Accounts",
          "Fake Accounts",
          "Fake Accounts",
          "Fake Accounts",
          "Fake Accounts",
          "Fake Accounts",
          "Fake Accounts",
          "Fake Accounts",
          "Fake Accounts",
          "Fake Accounts",
          "Fake Accounts",
          "Fake Accounts",
          "Fake Accounts",
          "Fake Accounts",
          "Fake Accounts",
          "Fake Accounts",
          "Fake Accounts",
          "Fake Accounts",
          "Fake Accounts",
          "Fake Accounts",
          "Fake Accounts",
          "Fake Accounts",
          "Fake Accounts",
          "Fake Accounts",
          "Fake Accounts",
          "Fake Accounts",
          "Fake Accounts",
          "Fake Accounts",
          "Fake Accounts",
          "Fake Accounts",
          "Fake Accounts",
          "Fake Accounts",
          "Fake Accounts",
          "Fake Accounts",
          "Fake Accounts",
          "Fake Accounts",
          "Fake Accounts",
          "Fake Accounts",
          "Fake Accounts",
          "Fake Accounts",
          "Fake Accounts",
          "Fake Accounts",
          "Fake Accounts",
          "Fake Accounts",
          "Fake Accounts",
          "Fake Accounts",
          "Fake Accounts",
          "Fake Accounts",
          "Fake Accounts",
          "Fake Accounts",
          "Fake Accounts",
          "Fake Accounts",
          "Fake Accounts",
          "Fake Accounts",
          "Fake Accounts",
          "Fake Accounts",
          "Fake Accounts",
          "Fake Accounts",
          "Fake Accounts",
          "Fake Accounts",
          "Fake Accounts",
          "Fake Accounts",
          "Fake Accounts",
          "Fake Accounts",
          "Fake Accounts",
          "Fake Accounts",
          "Fake Accounts",
          "Fake Accounts",
          "Fake Accounts",
          "Fake Accounts",
          "Fake Accounts",
          "Fake Accounts",
          "Fake Accounts",
          "Fake Accounts",
          "Fake Accounts",
          "Fake Accounts",
          "Fake Accounts",
          "Fake Accounts",
          "Fake Accounts",
          "Fake Accounts",
          "Fake Accounts",
          "Fake Accounts",
          "Fake Accounts",
          "Fake Accounts",
          "Fake Accounts",
          "Fake Accounts",
          "Fake Accounts",
          "Fake Accounts",
          "Fake Accounts",
          "Fake Accounts",
          "Fake Accounts",
          "Fake Accounts",
          "Fake Accounts",
          "Fake Accounts",
          "Fake Accounts",
          "Fake Accounts",
          "Fake Accounts",
          "Fake Accounts",
          "Fake Accounts",
          "Fake Accounts",
          "Fake Accounts",
          "Fake Accounts",
          "Fake Accounts",
          "Fake Accounts",
          "Fake Accounts",
          "Fake Accounts",
          "Fake Accounts",
          "Fake Accounts",
          "Fake Accounts",
          "Fake Accounts",
          "Fake Accounts",
          "Fake Accounts",
          "Fake Accounts",
          "Fake Accounts",
          "Fake Accounts",
          "Fake Accounts",
          "Fake Accounts",
          "Fake Accounts",
          "Fake Accounts",
          "Fake Accounts",
          "Fake Accounts",
          "Fake Accounts",
          "Fake Accounts",
          "Fake Accounts",
          "Fake Accounts",
          "Fake Accounts",
          "Fake Accounts",
          "Fake Accounts",
          "Fake Accounts",
          "Fake Accounts",
          "Fake Accounts",
          "Fake Accounts",
          "Fake Accounts",
          "Fake Accounts",
          "Fake Accounts",
          "Fake Accounts",
          "Fake Accounts",
          "Fake Accounts",
          "Fake Accounts",
          "Fake Accounts",
          "Fake Accounts",
          "Fake Accounts",
          "Fake Accounts",
          "Fake Accounts",
          "Fake Accounts",
          "Fake Accounts",
          "Fake Accounts",
          "Fake Accounts",
          "Fake Accounts",
          "Fake Accounts",
          "Fake Accounts",
          "Fake Accounts",
          "Fake Accounts",
          "Fake Accounts",
          "Fake Accounts",
          "Fake Accounts",
          "Fake Accounts",
          "Fake Accounts",
          "Fake Accounts",
          "Fake Accounts",
          "Fake Accounts",
          "Fake Accounts",
          "Fake Accounts",
          "Fake Accounts",
          "Fake Accounts",
          "Fake Accounts",
          "Fake Accounts",
          "Fake Accounts",
          "Fake Accounts",
          "Fake Accounts",
          "Fake Accounts",
          "Fake Accounts",
          "Fake Accounts",
          "Fake Accounts",
          "Fake Accounts",
          "Fake Accounts",
          "Fake Accounts",
          "Fake Accounts",
          "Fake Accounts",
          "Fake Accounts",
          "Fake Accounts",
          "Fake Accounts",
          "Fake Accounts",
          "Fake Accounts",
          "Fake Accounts",
          "Fake Accounts",
          "Fake Accounts",
          "Fake Accounts",
          "Fake Accounts",
          "Fake Accounts",
          "Fake Accounts",
          "Fake Accounts",
          "Fake Accounts",
          "Fake Accounts",
          "Fake Accounts",
          "Fake Accounts",
          "Fake Accounts",
          "Fake Accounts",
          "Fake Accounts",
          "Fake Accounts"
         ],
         "legendgroup": "",
         "name": "",
         "showlegend": true,
         "type": "pie"
        }
       ],
       "layout": {
        "legend": {
         "tracegroupgap": 0
        },
        "piecolorway": [
         "darkred",
         "tomato"
        ],
        "template": {
         "data": {
          "bar": [
           {
            "error_x": {
             "color": "rgb(51,51,51)"
            },
            "error_y": {
             "color": "rgb(51,51,51)"
            },
            "marker": {
             "line": {
              "color": "rgb(237,237,237)",
              "width": 0.5
             },
             "pattern": {
              "fillmode": "overlay",
              "size": 10,
              "solidity": 0.2
             }
            },
            "type": "bar"
           }
          ],
          "barpolar": [
           {
            "marker": {
             "line": {
              "color": "rgb(237,237,237)",
              "width": 0.5
             },
             "pattern": {
              "fillmode": "overlay",
              "size": 10,
              "solidity": 0.2
             }
            },
            "type": "barpolar"
           }
          ],
          "carpet": [
           {
            "aaxis": {
             "endlinecolor": "rgb(51,51,51)",
             "gridcolor": "white",
             "linecolor": "white",
             "minorgridcolor": "white",
             "startlinecolor": "rgb(51,51,51)"
            },
            "baxis": {
             "endlinecolor": "rgb(51,51,51)",
             "gridcolor": "white",
             "linecolor": "white",
             "minorgridcolor": "white",
             "startlinecolor": "rgb(51,51,51)"
            },
            "type": "carpet"
           }
          ],
          "choropleth": [
           {
            "colorbar": {
             "outlinewidth": 0,
             "tickcolor": "rgb(237,237,237)",
             "ticklen": 6,
             "ticks": "inside"
            },
            "type": "choropleth"
           }
          ],
          "contour": [
           {
            "colorbar": {
             "outlinewidth": 0,
             "tickcolor": "rgb(237,237,237)",
             "ticklen": 6,
             "ticks": "inside"
            },
            "colorscale": [
             [
              0,
              "rgb(20,44,66)"
             ],
             [
              1,
              "rgb(90,179,244)"
             ]
            ],
            "type": "contour"
           }
          ],
          "contourcarpet": [
           {
            "colorbar": {
             "outlinewidth": 0,
             "tickcolor": "rgb(237,237,237)",
             "ticklen": 6,
             "ticks": "inside"
            },
            "type": "contourcarpet"
           }
          ],
          "heatmap": [
           {
            "colorbar": {
             "outlinewidth": 0,
             "tickcolor": "rgb(237,237,237)",
             "ticklen": 6,
             "ticks": "inside"
            },
            "colorscale": [
             [
              0,
              "rgb(20,44,66)"
             ],
             [
              1,
              "rgb(90,179,244)"
             ]
            ],
            "type": "heatmap"
           }
          ],
          "heatmapgl": [
           {
            "colorbar": {
             "outlinewidth": 0,
             "tickcolor": "rgb(237,237,237)",
             "ticklen": 6,
             "ticks": "inside"
            },
            "colorscale": [
             [
              0,
              "rgb(20,44,66)"
             ],
             [
              1,
              "rgb(90,179,244)"
             ]
            ],
            "type": "heatmapgl"
           }
          ],
          "histogram": [
           {
            "marker": {
             "pattern": {
              "fillmode": "overlay",
              "size": 10,
              "solidity": 0.2
             }
            },
            "type": "histogram"
           }
          ],
          "histogram2d": [
           {
            "colorbar": {
             "outlinewidth": 0,
             "tickcolor": "rgb(237,237,237)",
             "ticklen": 6,
             "ticks": "inside"
            },
            "colorscale": [
             [
              0,
              "rgb(20,44,66)"
             ],
             [
              1,
              "rgb(90,179,244)"
             ]
            ],
            "type": "histogram2d"
           }
          ],
          "histogram2dcontour": [
           {
            "colorbar": {
             "outlinewidth": 0,
             "tickcolor": "rgb(237,237,237)",
             "ticklen": 6,
             "ticks": "inside"
            },
            "colorscale": [
             [
              0,
              "rgb(20,44,66)"
             ],
             [
              1,
              "rgb(90,179,244)"
             ]
            ],
            "type": "histogram2dcontour"
           }
          ],
          "mesh3d": [
           {
            "colorbar": {
             "outlinewidth": 0,
             "tickcolor": "rgb(237,237,237)",
             "ticklen": 6,
             "ticks": "inside"
            },
            "type": "mesh3d"
           }
          ],
          "parcoords": [
           {
            "line": {
             "colorbar": {
              "outlinewidth": 0,
              "tickcolor": "rgb(237,237,237)",
              "ticklen": 6,
              "ticks": "inside"
             }
            },
            "type": "parcoords"
           }
          ],
          "pie": [
           {
            "automargin": true,
            "type": "pie"
           }
          ],
          "scatter": [
           {
            "fillpattern": {
             "fillmode": "overlay",
             "size": 10,
             "solidity": 0.2
            },
            "type": "scatter"
           }
          ],
          "scatter3d": [
           {
            "line": {
             "colorbar": {
              "outlinewidth": 0,
              "tickcolor": "rgb(237,237,237)",
              "ticklen": 6,
              "ticks": "inside"
             }
            },
            "marker": {
             "colorbar": {
              "outlinewidth": 0,
              "tickcolor": "rgb(237,237,237)",
              "ticklen": 6,
              "ticks": "inside"
             }
            },
            "type": "scatter3d"
           }
          ],
          "scattercarpet": [
           {
            "marker": {
             "colorbar": {
              "outlinewidth": 0,
              "tickcolor": "rgb(237,237,237)",
              "ticklen": 6,
              "ticks": "inside"
             }
            },
            "type": "scattercarpet"
           }
          ],
          "scattergeo": [
           {
            "marker": {
             "colorbar": {
              "outlinewidth": 0,
              "tickcolor": "rgb(237,237,237)",
              "ticklen": 6,
              "ticks": "inside"
             }
            },
            "type": "scattergeo"
           }
          ],
          "scattergl": [
           {
            "marker": {
             "colorbar": {
              "outlinewidth": 0,
              "tickcolor": "rgb(237,237,237)",
              "ticklen": 6,
              "ticks": "inside"
             }
            },
            "type": "scattergl"
           }
          ],
          "scattermapbox": [
           {
            "marker": {
             "colorbar": {
              "outlinewidth": 0,
              "tickcolor": "rgb(237,237,237)",
              "ticklen": 6,
              "ticks": "inside"
             }
            },
            "type": "scattermapbox"
           }
          ],
          "scatterpolar": [
           {
            "marker": {
             "colorbar": {
              "outlinewidth": 0,
              "tickcolor": "rgb(237,237,237)",
              "ticklen": 6,
              "ticks": "inside"
             }
            },
            "type": "scatterpolar"
           }
          ],
          "scatterpolargl": [
           {
            "marker": {
             "colorbar": {
              "outlinewidth": 0,
              "tickcolor": "rgb(237,237,237)",
              "ticklen": 6,
              "ticks": "inside"
             }
            },
            "type": "scatterpolargl"
           }
          ],
          "scatterternary": [
           {
            "marker": {
             "colorbar": {
              "outlinewidth": 0,
              "tickcolor": "rgb(237,237,237)",
              "ticklen": 6,
              "ticks": "inside"
             }
            },
            "type": "scatterternary"
           }
          ],
          "surface": [
           {
            "colorbar": {
             "outlinewidth": 0,
             "tickcolor": "rgb(237,237,237)",
             "ticklen": 6,
             "ticks": "inside"
            },
            "colorscale": [
             [
              0,
              "rgb(20,44,66)"
             ],
             [
              1,
              "rgb(90,179,244)"
             ]
            ],
            "type": "surface"
           }
          ],
          "table": [
           {
            "cells": {
             "fill": {
              "color": "rgb(237,237,237)"
             },
             "line": {
              "color": "white"
             }
            },
            "header": {
             "fill": {
              "color": "rgb(217,217,217)"
             },
             "line": {
              "color": "white"
             }
            },
            "type": "table"
           }
          ]
         },
         "layout": {
          "annotationdefaults": {
           "arrowhead": 0,
           "arrowwidth": 1
          },
          "autotypenumbers": "strict",
          "coloraxis": {
           "colorbar": {
            "outlinewidth": 0,
            "tickcolor": "rgb(237,237,237)",
            "ticklen": 6,
            "ticks": "inside"
           }
          },
          "colorscale": {
           "sequential": [
            [
             0,
             "rgb(20,44,66)"
            ],
            [
             1,
             "rgb(90,179,244)"
            ]
           ],
           "sequentialminus": [
            [
             0,
             "rgb(20,44,66)"
            ],
            [
             1,
             "rgb(90,179,244)"
            ]
           ]
          },
          "colorway": [
           "#F8766D",
           "#A3A500",
           "#00BF7D",
           "#00B0F6",
           "#E76BF3"
          ],
          "font": {
           "color": "rgb(51,51,51)"
          },
          "geo": {
           "bgcolor": "white",
           "lakecolor": "white",
           "landcolor": "rgb(237,237,237)",
           "showlakes": true,
           "showland": true,
           "subunitcolor": "white"
          },
          "hoverlabel": {
           "align": "left"
          },
          "hovermode": "closest",
          "paper_bgcolor": "white",
          "plot_bgcolor": "rgb(237,237,237)",
          "polar": {
           "angularaxis": {
            "gridcolor": "white",
            "linecolor": "white",
            "showgrid": true,
            "tickcolor": "rgb(51,51,51)",
            "ticks": "outside"
           },
           "bgcolor": "rgb(237,237,237)",
           "radialaxis": {
            "gridcolor": "white",
            "linecolor": "white",
            "showgrid": true,
            "tickcolor": "rgb(51,51,51)",
            "ticks": "outside"
           }
          },
          "scene": {
           "xaxis": {
            "backgroundcolor": "rgb(237,237,237)",
            "gridcolor": "white",
            "gridwidth": 2,
            "linecolor": "white",
            "showbackground": true,
            "showgrid": true,
            "tickcolor": "rgb(51,51,51)",
            "ticks": "outside",
            "zerolinecolor": "white"
           },
           "yaxis": {
            "backgroundcolor": "rgb(237,237,237)",
            "gridcolor": "white",
            "gridwidth": 2,
            "linecolor": "white",
            "showbackground": true,
            "showgrid": true,
            "tickcolor": "rgb(51,51,51)",
            "ticks": "outside",
            "zerolinecolor": "white"
           },
           "zaxis": {
            "backgroundcolor": "rgb(237,237,237)",
            "gridcolor": "white",
            "gridwidth": 2,
            "linecolor": "white",
            "showbackground": true,
            "showgrid": true,
            "tickcolor": "rgb(51,51,51)",
            "ticks": "outside",
            "zerolinecolor": "white"
           }
          },
          "shapedefaults": {
           "fillcolor": "black",
           "line": {
            "width": 0
           },
           "opacity": 0.3
          },
          "ternary": {
           "aaxis": {
            "gridcolor": "white",
            "linecolor": "white",
            "showgrid": true,
            "tickcolor": "rgb(51,51,51)",
            "ticks": "outside"
           },
           "baxis": {
            "gridcolor": "white",
            "linecolor": "white",
            "showgrid": true,
            "tickcolor": "rgb(51,51,51)",
            "ticks": "outside"
           },
           "bgcolor": "rgb(237,237,237)",
           "caxis": {
            "gridcolor": "white",
            "linecolor": "white",
            "showgrid": true,
            "tickcolor": "rgb(51,51,51)",
            "ticks": "outside"
           }
          },
          "xaxis": {
           "automargin": true,
           "gridcolor": "white",
           "linecolor": "white",
           "showgrid": true,
           "tickcolor": "rgb(51,51,51)",
           "ticks": "outside",
           "title": {
            "standoff": 15
           },
           "zerolinecolor": "white"
          },
          "yaxis": {
           "automargin": true,
           "gridcolor": "white",
           "linecolor": "white",
           "showgrid": true,
           "tickcolor": "rgb(51,51,51)",
           "ticks": "outside",
           "title": {
            "standoff": 15
           },
           "zerolinecolor": "white"
          }
         }
        },
        "title": {
         "text": "Distribution of Target Variable"
        }
       }
      },
      "text/html": [
       "<div>                            <div id=\"4fe27cfd-f88c-45e8-b7bd-cdc27cc16ef2\" class=\"plotly-graph-div\" style=\"height:525px; width:100%;\"></div>            <script type=\"text/javascript\">                require([\"plotly\"], function(Plotly) {                    window.PLOTLYENV=window.PLOTLYENV || {};                                    if (document.getElementById(\"4fe27cfd-f88c-45e8-b7bd-cdc27cc16ef2\")) {                    Plotly.newPlot(                        \"4fe27cfd-f88c-45e8-b7bd-cdc27cc16ef2\",                        [{\"domain\":{\"x\":[0.0,1.0],\"y\":[0.0,1.0]},\"hovertemplate\":\"fake=%{label}<extra></extra>\",\"labels\":[\"Real Accounts\",\"Real Accounts\",\"Real Accounts\",\"Real Accounts\",\"Real Accounts\",\"Real Accounts\",\"Real Accounts\",\"Real Accounts\",\"Real Accounts\",\"Real Accounts\",\"Real Accounts\",\"Real Accounts\",\"Real Accounts\",\"Real Accounts\",\"Real Accounts\",\"Real Accounts\",\"Real Accounts\",\"Real Accounts\",\"Real Accounts\",\"Real Accounts\",\"Real Accounts\",\"Real Accounts\",\"Real Accounts\",\"Real Accounts\",\"Real Accounts\",\"Real Accounts\",\"Real Accounts\",\"Real Accounts\",\"Real Accounts\",\"Real Accounts\",\"Real Accounts\",\"Real Accounts\",\"Real Accounts\",\"Real Accounts\",\"Real Accounts\",\"Real Accounts\",\"Real Accounts\",\"Real Accounts\",\"Real Accounts\",\"Real Accounts\",\"Real Accounts\",\"Real Accounts\",\"Real Accounts\",\"Real Accounts\",\"Real Accounts\",\"Real Accounts\",\"Real Accounts\",\"Real Accounts\",\"Real Accounts\",\"Real Accounts\",\"Real Accounts\",\"Real Accounts\",\"Real Accounts\",\"Real Accounts\",\"Real Accounts\",\"Real Accounts\",\"Real Accounts\",\"Real Accounts\",\"Real Accounts\",\"Real Accounts\",\"Real Accounts\",\"Real Accounts\",\"Real Accounts\",\"Real Accounts\",\"Real Accounts\",\"Real Accounts\",\"Real Accounts\",\"Real Accounts\",\"Real Accounts\",\"Real Accounts\",\"Real Accounts\",\"Real Accounts\",\"Real Accounts\",\"Real Accounts\",\"Real Accounts\",\"Real Accounts\",\"Real Accounts\",\"Real Accounts\",\"Real Accounts\",\"Real Accounts\",\"Real Accounts\",\"Real Accounts\",\"Real Accounts\",\"Real Accounts\",\"Real Accounts\",\"Real Accounts\",\"Real Accounts\",\"Real Accounts\",\"Real Accounts\",\"Real Accounts\",\"Real Accounts\",\"Real Accounts\",\"Real Accounts\",\"Real Accounts\",\"Real Accounts\",\"Real Accounts\",\"Real Accounts\",\"Real Accounts\",\"Real Accounts\",\"Real Accounts\",\"Real Accounts\",\"Real Accounts\",\"Real Accounts\",\"Real Accounts\",\"Real Accounts\",\"Real Accounts\",\"Real Accounts\",\"Real Accounts\",\"Real Accounts\",\"Real Accounts\",\"Real Accounts\",\"Real Accounts\",\"Real Accounts\",\"Real Accounts\",\"Real Accounts\",\"Real Accounts\",\"Real Accounts\",\"Real Accounts\",\"Real Accounts\",\"Real Accounts\",\"Real Accounts\",\"Real Accounts\",\"Real Accounts\",\"Real Accounts\",\"Real Accounts\",\"Real Accounts\",\"Real Accounts\",\"Real Accounts\",\"Real Accounts\",\"Real Accounts\",\"Real Accounts\",\"Real Accounts\",\"Real Accounts\",\"Real Accounts\",\"Real Accounts\",\"Real Accounts\",\"Real Accounts\",\"Real Accounts\",\"Real Accounts\",\"Real Accounts\",\"Real Accounts\",\"Real Accounts\",\"Real Accounts\",\"Real Accounts\",\"Real Accounts\",\"Real Accounts\",\"Real Accounts\",\"Real Accounts\",\"Real Accounts\",\"Real Accounts\",\"Real Accounts\",\"Real Accounts\",\"Real Accounts\",\"Real Accounts\",\"Real Accounts\",\"Real Accounts\",\"Real Accounts\",\"Real Accounts\",\"Real Accounts\",\"Real Accounts\",\"Real Accounts\",\"Real Accounts\",\"Real Accounts\",\"Real Accounts\",\"Real Accounts\",\"Real Accounts\",\"Real Accounts\",\"Real Accounts\",\"Real Accounts\",\"Real Accounts\",\"Real Accounts\",\"Real Accounts\",\"Real Accounts\",\"Real Accounts\",\"Real Accounts\",\"Real Accounts\",\"Real Accounts\",\"Real Accounts\",\"Real Accounts\",\"Real Accounts\",\"Real Accounts\",\"Real Accounts\",\"Real Accounts\",\"Real Accounts\",\"Real Accounts\",\"Real Accounts\",\"Real Accounts\",\"Real Accounts\",\"Real Accounts\",\"Real Accounts\",\"Real Accounts\",\"Real Accounts\",\"Real Accounts\",\"Real Accounts\",\"Real Accounts\",\"Real Accounts\",\"Real Accounts\",\"Real Accounts\",\"Real Accounts\",\"Real Accounts\",\"Real Accounts\",\"Real Accounts\",\"Real Accounts\",\"Real Accounts\",\"Real Accounts\",\"Real Accounts\",\"Real Accounts\",\"Real Accounts\",\"Real Accounts\",\"Real Accounts\",\"Real Accounts\",\"Real Accounts\",\"Real Accounts\",\"Real Accounts\",\"Real Accounts\",\"Real Accounts\",\"Real Accounts\",\"Real Accounts\",\"Real Accounts\",\"Real Accounts\",\"Real Accounts\",\"Real Accounts\",\"Real Accounts\",\"Real Accounts\",\"Real Accounts\",\"Real Accounts\",\"Real Accounts\",\"Real Accounts\",\"Real Accounts\",\"Real Accounts\",\"Real Accounts\",\"Real Accounts\",\"Real Accounts\",\"Real Accounts\",\"Real Accounts\",\"Real Accounts\",\"Real Accounts\",\"Real Accounts\",\"Real Accounts\",\"Real Accounts\",\"Real Accounts\",\"Real Accounts\",\"Real Accounts\",\"Real Accounts\",\"Real Accounts\",\"Real Accounts\",\"Real Accounts\",\"Real Accounts\",\"Real Accounts\",\"Real Accounts\",\"Real Accounts\",\"Real Accounts\",\"Real Accounts\",\"Real Accounts\",\"Real Accounts\",\"Real Accounts\",\"Real Accounts\",\"Real Accounts\",\"Real Accounts\",\"Real Accounts\",\"Real Accounts\",\"Real Accounts\",\"Real Accounts\",\"Real Accounts\",\"Real Accounts\",\"Real Accounts\",\"Real Accounts\",\"Real Accounts\",\"Real Accounts\",\"Real Accounts\",\"Real Accounts\",\"Real Accounts\",\"Real Accounts\",\"Real Accounts\",\"Real Accounts\",\"Real Accounts\",\"Real Accounts\",\"Real Accounts\",\"Real Accounts\",\"Real Accounts\",\"Real Accounts\",\"Real Accounts\",\"Real Accounts\",\"Real Accounts\",\"Real Accounts\",\"Real Accounts\",\"Real Accounts\",\"Fake Accounts\",\"Fake Accounts\",\"Fake Accounts\",\"Fake Accounts\",\"Fake Accounts\",\"Fake Accounts\",\"Fake Accounts\",\"Fake Accounts\",\"Fake Accounts\",\"Fake Accounts\",\"Fake Accounts\",\"Fake Accounts\",\"Fake Accounts\",\"Fake Accounts\",\"Fake Accounts\",\"Fake Accounts\",\"Fake Accounts\",\"Fake Accounts\",\"Fake Accounts\",\"Fake Accounts\",\"Fake Accounts\",\"Fake Accounts\",\"Fake Accounts\",\"Fake Accounts\",\"Fake Accounts\",\"Fake Accounts\",\"Fake Accounts\",\"Fake Accounts\",\"Fake Accounts\",\"Fake Accounts\",\"Fake Accounts\",\"Fake Accounts\",\"Fake Accounts\",\"Fake Accounts\",\"Fake Accounts\",\"Fake Accounts\",\"Fake Accounts\",\"Fake Accounts\",\"Fake Accounts\",\"Fake Accounts\",\"Fake Accounts\",\"Fake Accounts\",\"Fake Accounts\",\"Fake Accounts\",\"Fake Accounts\",\"Fake Accounts\",\"Fake Accounts\",\"Fake Accounts\",\"Fake Accounts\",\"Fake Accounts\",\"Fake Accounts\",\"Fake Accounts\",\"Fake Accounts\",\"Fake Accounts\",\"Fake Accounts\",\"Fake Accounts\",\"Fake Accounts\",\"Fake Accounts\",\"Fake Accounts\",\"Fake Accounts\",\"Fake Accounts\",\"Fake Accounts\",\"Fake Accounts\",\"Fake Accounts\",\"Fake Accounts\",\"Fake Accounts\",\"Fake Accounts\",\"Fake Accounts\",\"Fake Accounts\",\"Fake Accounts\",\"Fake Accounts\",\"Fake Accounts\",\"Fake Accounts\",\"Fake Accounts\",\"Fake Accounts\",\"Fake Accounts\",\"Fake Accounts\",\"Fake Accounts\",\"Fake Accounts\",\"Fake Accounts\",\"Fake Accounts\",\"Fake Accounts\",\"Fake Accounts\",\"Fake Accounts\",\"Fake Accounts\",\"Fake Accounts\",\"Fake Accounts\",\"Fake Accounts\",\"Fake Accounts\",\"Fake Accounts\",\"Fake Accounts\",\"Fake Accounts\",\"Fake Accounts\",\"Fake Accounts\",\"Fake Accounts\",\"Fake Accounts\",\"Fake Accounts\",\"Fake Accounts\",\"Fake Accounts\",\"Fake Accounts\",\"Fake Accounts\",\"Fake Accounts\",\"Fake Accounts\",\"Fake Accounts\",\"Fake Accounts\",\"Fake Accounts\",\"Fake Accounts\",\"Fake Accounts\",\"Fake Accounts\",\"Fake Accounts\",\"Fake Accounts\",\"Fake Accounts\",\"Fake Accounts\",\"Fake Accounts\",\"Fake Accounts\",\"Fake Accounts\",\"Fake Accounts\",\"Fake Accounts\",\"Fake Accounts\",\"Fake Accounts\",\"Fake Accounts\",\"Fake Accounts\",\"Fake Accounts\",\"Fake Accounts\",\"Fake Accounts\",\"Fake Accounts\",\"Fake Accounts\",\"Fake Accounts\",\"Fake Accounts\",\"Fake Accounts\",\"Fake Accounts\",\"Fake Accounts\",\"Fake Accounts\",\"Fake Accounts\",\"Fake Accounts\",\"Fake Accounts\",\"Fake Accounts\",\"Fake Accounts\",\"Fake Accounts\",\"Fake Accounts\",\"Fake Accounts\",\"Fake Accounts\",\"Fake Accounts\",\"Fake Accounts\",\"Fake Accounts\",\"Fake Accounts\",\"Fake Accounts\",\"Fake Accounts\",\"Fake Accounts\",\"Fake Accounts\",\"Fake Accounts\",\"Fake Accounts\",\"Fake Accounts\",\"Fake Accounts\",\"Fake Accounts\",\"Fake Accounts\",\"Fake Accounts\",\"Fake Accounts\",\"Fake Accounts\",\"Fake Accounts\",\"Fake Accounts\",\"Fake Accounts\",\"Fake Accounts\",\"Fake Accounts\",\"Fake Accounts\",\"Fake Accounts\",\"Fake Accounts\",\"Fake Accounts\",\"Fake Accounts\",\"Fake Accounts\",\"Fake Accounts\",\"Fake Accounts\",\"Fake Accounts\",\"Fake Accounts\",\"Fake Accounts\",\"Fake Accounts\",\"Fake Accounts\",\"Fake Accounts\",\"Fake Accounts\",\"Fake Accounts\",\"Fake Accounts\",\"Fake Accounts\",\"Fake Accounts\",\"Fake Accounts\",\"Fake Accounts\",\"Fake Accounts\",\"Fake Accounts\",\"Fake Accounts\",\"Fake Accounts\",\"Fake Accounts\",\"Fake Accounts\",\"Fake Accounts\",\"Fake Accounts\",\"Fake Accounts\",\"Fake Accounts\",\"Fake Accounts\",\"Fake Accounts\",\"Fake Accounts\",\"Fake Accounts\",\"Fake Accounts\",\"Fake Accounts\",\"Fake Accounts\",\"Fake Accounts\",\"Fake Accounts\",\"Fake Accounts\",\"Fake Accounts\",\"Fake Accounts\",\"Fake Accounts\",\"Fake Accounts\",\"Fake Accounts\",\"Fake Accounts\",\"Fake Accounts\",\"Fake Accounts\",\"Fake Accounts\",\"Fake Accounts\",\"Fake Accounts\",\"Fake Accounts\",\"Fake Accounts\",\"Fake Accounts\",\"Fake Accounts\",\"Fake Accounts\",\"Fake Accounts\",\"Fake Accounts\",\"Fake Accounts\",\"Fake Accounts\",\"Fake Accounts\",\"Fake Accounts\",\"Fake Accounts\",\"Fake Accounts\",\"Fake Accounts\",\"Fake Accounts\",\"Fake Accounts\",\"Fake Accounts\",\"Fake Accounts\",\"Fake Accounts\",\"Fake Accounts\",\"Fake Accounts\",\"Fake Accounts\",\"Fake Accounts\",\"Fake Accounts\",\"Fake Accounts\",\"Fake Accounts\",\"Fake Accounts\",\"Fake Accounts\",\"Fake Accounts\",\"Fake Accounts\",\"Fake Accounts\",\"Fake Accounts\",\"Fake Accounts\",\"Fake Accounts\",\"Fake Accounts\",\"Fake Accounts\",\"Fake Accounts\",\"Fake Accounts\",\"Fake Accounts\",\"Fake Accounts\",\"Fake Accounts\",\"Fake Accounts\",\"Fake Accounts\",\"Fake Accounts\",\"Fake Accounts\",\"Fake Accounts\",\"Fake Accounts\",\"Fake Accounts\",\"Fake Accounts\",\"Fake Accounts\",\"Fake Accounts\",\"Fake Accounts\",\"Fake Accounts\",\"Fake Accounts\",\"Fake Accounts\",\"Fake Accounts\",\"Fake Accounts\",\"Fake Accounts\",\"Fake Accounts\",\"Fake Accounts\",\"Fake Accounts\",\"Fake Accounts\",\"Fake Accounts\",\"Fake Accounts\",\"Fake Accounts\",\"Fake Accounts\",\"Fake Accounts\",\"Fake Accounts\",\"Fake Accounts\",\"Fake Accounts\",\"Fake Accounts\"],\"legendgroup\":\"\",\"name\":\"\",\"showlegend\":true,\"type\":\"pie\"}],                        {\"template\":{\"data\":{\"barpolar\":[{\"marker\":{\"line\":{\"color\":\"rgb(237,237,237)\",\"width\":0.5},\"pattern\":{\"fillmode\":\"overlay\",\"size\":10,\"solidity\":0.2}},\"type\":\"barpolar\"}],\"bar\":[{\"error_x\":{\"color\":\"rgb(51,51,51)\"},\"error_y\":{\"color\":\"rgb(51,51,51)\"},\"marker\":{\"line\":{\"color\":\"rgb(237,237,237)\",\"width\":0.5},\"pattern\":{\"fillmode\":\"overlay\",\"size\":10,\"solidity\":0.2}},\"type\":\"bar\"}],\"carpet\":[{\"aaxis\":{\"endlinecolor\":\"rgb(51,51,51)\",\"gridcolor\":\"white\",\"linecolor\":\"white\",\"minorgridcolor\":\"white\",\"startlinecolor\":\"rgb(51,51,51)\"},\"baxis\":{\"endlinecolor\":\"rgb(51,51,51)\",\"gridcolor\":\"white\",\"linecolor\":\"white\",\"minorgridcolor\":\"white\",\"startlinecolor\":\"rgb(51,51,51)\"},\"type\":\"carpet\"}],\"choropleth\":[{\"colorbar\":{\"outlinewidth\":0,\"tickcolor\":\"rgb(237,237,237)\",\"ticklen\":6,\"ticks\":\"inside\"},\"type\":\"choropleth\"}],\"contourcarpet\":[{\"colorbar\":{\"outlinewidth\":0,\"tickcolor\":\"rgb(237,237,237)\",\"ticklen\":6,\"ticks\":\"inside\"},\"type\":\"contourcarpet\"}],\"contour\":[{\"colorbar\":{\"outlinewidth\":0,\"tickcolor\":\"rgb(237,237,237)\",\"ticklen\":6,\"ticks\":\"inside\"},\"colorscale\":[[0,\"rgb(20,44,66)\"],[1,\"rgb(90,179,244)\"]],\"type\":\"contour\"}],\"heatmapgl\":[{\"colorbar\":{\"outlinewidth\":0,\"tickcolor\":\"rgb(237,237,237)\",\"ticklen\":6,\"ticks\":\"inside\"},\"colorscale\":[[0,\"rgb(20,44,66)\"],[1,\"rgb(90,179,244)\"]],\"type\":\"heatmapgl\"}],\"heatmap\":[{\"colorbar\":{\"outlinewidth\":0,\"tickcolor\":\"rgb(237,237,237)\",\"ticklen\":6,\"ticks\":\"inside\"},\"colorscale\":[[0,\"rgb(20,44,66)\"],[1,\"rgb(90,179,244)\"]],\"type\":\"heatmap\"}],\"histogram2dcontour\":[{\"colorbar\":{\"outlinewidth\":0,\"tickcolor\":\"rgb(237,237,237)\",\"ticklen\":6,\"ticks\":\"inside\"},\"colorscale\":[[0,\"rgb(20,44,66)\"],[1,\"rgb(90,179,244)\"]],\"type\":\"histogram2dcontour\"}],\"histogram2d\":[{\"colorbar\":{\"outlinewidth\":0,\"tickcolor\":\"rgb(237,237,237)\",\"ticklen\":6,\"ticks\":\"inside\"},\"colorscale\":[[0,\"rgb(20,44,66)\"],[1,\"rgb(90,179,244)\"]],\"type\":\"histogram2d\"}],\"histogram\":[{\"marker\":{\"pattern\":{\"fillmode\":\"overlay\",\"size\":10,\"solidity\":0.2}},\"type\":\"histogram\"}],\"mesh3d\":[{\"colorbar\":{\"outlinewidth\":0,\"tickcolor\":\"rgb(237,237,237)\",\"ticklen\":6,\"ticks\":\"inside\"},\"type\":\"mesh3d\"}],\"parcoords\":[{\"line\":{\"colorbar\":{\"outlinewidth\":0,\"tickcolor\":\"rgb(237,237,237)\",\"ticklen\":6,\"ticks\":\"inside\"}},\"type\":\"parcoords\"}],\"pie\":[{\"automargin\":true,\"type\":\"pie\"}],\"scatter3d\":[{\"line\":{\"colorbar\":{\"outlinewidth\":0,\"tickcolor\":\"rgb(237,237,237)\",\"ticklen\":6,\"ticks\":\"inside\"}},\"marker\":{\"colorbar\":{\"outlinewidth\":0,\"tickcolor\":\"rgb(237,237,237)\",\"ticklen\":6,\"ticks\":\"inside\"}},\"type\":\"scatter3d\"}],\"scattercarpet\":[{\"marker\":{\"colorbar\":{\"outlinewidth\":0,\"tickcolor\":\"rgb(237,237,237)\",\"ticklen\":6,\"ticks\":\"inside\"}},\"type\":\"scattercarpet\"}],\"scattergeo\":[{\"marker\":{\"colorbar\":{\"outlinewidth\":0,\"tickcolor\":\"rgb(237,237,237)\",\"ticklen\":6,\"ticks\":\"inside\"}},\"type\":\"scattergeo\"}],\"scattergl\":[{\"marker\":{\"colorbar\":{\"outlinewidth\":0,\"tickcolor\":\"rgb(237,237,237)\",\"ticklen\":6,\"ticks\":\"inside\"}},\"type\":\"scattergl\"}],\"scattermapbox\":[{\"marker\":{\"colorbar\":{\"outlinewidth\":0,\"tickcolor\":\"rgb(237,237,237)\",\"ticklen\":6,\"ticks\":\"inside\"}},\"type\":\"scattermapbox\"}],\"scatterpolargl\":[{\"marker\":{\"colorbar\":{\"outlinewidth\":0,\"tickcolor\":\"rgb(237,237,237)\",\"ticklen\":6,\"ticks\":\"inside\"}},\"type\":\"scatterpolargl\"}],\"scatterpolar\":[{\"marker\":{\"colorbar\":{\"outlinewidth\":0,\"tickcolor\":\"rgb(237,237,237)\",\"ticklen\":6,\"ticks\":\"inside\"}},\"type\":\"scatterpolar\"}],\"scatter\":[{\"fillpattern\":{\"fillmode\":\"overlay\",\"size\":10,\"solidity\":0.2},\"type\":\"scatter\"}],\"scatterternary\":[{\"marker\":{\"colorbar\":{\"outlinewidth\":0,\"tickcolor\":\"rgb(237,237,237)\",\"ticklen\":6,\"ticks\":\"inside\"}},\"type\":\"scatterternary\"}],\"surface\":[{\"colorbar\":{\"outlinewidth\":0,\"tickcolor\":\"rgb(237,237,237)\",\"ticklen\":6,\"ticks\":\"inside\"},\"colorscale\":[[0,\"rgb(20,44,66)\"],[1,\"rgb(90,179,244)\"]],\"type\":\"surface\"}],\"table\":[{\"cells\":{\"fill\":{\"color\":\"rgb(237,237,237)\"},\"line\":{\"color\":\"white\"}},\"header\":{\"fill\":{\"color\":\"rgb(217,217,217)\"},\"line\":{\"color\":\"white\"}},\"type\":\"table\"}]},\"layout\":{\"annotationdefaults\":{\"arrowhead\":0,\"arrowwidth\":1},\"autotypenumbers\":\"strict\",\"coloraxis\":{\"colorbar\":{\"outlinewidth\":0,\"tickcolor\":\"rgb(237,237,237)\",\"ticklen\":6,\"ticks\":\"inside\"}},\"colorscale\":{\"sequential\":[[0,\"rgb(20,44,66)\"],[1,\"rgb(90,179,244)\"]],\"sequentialminus\":[[0,\"rgb(20,44,66)\"],[1,\"rgb(90,179,244)\"]]},\"colorway\":[\"#F8766D\",\"#A3A500\",\"#00BF7D\",\"#00B0F6\",\"#E76BF3\"],\"font\":{\"color\":\"rgb(51,51,51)\"},\"geo\":{\"bgcolor\":\"white\",\"lakecolor\":\"white\",\"landcolor\":\"rgb(237,237,237)\",\"showlakes\":true,\"showland\":true,\"subunitcolor\":\"white\"},\"hoverlabel\":{\"align\":\"left\"},\"hovermode\":\"closest\",\"paper_bgcolor\":\"white\",\"plot_bgcolor\":\"rgb(237,237,237)\",\"polar\":{\"angularaxis\":{\"gridcolor\":\"white\",\"linecolor\":\"white\",\"showgrid\":true,\"tickcolor\":\"rgb(51,51,51)\",\"ticks\":\"outside\"},\"bgcolor\":\"rgb(237,237,237)\",\"radialaxis\":{\"gridcolor\":\"white\",\"linecolor\":\"white\",\"showgrid\":true,\"tickcolor\":\"rgb(51,51,51)\",\"ticks\":\"outside\"}},\"scene\":{\"xaxis\":{\"backgroundcolor\":\"rgb(237,237,237)\",\"gridcolor\":\"white\",\"gridwidth\":2,\"linecolor\":\"white\",\"showbackground\":true,\"showgrid\":true,\"tickcolor\":\"rgb(51,51,51)\",\"ticks\":\"outside\",\"zerolinecolor\":\"white\"},\"yaxis\":{\"backgroundcolor\":\"rgb(237,237,237)\",\"gridcolor\":\"white\",\"gridwidth\":2,\"linecolor\":\"white\",\"showbackground\":true,\"showgrid\":true,\"tickcolor\":\"rgb(51,51,51)\",\"ticks\":\"outside\",\"zerolinecolor\":\"white\"},\"zaxis\":{\"backgroundcolor\":\"rgb(237,237,237)\",\"gridcolor\":\"white\",\"gridwidth\":2,\"linecolor\":\"white\",\"showbackground\":true,\"showgrid\":true,\"tickcolor\":\"rgb(51,51,51)\",\"ticks\":\"outside\",\"zerolinecolor\":\"white\"}},\"shapedefaults\":{\"fillcolor\":\"black\",\"line\":{\"width\":0},\"opacity\":0.3},\"ternary\":{\"aaxis\":{\"gridcolor\":\"white\",\"linecolor\":\"white\",\"showgrid\":true,\"tickcolor\":\"rgb(51,51,51)\",\"ticks\":\"outside\"},\"baxis\":{\"gridcolor\":\"white\",\"linecolor\":\"white\",\"showgrid\":true,\"tickcolor\":\"rgb(51,51,51)\",\"ticks\":\"outside\"},\"bgcolor\":\"rgb(237,237,237)\",\"caxis\":{\"gridcolor\":\"white\",\"linecolor\":\"white\",\"showgrid\":true,\"tickcolor\":\"rgb(51,51,51)\",\"ticks\":\"outside\"}},\"xaxis\":{\"automargin\":true,\"gridcolor\":\"white\",\"linecolor\":\"white\",\"showgrid\":true,\"tickcolor\":\"rgb(51,51,51)\",\"ticks\":\"outside\",\"title\":{\"standoff\":15},\"zerolinecolor\":\"white\"},\"yaxis\":{\"automargin\":true,\"gridcolor\":\"white\",\"linecolor\":\"white\",\"showgrid\":true,\"tickcolor\":\"rgb(51,51,51)\",\"ticks\":\"outside\",\"title\":{\"standoff\":15},\"zerolinecolor\":\"white\"}}},\"legend\":{\"tracegroupgap\":0},\"title\":{\"text\":\"Distribution of Target Variable\"},\"piecolorway\":[\"darkred\",\"tomato\"]},                        {\"responsive\": true}                    ).then(function(){\n",
       "                            \n",
       "var gd = document.getElementById('4fe27cfd-f88c-45e8-b7bd-cdc27cc16ef2');\n",
       "var x = new MutationObserver(function (mutations, observer) {{\n",
       "        var display = window.getComputedStyle(gd).display;\n",
       "        if (!display || display === 'none') {{\n",
       "            console.log([gd, 'removed!']);\n",
       "            Plotly.purge(gd);\n",
       "            observer.disconnect();\n",
       "        }}\n",
       "}});\n",
       "\n",
       "// Listen for the removal of the full notebook cells\n",
       "var notebookContainer = gd.closest('#notebook-container');\n",
       "if (notebookContainer) {{\n",
       "    x.observe(notebookContainer, {childList: true});\n",
       "}}\n",
       "\n",
       "// Listen for the clearing of the current output cell\n",
       "var outputEl = gd.closest('.output');\n",
       "if (outputEl) {{\n",
       "    x.observe(outputEl, {childList: true});\n",
       "}}\n",
       "\n",
       "                        })                };                });            </script>        </div>"
      ]
     },
     "metadata": {},
     "output_type": "display_data"
    }
   ],
   "source": [
    "fig = px.pie(legend_df, names='fake', title='Distribution of Target Variable', color_discrete_sequence = ['darkred','tomato'])\n",
    "fig.update_layout(template = 'ggplot2')\n",
    "fig.show()"
   ]
  },
  {
   "cell_type": "markdown",
   "id": "aa589ecc",
   "metadata": {},
   "source": [
    "### Baseline and Feature Selection"
   ]
  },
  {
   "cell_type": "markdown",
   "id": "a618a31e",
   "metadata": {},
   "source": [
    "The baseline model serves as a reference point to compare the performance of other models and to also comprehend what roles each feature is playing when it comes to predicting the target variable. \n",
    "We can use the baseline model to measure the quality of our variables and even to look for the most relevant variables for feature engineering.\n",
    "\n",
    "Random Forest Classifier is selected as a baseline, and the accuracy will be measured with the AUC-ROC score."
   ]
  },
  {
   "cell_type": "code",
   "execution_count": 22,
   "id": "7b1d96cb",
   "metadata": {},
   "outputs": [],
   "source": [
    "X = training_data.drop('fake', axis = 1)\n",
    "y = training_data['fake']"
   ]
  },
  {
   "cell_type": "code",
   "execution_count": 23,
   "id": "19ce08b9",
   "metadata": {},
   "outputs": [],
   "source": [
    "X_train, X_val, y_train, y_val = train_test_split(X, y, test_size = 0.3, random_state = 42)"
   ]
  },
  {
   "cell_type": "code",
   "execution_count": 24,
   "id": "5ab54ec1",
   "metadata": {},
   "outputs": [],
   "source": [
    "random = RandomForestClassifier(random_state = 42)\n",
    "random.fit(X_train, y_train) \n",
    "\n",
    "y_pred = random.predict(X_val) "
   ]
  },
  {
   "cell_type": "code",
   "execution_count": 25,
   "id": "b1ae0134",
   "metadata": {},
   "outputs": [
    {
     "name": "stdout",
     "output_type": "stream",
     "text": [
      "AUC-ROC Baseline:  0.92\n"
     ]
    }
   ],
   "source": [
    "fpr, tpr, thresholds = roc_curve(y_val, y_pred)\n",
    "roc_df = pd.DataFrame({'FPR': fpr, 'TPR': tpr, 'Thresholds': thresholds})\n",
    "\n",
    "baseline_score = roc_auc_score(y_val, y_pred)\n",
    "print('AUC-ROC Baseline: ', baseline_score.round(2))"
   ]
  },
  {
   "cell_type": "code",
   "execution_count": 26,
   "id": "b3f5593e",
   "metadata": {},
   "outputs": [
    {
     "data": {
      "image/png": "[encoded data removed]",
      "text/plain": [
       "<Figure size 432x288 with 1 Axes>"
      ]
     },
     "metadata": {},
     "output_type": "display_data"
    },
    {
     "name": "stdout",
     "output_type": "stream",
     "text": [
      "\n",
      "\n",
      "y_val value counts\n",
      "0    94\n",
      "1    79\n",
      "Name: fake, dtype: int64\n",
      "\n",
      "\n",
      "predicted value counts\n",
      "(array([0, 1], dtype=int64), array([98, 75], dtype=int64))\n"
     ]
    }
   ],
   "source": [
    "sns.set_style('darkgrid')\n",
    "sns.lineplot(x='FPR', y='TPR', data=roc_df, label=f'RandomForest Classifier(AUC-ROC = {baseline_score.round(2)})')\n",
    "plt.plot([0, 1], [0, 1], linestyle='--', label='Random Guessing')\n",
    "plt.title('AUC-ROC Curve')\n",
    "plt.xlabel('False Positive Rate')\n",
    "plt.ylabel('True Positive Rate')\n",
    "plt.legend()\n",
    "plt.show()\n",
    "print('\\n')\n",
    "print('y_val value counts')\n",
    "print(y_val.value_counts())\n",
    "print('\\n')\n",
    "print('predicted value counts')\n",
    "print(np.unique(y_pred, return_counts=True))"
   ]
  },
  {
   "cell_type": "markdown",
   "id": "60559b8f",
   "metadata": {},
   "source": [
    "The baseline model perfomed well, achieving an AUC-ROC score = 0.92\n",
    "\n",
    "In the original y_val set, there were 94 genuine accounts and 79 fake ones. \n",
    "Our classifier's predictions consisted of 98 genuine accounts and 75 fake ones.\n",
    "\n",
    "Moving on to feature selection, we'll leverage the SHAP library. A bar plot that highlights the significance of each feature in predicting our target variable."
   ]
  },
  {
   "cell_type": "code",
   "execution_count": 28,
   "id": "3f0ed0ec",
   "metadata": {},
   "outputs": [
    {
     "data": {
      "image/png": "[encoded data removed]",
      "text/plain": [
       "<Figure size 576x424.8 with 1 Axes>"
      ]
     },
     "metadata": {},
     "output_type": "display_data"
    }
   ],
   "source": [
    "# Plotting Feature Importance plot\n",
    "shap_values = shap.TreeExplainer(random).shap_values(X_val)\n",
    "shap.summary_plot(shap_values, X_val, plot_type=\"bar\")"
   ]
  },
  {
   "cell_type": "markdown",
   "id": "cf3f6e8e",
   "metadata": {},
   "source": [
    "It seems that, overall, all features impacted the output in someway or another, so we don't have any feature acting as a dead weight.\n",
    "\n",
    "Knowing what the most relevant features were, we can now perform some feature engineering to create new features, preferably deriving from relevant attributes, to try to enhance the robustness of our final models' predicting abilities."
   ]
  },
  {
   "cell_type": "markdown",
   "id": "2e8f5c4e",
   "metadata": {},
   "source": [
    "## Engineering New Features"
   ]
  },
  {
   "cell_type": "markdown",
   "id": "3341f03d",
   "metadata": {},
   "source": [
    "Upon examining the data, I've identified two potential features that might be significant in predicting the target variable. Here they are:\n",
    "\n",
    "* Activity Ratio: \n",
    "This metric gauges an account's posting activity relative to its follower count. It's calculated as: Activity Ratio = Number of Posts /Number of Followers\n",
    "\n",
    "* Followers > #Follows?: \n",
    "Intuitively, I suspect that a large portion of fake accounts might have fewer followers compared to the number of accounts they follow. This binary feature will assign a value of either 0 or 1 to each account. A value of 1 indicates that the account has more followers than the number of accounts it follows. This could emerge as a significant predictor for our target.\n",
    "\n",
    "These new features could provide additional insights and enhance the model's predictive accuracy."
   ]
  },
  {
   "cell_type": "code",
   "execution_count": 30,
   "id": "7449f942",
   "metadata": {},
   "outputs": [],
   "source": [
    "# create activity ratio feature\n",
    "training_data['activity ratio'] = np.round(training_data['#posts'] / training_data['#followers'], 2)\n",
    "\n",
    "# Does the account have more followers than follows?\n",
    "training_data['#followers > #follows?'] = (training_data['#followers'] > training_data['#follows']).astype(int)"
   ]
  },
  {
   "cell_type": "code",
   "execution_count": 31,
   "id": "92f70307",
   "metadata": {},
   "outputs": [
    {
     "data": {
      "text/html": [
       "<div>\n",
       "<style scoped>\n",
       "    .dataframe tbody tr th:only-of-type {\n",
       "        vertical-align: middle;\n",
       "    }\n",
       "\n",
       "    .dataframe tbody tr th {\n",
       "        vertical-align: top;\n",
       "    }\n",
       "\n",
       "    .dataframe thead th {\n",
       "        text-align: right;\n",
       "    }\n",
       "</style>\n",
       "<table border=\"1\" class=\"dataframe\">\n",
       "  <thead>\n",
       "    <tr style=\"text-align: right;\">\n",
       "      <th></th>\n",
       "      <th>profile pic</th>\n",
       "      <th>nums/length username</th>\n",
       "      <th>fullname words</th>\n",
       "      <th>nums/length fullname</th>\n",
       "      <th>name==username</th>\n",
       "      <th>description length</th>\n",
       "      <th>external URL</th>\n",
       "      <th>private</th>\n",
       "      <th>#posts</th>\n",
       "      <th>#followers</th>\n",
       "      <th>#follows</th>\n",
       "      <th>fake</th>\n",
       "      <th>activity ratio</th>\n",
       "      <th>#followers &gt; #follows?</th>\n",
       "    </tr>\n",
       "  </thead>\n",
       "  <tbody>\n",
       "    <tr>\n",
       "      <th>0</th>\n",
       "      <td>1</td>\n",
       "      <td>0.27</td>\n",
       "      <td>0</td>\n",
       "      <td>0.00</td>\n",
       "      <td>0</td>\n",
       "      <td>53</td>\n",
       "      <td>0</td>\n",
       "      <td>0</td>\n",
       "      <td>32</td>\n",
       "      <td>1000</td>\n",
       "      <td>955</td>\n",
       "      <td>0</td>\n",
       "      <td>0.03</td>\n",
       "      <td>1</td>\n",
       "    </tr>\n",
       "    <tr>\n",
       "      <th>1</th>\n",
       "      <td>1</td>\n",
       "      <td>0.00</td>\n",
       "      <td>2</td>\n",
       "      <td>0.00</td>\n",
       "      <td>0</td>\n",
       "      <td>44</td>\n",
       "      <td>0</td>\n",
       "      <td>0</td>\n",
       "      <td>286</td>\n",
       "      <td>2740</td>\n",
       "      <td>533</td>\n",
       "      <td>0</td>\n",
       "      <td>0.10</td>\n",
       "      <td>1</td>\n",
       "    </tr>\n",
       "    <tr>\n",
       "      <th>2</th>\n",
       "      <td>1</td>\n",
       "      <td>0.10</td>\n",
       "      <td>2</td>\n",
       "      <td>0.00</td>\n",
       "      <td>0</td>\n",
       "      <td>0</td>\n",
       "      <td>0</td>\n",
       "      <td>1</td>\n",
       "      <td>13</td>\n",
       "      <td>159</td>\n",
       "      <td>98</td>\n",
       "      <td>0</td>\n",
       "      <td>0.08</td>\n",
       "      <td>1</td>\n",
       "    </tr>\n",
       "    <tr>\n",
       "      <th>3</th>\n",
       "      <td>1</td>\n",
       "      <td>0.00</td>\n",
       "      <td>1</td>\n",
       "      <td>0.00</td>\n",
       "      <td>0</td>\n",
       "      <td>82</td>\n",
       "      <td>0</td>\n",
       "      <td>0</td>\n",
       "      <td>679</td>\n",
       "      <td>414</td>\n",
       "      <td>651</td>\n",
       "      <td>0</td>\n",
       "      <td>1.64</td>\n",
       "      <td>0</td>\n",
       "    </tr>\n",
       "    <tr>\n",
       "      <th>4</th>\n",
       "      <td>1</td>\n",
       "      <td>0.00</td>\n",
       "      <td>2</td>\n",
       "      <td>0.00</td>\n",
       "      <td>0</td>\n",
       "      <td>0</td>\n",
       "      <td>0</td>\n",
       "      <td>1</td>\n",
       "      <td>6</td>\n",
       "      <td>151</td>\n",
       "      <td>126</td>\n",
       "      <td>0</td>\n",
       "      <td>0.04</td>\n",
       "      <td>1</td>\n",
       "    </tr>\n",
       "    <tr>\n",
       "      <th>...</th>\n",
       "      <td>...</td>\n",
       "      <td>...</td>\n",
       "      <td>...</td>\n",
       "      <td>...</td>\n",
       "      <td>...</td>\n",
       "      <td>...</td>\n",
       "      <td>...</td>\n",
       "      <td>...</td>\n",
       "      <td>...</td>\n",
       "      <td>...</td>\n",
       "      <td>...</td>\n",
       "      <td>...</td>\n",
       "      <td>...</td>\n",
       "      <td>...</td>\n",
       "    </tr>\n",
       "    <tr>\n",
       "      <th>571</th>\n",
       "      <td>1</td>\n",
       "      <td>0.55</td>\n",
       "      <td>1</td>\n",
       "      <td>0.44</td>\n",
       "      <td>0</td>\n",
       "      <td>0</td>\n",
       "      <td>0</td>\n",
       "      <td>0</td>\n",
       "      <td>33</td>\n",
       "      <td>166</td>\n",
       "      <td>596</td>\n",
       "      <td>1</td>\n",
       "      <td>0.20</td>\n",
       "      <td>0</td>\n",
       "    </tr>\n",
       "    <tr>\n",
       "      <th>572</th>\n",
       "      <td>1</td>\n",
       "      <td>0.38</td>\n",
       "      <td>1</td>\n",
       "      <td>0.33</td>\n",
       "      <td>0</td>\n",
       "      <td>21</td>\n",
       "      <td>0</td>\n",
       "      <td>0</td>\n",
       "      <td>44</td>\n",
       "      <td>66</td>\n",
       "      <td>75</td>\n",
       "      <td>1</td>\n",
       "      <td>0.67</td>\n",
       "      <td>0</td>\n",
       "    </tr>\n",
       "    <tr>\n",
       "      <th>573</th>\n",
       "      <td>1</td>\n",
       "      <td>0.57</td>\n",
       "      <td>2</td>\n",
       "      <td>0.00</td>\n",
       "      <td>0</td>\n",
       "      <td>0</td>\n",
       "      <td>0</td>\n",
       "      <td>0</td>\n",
       "      <td>4</td>\n",
       "      <td>96</td>\n",
       "      <td>339</td>\n",
       "      <td>1</td>\n",
       "      <td>0.04</td>\n",
       "      <td>0</td>\n",
       "    </tr>\n",
       "    <tr>\n",
       "      <th>574</th>\n",
       "      <td>1</td>\n",
       "      <td>0.57</td>\n",
       "      <td>1</td>\n",
       "      <td>0.00</td>\n",
       "      <td>0</td>\n",
       "      <td>11</td>\n",
       "      <td>0</td>\n",
       "      <td>0</td>\n",
       "      <td>0</td>\n",
       "      <td>57</td>\n",
       "      <td>73</td>\n",
       "      <td>1</td>\n",
       "      <td>0.00</td>\n",
       "      <td>0</td>\n",
       "    </tr>\n",
       "    <tr>\n",
       "      <th>575</th>\n",
       "      <td>1</td>\n",
       "      <td>0.27</td>\n",
       "      <td>1</td>\n",
       "      <td>0.00</td>\n",
       "      <td>0</td>\n",
       "      <td>0</td>\n",
       "      <td>0</td>\n",
       "      <td>0</td>\n",
       "      <td>2</td>\n",
       "      <td>150</td>\n",
       "      <td>487</td>\n",
       "      <td>1</td>\n",
       "      <td>0.01</td>\n",
       "      <td>0</td>\n",
       "    </tr>\n",
       "  </tbody>\n",
       "</table>\n",
       "<p>574 rows × 14 columns</p>\n",
       "</div>"
      ],
      "text/plain": [
       "     profile pic  nums/length username  fullname words  nums/length fullname  \\\n",
       "0              1                  0.27               0                  0.00   \n",
       "1              1                  0.00               2                  0.00   \n",
       "2              1                  0.10               2                  0.00   \n",
       "3              1                  0.00               1                  0.00   \n",
       "4              1                  0.00               2                  0.00   \n",
       "..           ...                   ...             ...                   ...   \n",
       "571            1                  0.55               1                  0.44   \n",
       "572            1                  0.38               1                  0.33   \n",
       "573            1                  0.57               2                  0.00   \n",
       "574            1                  0.57               1                  0.00   \n",
       "575            1                  0.27               1                  0.00   \n",
       "\n",
       "     name==username  description length  external URL  private  #posts  \\\n",
       "0                 0                  53             0        0      32   \n",
       "1                 0                  44             0        0     286   \n",
       "2                 0                   0             0        1      13   \n",
       "3                 0                  82             0        0     679   \n",
       "4                 0                   0             0        1       6   \n",
       "..              ...                 ...           ...      ...     ...   \n",
       "571               0                   0             0        0      33   \n",
       "572               0                  21             0        0      44   \n",
       "573               0                   0             0        0       4   \n",
       "574               0                  11             0        0       0   \n",
       "575               0                   0             0        0       2   \n",
       "\n",
       "     #followers  #follows  fake  activity ratio  #followers > #follows?  \n",
       "0          1000       955     0            0.03                       1  \n",
       "1          2740       533     0            0.10                       1  \n",
       "2           159        98     0            0.08                       1  \n",
       "3           414       651     0            1.64                       0  \n",
       "4           151       126     0            0.04                       1  \n",
       "..          ...       ...   ...             ...                     ...  \n",
       "571         166       596     1            0.20                       0  \n",
       "572          66        75     1            0.67                       0  \n",
       "573          96       339     1            0.04                       0  \n",
       "574          57        73     1            0.00                       0  \n",
       "575         150       487     1            0.01                       0  \n",
       "\n",
       "[574 rows x 14 columns]"
      ]
     },
     "execution_count": 31,
     "metadata": {},
     "output_type": "execute_result"
    }
   ],
   "source": [
    "training_data"
   ]
  },
  {
   "cell_type": "code",
   "execution_count": 36,
   "id": "4036810c",
   "metadata": {
    "scrolled": true
   },
   "outputs": [
    {
     "data": {
      "application/vnd.plotly.v1+json": {
       "config": {
        "plotlyServerURL": "https://plot.ly"
       },
       "data": [
        {
         "alignmentgroup": "True",
         "bingroup": "x",
         "hovertemplate": "Real/Fake=Real Accounts<br>#followers > #follows?=%{x}<br>count=%{y}<extra></extra>",
         "legendgroup": "Real Accounts",
         "marker": {
          "color": "#636EFA",
          "pattern": {
           "shape": ""
          }
         },
         "name": "Real Accounts",
         "offsetgroup": "Real Accounts",
         "orientation": "v",
         "showlegend": true,
         "type": "histogram",
         "x": [
          1,
          1,
          1,
          0,
          1,
          1,
          0,
          1,
          0,
          1,
          1,
          1,
          1,
          1,
          0,
          1,
          1,
          1,
          1,
          1,
          1,
          1,
          0,
          0,
          1,
          0,
          0,
          1,
          1,
          1,
          0,
          1,
          1,
          0,
          1,
          1,
          0,
          1,
          1,
          1,
          1,
          1,
          1,
          1,
          1,
          1,
          0,
          0,
          0,
          1,
          1,
          1,
          1,
          1,
          0,
          0,
          1,
          1,
          1,
          1,
          1,
          0,
          0,
          1,
          1,
          0,
          0,
          1,
          1,
          0,
          0,
          1,
          1,
          1,
          0,
          0,
          0,
          0,
          1,
          1,
          0,
          1,
          1,
          1,
          1,
          1,
          0,
          1,
          1,
          1,
          1,
          0,
          1,
          1,
          1,
          1,
          1,
          1,
          1,
          1,
          1,
          1,
          1,
          0,
          1,
          1,
          1,
          1,
          1,
          1,
          0,
          0,
          0,
          1,
          0,
          0,
          0,
          1,
          0,
          1,
          0,
          0,
          0,
          1,
          0,
          0,
          0,
          1,
          0,
          0,
          0,
          0,
          0,
          0,
          1,
          0,
          1,
          0,
          1,
          1,
          0,
          1,
          0,
          1,
          0,
          1,
          1,
          0,
          1,
          1,
          0,
          1,
          0,
          1,
          1,
          0,
          0,
          0,
          0,
          1,
          0,
          0,
          1,
          0,
          0,
          1,
          0,
          0,
          1,
          0,
          0,
          1,
          0,
          1,
          0,
          0,
          1,
          1,
          1,
          1,
          1,
          1,
          1,
          1,
          1,
          1,
          0,
          0,
          0,
          1,
          0,
          1,
          0,
          1,
          1,
          0,
          1,
          0,
          0,
          1,
          0,
          1,
          0,
          1,
          0,
          1,
          1,
          1,
          1,
          1,
          1,
          1,
          0,
          1,
          1,
          1,
          1,
          1,
          1,
          1,
          1,
          1,
          0,
          1,
          1,
          1,
          1,
          0,
          1,
          0,
          0,
          1,
          1,
          0,
          0,
          0,
          0,
          1,
          0,
          1,
          1,
          0,
          0,
          0,
          1,
          1,
          0,
          1,
          0,
          0,
          1,
          0,
          1,
          1,
          0,
          0,
          0,
          1,
          1,
          1,
          1,
          0,
          0,
          0,
          1,
          1,
          0,
          1,
          0,
          0,
          1,
          1,
          0,
          0,
          0,
          0,
          1,
          1,
          1,
          1,
          0,
          1,
          0,
          1,
          0,
          1,
          0
         ],
         "xaxis": "x",
         "yaxis": "y"
        },
        {
         "alignmentgroup": "True",
         "bingroup": "x",
         "hovertemplate": "Real/Fake=Fake Accounts<br>#followers > #follows?=%{x}<br>count=%{y}<extra></extra>",
         "legendgroup": "Fake Accounts",
         "marker": {
          "color": "#EF553B",
          "pattern": {
           "shape": ""
          }
         },
         "name": "Fake Accounts",
         "offsetgroup": "Fake Accounts",
         "orientation": "v",
         "showlegend": true,
         "type": "histogram",
         "x": [
          0,
          1,
          0,
          0,
          0,
          0,
          0,
          0,
          0,
          1,
          0,
          0,
          0,
          0,
          0,
          0,
          0,
          0,
          0,
          1,
          1,
          0,
          0,
          0,
          0,
          1,
          0,
          1,
          0,
          0,
          0,
          0,
          0,
          0,
          0,
          0,
          0,
          0,
          0,
          0,
          0,
          0,
          0,
          0,
          0,
          0,
          0,
          0,
          1,
          0,
          0,
          0,
          1,
          0,
          0,
          0,
          0,
          1,
          0,
          0,
          0,
          1,
          0,
          0,
          1,
          0,
          0,
          0,
          1,
          1,
          0,
          0,
          0,
          1,
          0,
          0,
          0,
          1,
          0,
          0,
          0,
          0,
          0,
          0,
          0,
          0,
          1,
          1,
          1,
          0,
          0,
          0,
          0,
          0,
          0,
          0,
          0,
          0,
          0,
          0,
          1,
          1,
          0,
          0,
          0,
          0,
          1,
          0,
          0,
          0,
          0,
          0,
          0,
          0,
          0,
          0,
          0,
          0,
          0,
          0,
          0,
          0,
          0,
          1,
          0,
          0,
          1,
          0,
          1,
          0,
          0,
          0,
          0,
          0,
          0,
          0,
          0,
          0,
          0,
          0,
          0,
          1,
          0,
          0,
          0,
          0,
          0,
          0,
          0,
          0,
          0,
          0,
          0,
          1,
          0,
          0,
          1,
          1,
          0,
          0,
          1,
          0,
          1,
          1,
          0,
          0,
          0,
          1,
          0,
          1,
          0,
          0,
          0,
          0,
          0,
          0,
          0,
          1,
          0,
          0,
          1,
          1,
          0,
          1,
          1,
          0,
          0,
          0,
          0,
          0,
          1,
          1,
          0,
          0,
          0,
          0,
          0,
          1,
          1,
          0,
          1,
          1,
          0,
          1,
          1,
          0,
          1,
          1,
          1,
          0,
          1,
          0,
          0,
          0,
          1,
          1,
          0,
          0,
          1,
          0,
          0,
          1,
          0,
          0,
          0,
          1,
          1,
          1,
          1,
          0,
          1,
          1,
          0,
          0,
          0,
          1,
          1,
          0,
          0,
          1,
          0,
          1,
          1,
          0,
          0,
          0,
          0,
          1,
          0,
          0,
          1,
          0,
          0,
          0,
          1,
          0,
          0,
          0,
          0,
          0,
          0,
          0,
          1,
          0,
          0,
          0,
          0,
          0,
          0,
          1,
          0,
          0,
          0,
          0,
          0,
          0,
          0,
          0,
          0,
          0,
          0,
          0,
          0,
          0,
          0,
          0,
          0
         ],
         "xaxis": "x",
         "yaxis": "y"
        }
       ],
       "layout": {
        "barmode": "group",
        "height": 800,
        "legend": {
         "title": {
          "text": "Real/Fake"
         },
         "tracegroupgap": 0
        },
        "margin": {
         "t": 60
        },
        "template": {
         "data": {
          "bar": [
           {
            "error_x": {
             "color": "#2a3f5f"
            },
            "error_y": {
             "color": "#2a3f5f"
            },
            "marker": {
             "line": {
              "color": "white",
              "width": 0.5
             },
             "pattern": {
              "fillmode": "overlay",
              "size": 10,
              "solidity": 0.2
             }
            },
            "type": "bar"
           }
          ],
          "barpolar": [
           {
            "marker": {
             "line": {
              "color": "white",
              "width": 0.5
             },
             "pattern": {
              "fillmode": "overlay",
              "size": 10,
              "solidity": 0.2
             }
            },
            "type": "barpolar"
           }
          ],
          "carpet": [
           {
            "aaxis": {
             "endlinecolor": "#2a3f5f",
             "gridcolor": "#C8D4E3",
             "linecolor": "#C8D4E3",
             "minorgridcolor": "#C8D4E3",
             "startlinecolor": "#2a3f5f"
            },
            "baxis": {
             "endlinecolor": "#2a3f5f",
             "gridcolor": "#C8D4E3",
             "linecolor": "#C8D4E3",
             "minorgridcolor": "#C8D4E3",
             "startlinecolor": "#2a3f5f"
            },
            "type": "carpet"
           }
          ],
          "choropleth": [
           {
            "colorbar": {
             "outlinewidth": 0,
             "ticks": ""
            },
            "type": "choropleth"
           }
          ],
          "contour": [
           {
            "colorbar": {
             "outlinewidth": 0,
             "ticks": ""
            },
            "colorscale": [
             [
              0,
              "#0d0887"
             ],
             [
              0.1111111111111111,
              "#46039f"
             ],
             [
              0.2222222222222222,
              "#7201a8"
             ],
             [
              0.3333333333333333,
              "#9c179e"
             ],
             [
              0.4444444444444444,
              "#bd3786"
             ],
             [
              0.5555555555555556,
              "#d8576b"
             ],
             [
              0.6666666666666666,
              "#ed7953"
             ],
             [
              0.7777777777777778,
              "#fb9f3a"
             ],
             [
              0.8888888888888888,
              "#fdca26"
             ],
             [
              1,
              "#f0f921"
             ]
            ],
            "type": "contour"
           }
          ],
          "contourcarpet": [
           {
            "colorbar": {
             "outlinewidth": 0,
             "ticks": ""
            },
            "type": "contourcarpet"
           }
          ],
          "heatmap": [
           {
            "colorbar": {
             "outlinewidth": 0,
             "ticks": ""
            },
            "colorscale": [
             [
              0,
              "#0d0887"
             ],
             [
              0.1111111111111111,
              "#46039f"
             ],
             [
              0.2222222222222222,
              "#7201a8"
             ],
             [
              0.3333333333333333,
              "#9c179e"
             ],
             [
              0.4444444444444444,
              "#bd3786"
             ],
             [
              0.5555555555555556,
              "#d8576b"
             ],
             [
              0.6666666666666666,
              "#ed7953"
             ],
             [
              0.7777777777777778,
              "#fb9f3a"
             ],
             [
              0.8888888888888888,
              "#fdca26"
             ],
             [
              1,
              "#f0f921"
             ]
            ],
            "type": "heatmap"
           }
          ],
          "heatmapgl": [
           {
            "colorbar": {
             "outlinewidth": 0,
             "ticks": ""
            },
            "colorscale": [
             [
              0,
              "#0d0887"
             ],
             [
              0.1111111111111111,
              "#46039f"
             ],
             [
              0.2222222222222222,
              "#7201a8"
             ],
             [
              0.3333333333333333,
              "#9c179e"
             ],
             [
              0.4444444444444444,
              "#bd3786"
             ],
             [
              0.5555555555555556,
              "#d8576b"
             ],
             [
              0.6666666666666666,
              "#ed7953"
             ],
             [
              0.7777777777777778,
              "#fb9f3a"
             ],
             [
              0.8888888888888888,
              "#fdca26"
             ],
             [
              1,
              "#f0f921"
             ]
            ],
            "type": "heatmapgl"
           }
          ],
          "histogram": [
           {
            "marker": {
             "pattern": {
              "fillmode": "overlay",
              "size": 10,
              "solidity": 0.2
             }
            },
            "type": "histogram"
           }
          ],
          "histogram2d": [
           {
            "colorbar": {
             "outlinewidth": 0,
             "ticks": ""
            },
            "colorscale": [
             [
              0,
              "#0d0887"
             ],
             [
              0.1111111111111111,
              "#46039f"
             ],
             [
              0.2222222222222222,
              "#7201a8"
             ],
             [
              0.3333333333333333,
              "#9c179e"
             ],
             [
              0.4444444444444444,
              "#bd3786"
             ],
             [
              0.5555555555555556,
              "#d8576b"
             ],
             [
              0.6666666666666666,
              "#ed7953"
             ],
             [
              0.7777777777777778,
              "#fb9f3a"
             ],
             [
              0.8888888888888888,
              "#fdca26"
             ],
             [
              1,
              "#f0f921"
             ]
            ],
            "type": "histogram2d"
           }
          ],
          "histogram2dcontour": [
           {
            "colorbar": {
             "outlinewidth": 0,
             "ticks": ""
            },
            "colorscale": [
             [
              0,
              "#0d0887"
             ],
             [
              0.1111111111111111,
              "#46039f"
             ],
             [
              0.2222222222222222,
              "#7201a8"
             ],
             [
              0.3333333333333333,
              "#9c179e"
             ],
             [
              0.4444444444444444,
              "#bd3786"
             ],
             [
              0.5555555555555556,
              "#d8576b"
             ],
             [
              0.6666666666666666,
              "#ed7953"
             ],
             [
              0.7777777777777778,
              "#fb9f3a"
             ],
             [
              0.8888888888888888,
              "#fdca26"
             ],
             [
              1,
              "#f0f921"
             ]
            ],
            "type": "histogram2dcontour"
           }
          ],
          "mesh3d": [
           {
            "colorbar": {
             "outlinewidth": 0,
             "ticks": ""
            },
            "type": "mesh3d"
           }
          ],
          "parcoords": [
           {
            "line": {
             "colorbar": {
              "outlinewidth": 0,
              "ticks": ""
             }
            },
            "type": "parcoords"
           }
          ],
          "pie": [
           {
            "automargin": true,
            "type": "pie"
           }
          ],
          "scatter": [
           {
            "fillpattern": {
             "fillmode": "overlay",
             "size": 10,
             "solidity": 0.2
            },
            "type": "scatter"
           }
          ],
          "scatter3d": [
           {
            "line": {
             "colorbar": {
              "outlinewidth": 0,
              "ticks": ""
             }
            },
            "marker": {
             "colorbar": {
              "outlinewidth": 0,
              "ticks": ""
             }
            },
            "type": "scatter3d"
           }
          ],
          "scattercarpet": [
           {
            "marker": {
             "colorbar": {
              "outlinewidth": 0,
              "ticks": ""
             }
            },
            "type": "scattercarpet"
           }
          ],
          "scattergeo": [
           {
            "marker": {
             "colorbar": {
              "outlinewidth": 0,
              "ticks": ""
             }
            },
            "type": "scattergeo"
           }
          ],
          "scattergl": [
           {
            "marker": {
             "colorbar": {
              "outlinewidth": 0,
              "ticks": ""
             }
            },
            "type": "scattergl"
           }
          ],
          "scattermapbox": [
           {
            "marker": {
             "colorbar": {
              "outlinewidth": 0,
              "ticks": ""
             }
            },
            "type": "scattermapbox"
           }
          ],
          "scatterpolar": [
           {
            "marker": {
             "colorbar": {
              "outlinewidth": 0,
              "ticks": ""
             }
            },
            "type": "scatterpolar"
           }
          ],
          "scatterpolargl": [
           {
            "marker": {
             "colorbar": {
              "outlinewidth": 0,
              "ticks": ""
             }
            },
            "type": "scatterpolargl"
           }
          ],
          "scatterternary": [
           {
            "marker": {
             "colorbar": {
              "outlinewidth": 0,
              "ticks": ""
             }
            },
            "type": "scatterternary"
           }
          ],
          "surface": [
           {
            "colorbar": {
             "outlinewidth": 0,
             "ticks": ""
            },
            "colorscale": [
             [
              0,
              "#0d0887"
             ],
             [
              0.1111111111111111,
              "#46039f"
             ],
             [
              0.2222222222222222,
              "#7201a8"
             ],
             [
              0.3333333333333333,
              "#9c179e"
             ],
             [
              0.4444444444444444,
              "#bd3786"
             ],
             [
              0.5555555555555556,
              "#d8576b"
             ],
             [
              0.6666666666666666,
              "#ed7953"
             ],
             [
              0.7777777777777778,
              "#fb9f3a"
             ],
             [
              0.8888888888888888,
              "#fdca26"
             ],
             [
              1,
              "#f0f921"
             ]
            ],
            "type": "surface"
           }
          ],
          "table": [
           {
            "cells": {
             "fill": {
              "color": "#EBF0F8"
             },
             "line": {
              "color": "white"
             }
            },
            "header": {
             "fill": {
              "color": "#C8D4E3"
             },
             "line": {
              "color": "white"
             }
            },
            "type": "table"
           }
          ]
         },
         "layout": {
          "annotationdefaults": {
           "arrowcolor": "#2a3f5f",
           "arrowhead": 0,
           "arrowwidth": 1
          },
          "autotypenumbers": "strict",
          "coloraxis": {
           "colorbar": {
            "outlinewidth": 0,
            "ticks": ""
           }
          },
          "colorscale": {
           "diverging": [
            [
             0,
             "#8e0152"
            ],
            [
             0.1,
             "#c51b7d"
            ],
            [
             0.2,
             "#de77ae"
            ],
            [
             0.3,
             "#f1b6da"
            ],
            [
             0.4,
             "#fde0ef"
            ],
            [
             0.5,
             "#f7f7f7"
            ],
            [
             0.6,
             "#e6f5d0"
            ],
            [
             0.7,
             "#b8e186"
            ],
            [
             0.8,
             "#7fbc41"
            ],
            [
             0.9,
             "#4d9221"
            ],
            [
             1,
             "#276419"
            ]
           ],
           "sequential": [
            [
             0,
             "#0d0887"
            ],
            [
             0.1111111111111111,
             "#46039f"
            ],
            [
             0.2222222222222222,
             "#7201a8"
            ],
            [
             0.3333333333333333,
             "#9c179e"
            ],
            [
             0.4444444444444444,
             "#bd3786"
            ],
            [
             0.5555555555555556,
             "#d8576b"
            ],
            [
             0.6666666666666666,
             "#ed7953"
            ],
            [
             0.7777777777777778,
             "#fb9f3a"
            ],
            [
             0.8888888888888888,
             "#fdca26"
            ],
            [
             1,
             "#f0f921"
            ]
           ],
           "sequentialminus": [
            [
             0,
             "#0d0887"
            ],
            [
             0.1111111111111111,
             "#46039f"
            ],
            [
             0.2222222222222222,
             "#7201a8"
            ],
            [
             0.3333333333333333,
             "#9c179e"
            ],
            [
             0.4444444444444444,
             "#bd3786"
            ],
            [
             0.5555555555555556,
             "#d8576b"
            ],
            [
             0.6666666666666666,
             "#ed7953"
            ],
            [
             0.7777777777777778,
             "#fb9f3a"
            ],
            [
             0.8888888888888888,
             "#fdca26"
            ],
            [
             1,
             "#f0f921"
            ]
           ]
          },
          "colorway": [
           "#636efa",
           "#EF553B",
           "#00cc96",
           "#ab63fa",
           "#FFA15A",
           "#19d3f3",
           "#FF6692",
           "#B6E880",
           "#FF97FF",
           "#FECB52"
          ],
          "font": {
           "color": "#2a3f5f"
          },
          "geo": {
           "bgcolor": "white",
           "lakecolor": "white",
           "landcolor": "white",
           "showlakes": true,
           "showland": true,
           "subunitcolor": "#C8D4E3"
          },
          "hoverlabel": {
           "align": "left"
          },
          "hovermode": "closest",
          "mapbox": {
           "style": "light"
          },
          "paper_bgcolor": "white",
          "plot_bgcolor": "white",
          "polar": {
           "angularaxis": {
            "gridcolor": "#EBF0F8",
            "linecolor": "#EBF0F8",
            "ticks": ""
           },
           "bgcolor": "white",
           "radialaxis": {
            "gridcolor": "#EBF0F8",
            "linecolor": "#EBF0F8",
            "ticks": ""
           }
          },
          "scene": {
           "xaxis": {
            "backgroundcolor": "white",
            "gridcolor": "#DFE8F3",
            "gridwidth": 2,
            "linecolor": "#EBF0F8",
            "showbackground": true,
            "ticks": "",
            "zerolinecolor": "#EBF0F8"
           },
           "yaxis": {
            "backgroundcolor": "white",
            "gridcolor": "#DFE8F3",
            "gridwidth": 2,
            "linecolor": "#EBF0F8",
            "showbackground": true,
            "ticks": "",
            "zerolinecolor": "#EBF0F8"
           },
           "zaxis": {
            "backgroundcolor": "white",
            "gridcolor": "#DFE8F3",
            "gridwidth": 2,
            "linecolor": "#EBF0F8",
            "showbackground": true,
            "ticks": "",
            "zerolinecolor": "#EBF0F8"
           }
          },
          "shapedefaults": {
           "line": {
            "color": "#2a3f5f"
           }
          },
          "ternary": {
           "aaxis": {
            "gridcolor": "#DFE8F3",
            "linecolor": "#A2B1C6",
            "ticks": ""
           },
           "baxis": {
            "gridcolor": "#DFE8F3",
            "linecolor": "#A2B1C6",
            "ticks": ""
           },
           "bgcolor": "white",
           "caxis": {
            "gridcolor": "#DFE8F3",
            "linecolor": "#A2B1C6",
            "ticks": ""
           }
          },
          "title": {
           "x": 0.05
          },
          "xaxis": {
           "automargin": true,
           "gridcolor": "#EBF0F8",
           "linecolor": "#EBF0F8",
           "ticks": "",
           "title": {
            "standoff": 15
           },
           "zerolinecolor": "#EBF0F8",
           "zerolinewidth": 2
          },
          "yaxis": {
           "automargin": true,
           "gridcolor": "#EBF0F8",
           "linecolor": "#EBF0F8",
           "ticks": "",
           "title": {
            "standoff": 15
           },
           "zerolinecolor": "#EBF0F8",
           "zerolinewidth": 2
          }
         }
        },
        "title": {
         "text": "More Followers than Follows Distribution"
        },
        "xaxis": {
         "anchor": "y",
         "domain": [
          0,
          1
         ],
         "tickmode": "array",
         "ticktext": [
          "No",
          "Yes"
         ],
         "tickvals": [
          0,
          1
         ],
         "title": {
          "text": "#followers > #follows?"
         }
        },
        "yaxis": {
         "anchor": "x",
         "domain": [
          0,
          1
         ],
         "title": {
          "text": "Count"
         }
        }
       }
      },
      "text/html": [
       "<div>                            <div id=\"edadc37f-8f10-4600-a33a-ff6c1fa08d60\" class=\"plotly-graph-div\" style=\"height:800px; width:100%;\"></div>            <script type=\"text/javascript\">                require([\"plotly\"], function(Plotly) {                    window.PLOTLYENV=window.PLOTLYENV || {};                                    if (document.getElementById(\"edadc37f-8f10-4600-a33a-ff6c1fa08d60\")) {                    Plotly.newPlot(                        \"edadc37f-8f10-4600-a33a-ff6c1fa08d60\",                        [{\"alignmentgroup\":\"True\",\"bingroup\":\"x\",\"hovertemplate\":\"Real/Fake=Real Accounts<br>#followers > #follows?=%{x}<br>count=%{y}<extra></extra>\",\"legendgroup\":\"Real Accounts\",\"marker\":{\"color\":\"#636EFA\",\"pattern\":{\"shape\":\"\"}},\"name\":\"Real Accounts\",\"offsetgroup\":\"Real Accounts\",\"orientation\":\"v\",\"showlegend\":true,\"x\":[1,1,1,0,1,1,0,1,0,1,1,1,1,1,0,1,1,1,1,1,1,1,0,0,1,0,0,1,1,1,0,1,1,0,1,1,0,1,1,1,1,1,1,1,1,1,0,0,0,1,1,1,1,1,0,0,1,1,1,1,1,0,0,1,1,0,0,1,1,0,0,1,1,1,0,0,0,0,1,1,0,1,1,1,1,1,0,1,1,1,1,0,1,1,1,1,1,1,1,1,1,1,1,0,1,1,1,1,1,1,0,0,0,1,0,0,0,1,0,1,0,0,0,1,0,0,0,1,0,0,0,0,0,0,1,0,1,0,1,1,0,1,0,1,0,1,1,0,1,1,0,1,0,1,1,0,0,0,0,1,0,0,1,0,0,1,0,0,1,0,0,1,0,1,0,0,1,1,1,1,1,1,1,1,1,1,0,0,0,1,0,1,0,1,1,0,1,0,0,1,0,1,0,1,0,1,1,1,1,1,1,1,0,1,1,1,1,1,1,1,1,1,0,1,1,1,1,0,1,0,0,1,1,0,0,0,0,1,0,1,1,0,0,0,1,1,0,1,0,0,1,0,1,1,0,0,0,1,1,1,1,0,0,0,1,1,0,1,0,0,1,1,0,0,0,0,1,1,1,1,0,1,0,1,0,1,0],\"xaxis\":\"x\",\"yaxis\":\"y\",\"type\":\"histogram\"},{\"alignmentgroup\":\"True\",\"bingroup\":\"x\",\"hovertemplate\":\"Real/Fake=Fake Accounts<br>#followers > #follows?=%{x}<br>count=%{y}<extra></extra>\",\"legendgroup\":\"Fake Accounts\",\"marker\":{\"color\":\"#EF553B\",\"pattern\":{\"shape\":\"\"}},\"name\":\"Fake Accounts\",\"offsetgroup\":\"Fake Accounts\",\"orientation\":\"v\",\"showlegend\":true,\"x\":[0,1,0,0,0,0,0,0,0,1,0,0,0,0,0,0,0,0,0,1,1,0,0,0,0,1,0,1,0,0,0,0,0,0,0,0,0,0,0,0,0,0,0,0,0,0,0,0,1,0,0,0,1,0,0,0,0,1,0,0,0,1,0,0,1,0,0,0,1,1,0,0,0,1,0,0,0,1,0,0,0,0,0,0,0,0,1,1,1,0,0,0,0,0,0,0,0,0,0,0,1,1,0,0,0,0,1,0,0,0,0,0,0,0,0,0,0,0,0,0,0,0,0,1,0,0,1,0,1,0,0,0,0,0,0,0,0,0,0,0,0,1,0,0,0,0,0,0,0,0,0,0,0,1,0,0,1,1,0,0,1,0,1,1,0,0,0,1,0,1,0,0,0,0,0,0,0,1,0,0,1,1,0,1,1,0,0,0,0,0,1,1,0,0,0,0,0,1,1,0,1,1,0,1,1,0,1,1,1,0,1,0,0,0,1,1,0,0,1,0,0,1,0,0,0,1,1,1,1,0,1,1,0,0,0,1,1,0,0,1,0,1,1,0,0,0,0,1,0,0,1,0,0,0,1,0,0,0,0,0,0,0,1,0,0,0,0,0,0,1,0,0,0,0,0,0,0,0,0,0,0,0,0,0,0,0,0],\"xaxis\":\"x\",\"yaxis\":\"y\",\"type\":\"histogram\"}],                        {\"template\":{\"data\":{\"barpolar\":[{\"marker\":{\"line\":{\"color\":\"white\",\"width\":0.5},\"pattern\":{\"fillmode\":\"overlay\",\"size\":10,\"solidity\":0.2}},\"type\":\"barpolar\"}],\"bar\":[{\"error_x\":{\"color\":\"#2a3f5f\"},\"error_y\":{\"color\":\"#2a3f5f\"},\"marker\":{\"line\":{\"color\":\"white\",\"width\":0.5},\"pattern\":{\"fillmode\":\"overlay\",\"size\":10,\"solidity\":0.2}},\"type\":\"bar\"}],\"carpet\":[{\"aaxis\":{\"endlinecolor\":\"#2a3f5f\",\"gridcolor\":\"#C8D4E3\",\"linecolor\":\"#C8D4E3\",\"minorgridcolor\":\"#C8D4E3\",\"startlinecolor\":\"#2a3f5f\"},\"baxis\":{\"endlinecolor\":\"#2a3f5f\",\"gridcolor\":\"#C8D4E3\",\"linecolor\":\"#C8D4E3\",\"minorgridcolor\":\"#C8D4E3\",\"startlinecolor\":\"#2a3f5f\"},\"type\":\"carpet\"}],\"choropleth\":[{\"colorbar\":{\"outlinewidth\":0,\"ticks\":\"\"},\"type\":\"choropleth\"}],\"contourcarpet\":[{\"colorbar\":{\"outlinewidth\":0,\"ticks\":\"\"},\"type\":\"contourcarpet\"}],\"contour\":[{\"colorbar\":{\"outlinewidth\":0,\"ticks\":\"\"},\"colorscale\":[[0.0,\"#0d0887\"],[0.1111111111111111,\"#46039f\"],[0.2222222222222222,\"#7201a8\"],[0.3333333333333333,\"#9c179e\"],[0.4444444444444444,\"#bd3786\"],[0.5555555555555556,\"#d8576b\"],[0.6666666666666666,\"#ed7953\"],[0.7777777777777778,\"#fb9f3a\"],[0.8888888888888888,\"#fdca26\"],[1.0,\"#f0f921\"]],\"type\":\"contour\"}],\"heatmapgl\":[{\"colorbar\":{\"outlinewidth\":0,\"ticks\":\"\"},\"colorscale\":[[0.0,\"#0d0887\"],[0.1111111111111111,\"#46039f\"],[0.2222222222222222,\"#7201a8\"],[0.3333333333333333,\"#9c179e\"],[0.4444444444444444,\"#bd3786\"],[0.5555555555555556,\"#d8576b\"],[0.6666666666666666,\"#ed7953\"],[0.7777777777777778,\"#fb9f3a\"],[0.8888888888888888,\"#fdca26\"],[1.0,\"#f0f921\"]],\"type\":\"heatmapgl\"}],\"heatmap\":[{\"colorbar\":{\"outlinewidth\":0,\"ticks\":\"\"},\"colorscale\":[[0.0,\"#0d0887\"],[0.1111111111111111,\"#46039f\"],[0.2222222222222222,\"#7201a8\"],[0.3333333333333333,\"#9c179e\"],[0.4444444444444444,\"#bd3786\"],[0.5555555555555556,\"#d8576b\"],[0.6666666666666666,\"#ed7953\"],[0.7777777777777778,\"#fb9f3a\"],[0.8888888888888888,\"#fdca26\"],[1.0,\"#f0f921\"]],\"type\":\"heatmap\"}],\"histogram2dcontour\":[{\"colorbar\":{\"outlinewidth\":0,\"ticks\":\"\"},\"colorscale\":[[0.0,\"#0d0887\"],[0.1111111111111111,\"#46039f\"],[0.2222222222222222,\"#7201a8\"],[0.3333333333333333,\"#9c179e\"],[0.4444444444444444,\"#bd3786\"],[0.5555555555555556,\"#d8576b\"],[0.6666666666666666,\"#ed7953\"],[0.7777777777777778,\"#fb9f3a\"],[0.8888888888888888,\"#fdca26\"],[1.0,\"#f0f921\"]],\"type\":\"histogram2dcontour\"}],\"histogram2d\":[{\"colorbar\":{\"outlinewidth\":0,\"ticks\":\"\"},\"colorscale\":[[0.0,\"#0d0887\"],[0.1111111111111111,\"#46039f\"],[0.2222222222222222,\"#7201a8\"],[0.3333333333333333,\"#9c179e\"],[0.4444444444444444,\"#bd3786\"],[0.5555555555555556,\"#d8576b\"],[0.6666666666666666,\"#ed7953\"],[0.7777777777777778,\"#fb9f3a\"],[0.8888888888888888,\"#fdca26\"],[1.0,\"#f0f921\"]],\"type\":\"histogram2d\"}],\"histogram\":[{\"marker\":{\"pattern\":{\"fillmode\":\"overlay\",\"size\":10,\"solidity\":0.2}},\"type\":\"histogram\"}],\"mesh3d\":[{\"colorbar\":{\"outlinewidth\":0,\"ticks\":\"\"},\"type\":\"mesh3d\"}],\"parcoords\":[{\"line\":{\"colorbar\":{\"outlinewidth\":0,\"ticks\":\"\"}},\"type\":\"parcoords\"}],\"pie\":[{\"automargin\":true,\"type\":\"pie\"}],\"scatter3d\":[{\"line\":{\"colorbar\":{\"outlinewidth\":0,\"ticks\":\"\"}},\"marker\":{\"colorbar\":{\"outlinewidth\":0,\"ticks\":\"\"}},\"type\":\"scatter3d\"}],\"scattercarpet\":[{\"marker\":{\"colorbar\":{\"outlinewidth\":0,\"ticks\":\"\"}},\"type\":\"scattercarpet\"}],\"scattergeo\":[{\"marker\":{\"colorbar\":{\"outlinewidth\":0,\"ticks\":\"\"}},\"type\":\"scattergeo\"}],\"scattergl\":[{\"marker\":{\"colorbar\":{\"outlinewidth\":0,\"ticks\":\"\"}},\"type\":\"scattergl\"}],\"scattermapbox\":[{\"marker\":{\"colorbar\":{\"outlinewidth\":0,\"ticks\":\"\"}},\"type\":\"scattermapbox\"}],\"scatterpolargl\":[{\"marker\":{\"colorbar\":{\"outlinewidth\":0,\"ticks\":\"\"}},\"type\":\"scatterpolargl\"}],\"scatterpolar\":[{\"marker\":{\"colorbar\":{\"outlinewidth\":0,\"ticks\":\"\"}},\"type\":\"scatterpolar\"}],\"scatter\":[{\"fillpattern\":{\"fillmode\":\"overlay\",\"size\":10,\"solidity\":0.2},\"type\":\"scatter\"}],\"scatterternary\":[{\"marker\":{\"colorbar\":{\"outlinewidth\":0,\"ticks\":\"\"}},\"type\":\"scatterternary\"}],\"surface\":[{\"colorbar\":{\"outlinewidth\":0,\"ticks\":\"\"},\"colorscale\":[[0.0,\"#0d0887\"],[0.1111111111111111,\"#46039f\"],[0.2222222222222222,\"#7201a8\"],[0.3333333333333333,\"#9c179e\"],[0.4444444444444444,\"#bd3786\"],[0.5555555555555556,\"#d8576b\"],[0.6666666666666666,\"#ed7953\"],[0.7777777777777778,\"#fb9f3a\"],[0.8888888888888888,\"#fdca26\"],[1.0,\"#f0f921\"]],\"type\":\"surface\"}],\"table\":[{\"cells\":{\"fill\":{\"color\":\"#EBF0F8\"},\"line\":{\"color\":\"white\"}},\"header\":{\"fill\":{\"color\":\"#C8D4E3\"},\"line\":{\"color\":\"white\"}},\"type\":\"table\"}]},\"layout\":{\"annotationdefaults\":{\"arrowcolor\":\"#2a3f5f\",\"arrowhead\":0,\"arrowwidth\":1},\"autotypenumbers\":\"strict\",\"coloraxis\":{\"colorbar\":{\"outlinewidth\":0,\"ticks\":\"\"}},\"colorscale\":{\"diverging\":[[0,\"#8e0152\"],[0.1,\"#c51b7d\"],[0.2,\"#de77ae\"],[0.3,\"#f1b6da\"],[0.4,\"#fde0ef\"],[0.5,\"#f7f7f7\"],[0.6,\"#e6f5d0\"],[0.7,\"#b8e186\"],[0.8,\"#7fbc41\"],[0.9,\"#4d9221\"],[1,\"#276419\"]],\"sequential\":[[0.0,\"#0d0887\"],[0.1111111111111111,\"#46039f\"],[0.2222222222222222,\"#7201a8\"],[0.3333333333333333,\"#9c179e\"],[0.4444444444444444,\"#bd3786\"],[0.5555555555555556,\"#d8576b\"],[0.6666666666666666,\"#ed7953\"],[0.7777777777777778,\"#fb9f3a\"],[0.8888888888888888,\"#fdca26\"],[1.0,\"#f0f921\"]],\"sequentialminus\":[[0.0,\"#0d0887\"],[0.1111111111111111,\"#46039f\"],[0.2222222222222222,\"#7201a8\"],[0.3333333333333333,\"#9c179e\"],[0.4444444444444444,\"#bd3786\"],[0.5555555555555556,\"#d8576b\"],[0.6666666666666666,\"#ed7953\"],[0.7777777777777778,\"#fb9f3a\"],[0.8888888888888888,\"#fdca26\"],[1.0,\"#f0f921\"]]},\"colorway\":[\"#636efa\",\"#EF553B\",\"#00cc96\",\"#ab63fa\",\"#FFA15A\",\"#19d3f3\",\"#FF6692\",\"#B6E880\",\"#FF97FF\",\"#FECB52\"],\"font\":{\"color\":\"#2a3f5f\"},\"geo\":{\"bgcolor\":\"white\",\"lakecolor\":\"white\",\"landcolor\":\"white\",\"showlakes\":true,\"showland\":true,\"subunitcolor\":\"#C8D4E3\"},\"hoverlabel\":{\"align\":\"left\"},\"hovermode\":\"closest\",\"mapbox\":{\"style\":\"light\"},\"paper_bgcolor\":\"white\",\"plot_bgcolor\":\"white\",\"polar\":{\"angularaxis\":{\"gridcolor\":\"#EBF0F8\",\"linecolor\":\"#EBF0F8\",\"ticks\":\"\"},\"bgcolor\":\"white\",\"radialaxis\":{\"gridcolor\":\"#EBF0F8\",\"linecolor\":\"#EBF0F8\",\"ticks\":\"\"}},\"scene\":{\"xaxis\":{\"backgroundcolor\":\"white\",\"gridcolor\":\"#DFE8F3\",\"gridwidth\":2,\"linecolor\":\"#EBF0F8\",\"showbackground\":true,\"ticks\":\"\",\"zerolinecolor\":\"#EBF0F8\"},\"yaxis\":{\"backgroundcolor\":\"white\",\"gridcolor\":\"#DFE8F3\",\"gridwidth\":2,\"linecolor\":\"#EBF0F8\",\"showbackground\":true,\"ticks\":\"\",\"zerolinecolor\":\"#EBF0F8\"},\"zaxis\":{\"backgroundcolor\":\"white\",\"gridcolor\":\"#DFE8F3\",\"gridwidth\":2,\"linecolor\":\"#EBF0F8\",\"showbackground\":true,\"ticks\":\"\",\"zerolinecolor\":\"#EBF0F8\"}},\"shapedefaults\":{\"line\":{\"color\":\"#2a3f5f\"}},\"ternary\":{\"aaxis\":{\"gridcolor\":\"#DFE8F3\",\"linecolor\":\"#A2B1C6\",\"ticks\":\"\"},\"baxis\":{\"gridcolor\":\"#DFE8F3\",\"linecolor\":\"#A2B1C6\",\"ticks\":\"\"},\"bgcolor\":\"white\",\"caxis\":{\"gridcolor\":\"#DFE8F3\",\"linecolor\":\"#A2B1C6\",\"ticks\":\"\"}},\"title\":{\"x\":0.05},\"xaxis\":{\"automargin\":true,\"gridcolor\":\"#EBF0F8\",\"linecolor\":\"#EBF0F8\",\"ticks\":\"\",\"title\":{\"standoff\":15},\"zerolinecolor\":\"#EBF0F8\",\"zerolinewidth\":2},\"yaxis\":{\"automargin\":true,\"gridcolor\":\"#EBF0F8\",\"linecolor\":\"#EBF0F8\",\"ticks\":\"\",\"title\":{\"standoff\":15},\"zerolinecolor\":\"#EBF0F8\",\"zerolinewidth\":2}}},\"xaxis\":{\"anchor\":\"y\",\"domain\":[0.0,1.0],\"title\":{\"text\":\"#followers > #follows?\"},\"tickmode\":\"array\",\"tickvals\":[0,1],\"ticktext\":[\"No\",\"Yes\"]},\"yaxis\":{\"anchor\":\"x\",\"domain\":[0.0,1.0],\"title\":{\"text\":\"Count\"}},\"legend\":{\"title\":{\"text\":\"Real/Fake\"},\"tracegroupgap\":0},\"margin\":{\"t\":60},\"barmode\":\"group\",\"title\":{\"text\":\"More Followers than Follows Distribution\"},\"height\":800},                        {\"responsive\": true}                    ).then(function(){\n",
       "                            \n",
       "var gd = document.getElementById('edadc37f-8f10-4600-a33a-ff6c1fa08d60');\n",
       "var x = new MutationObserver(function (mutations, observer) {{\n",
       "        var display = window.getComputedStyle(gd).display;\n",
       "        if (!display || display === 'none') {{\n",
       "            console.log([gd, 'removed!']);\n",
       "            Plotly.purge(gd);\n",
       "            observer.disconnect();\n",
       "        }}\n",
       "}});\n",
       "\n",
       "// Listen for the removal of the full notebook cells\n",
       "var notebookContainer = gd.closest('#notebook-container');\n",
       "if (notebookContainer) {{\n",
       "    x.observe(notebookContainer, {childList: true});\n",
       "}}\n",
       "\n",
       "// Listen for the clearing of the current output cell\n",
       "var outputEl = gd.closest('.output');\n",
       "if (outputEl) {{\n",
       "    x.observe(outputEl, {childList: true});\n",
       "}}\n",
       "\n",
       "                        })                };                });            </script>        </div>"
      ]
     },
     "metadata": {},
     "output_type": "display_data"
    }
   ],
   "source": [
    "fig = px.histogram(training_data, x=training_data['#followers > #follows?'], color=legend_df['fake'],\n",
    "                   color_discrete_sequence=['#636EFA','#EF553B'],\n",
    "                   barmode='group', template='plotly_white',labels={'color': 'Real/Fake'})\n",
    "        \n",
    "fig.update_layout(title='More Followers than Follows Distribution',\n",
    "                  xaxis_title='#followers > #follows?', yaxis_title='Count', xaxis=dict(tickmode='array',\n",
    "                  tickvals=[0, 1],\n",
    "                  ticktext=['No', 'Yes']),\n",
    "                  height = 800)\n",
    "        \n",
    "fig.show()"
   ]
  },
  {
   "cell_type": "markdown",
   "id": "59ada43f",
   "metadata": {},
   "source": [
    "My initial hypothesis appears to be right! Accounts that follow more people than they have followers predominantly turn out to be fake. Conversely, accounts that boast more followers than the number they follow are typically genuine."
   ]
  },
  {
   "cell_type": "code",
   "execution_count": 35,
   "id": "2f4cd0bf",
   "metadata": {
    "scrolled": true
   },
   "outputs": [
    {
     "data": {
      "application/vnd.plotly.v1+json": {
       "config": {
        "plotlyServerURL": "https://plot.ly"
       },
       "data": [
        {
         "alignmentgroup": "True",
         "hovertemplate": "color=Real Accounts<br>fake=%{x}<br>activity ratio=%{y}<extra></extra>",
         "legendgroup": "Real Accounts",
         "marker": {
          "color": "#636efa"
         },
         "name": "Real Accounts",
         "notched": false,
         "offsetgroup": "Real Accounts",
         "orientation": "v",
         "showlegend": true,
         "type": "box",
         "x": [
          0,
          0,
          0,
          0,
          0,
          0,
          0,
          0,
          0,
          0,
          0,
          0,
          0,
          0,
          0,
          0,
          0,
          0,
          0,
          0,
          0,
          0,
          0,
          0,
          0,
          0,
          0,
          0,
          0,
          0,
          0,
          0,
          0,
          0,
          0,
          0,
          0,
          0,
          0,
          0,
          0,
          0,
          0,
          0,
          0,
          0,
          0,
          0,
          0,
          0,
          0,
          0,
          0,
          0,
          0,
          0,
          0,
          0,
          0,
          0,
          0,
          0,
          0,
          0,
          0,
          0,
          0,
          0,
          0,
          0,
          0,
          0,
          0,
          0,
          0,
          0,
          0,
          0,
          0,
          0,
          0,
          0,
          0,
          0,
          0,
          0,
          0,
          0,
          0,
          0,
          0,
          0,
          0,
          0,
          0,
          0,
          0,
          0,
          0,
          0,
          0,
          0,
          0,
          0,
          0,
          0,
          0,
          0,
          0,
          0,
          0,
          0,
          0,
          0,
          0,
          0,
          0,
          0,
          0,
          0,
          0,
          0,
          0,
          0,
          0,
          0,
          0,
          0,
          0,
          0,
          0,
          0,
          0,
          0,
          0,
          0,
          0,
          0,
          0,
          0,
          0,
          0,
          0,
          0,
          0,
          0,
          0,
          0,
          0,
          0,
          0,
          0,
          0,
          0,
          0,
          0,
          0,
          0,
          0,
          0,
          0,
          0,
          0,
          0,
          0,
          0,
          0,
          0,
          0,
          0,
          0,
          0,
          0,
          0,
          0,
          0,
          0,
          0,
          0,
          0,
          0,
          0,
          0,
          0,
          0,
          0,
          0,
          0,
          0,
          0,
          0,
          0,
          0,
          0,
          0,
          0,
          0,
          0,
          0,
          0,
          0,
          0,
          0,
          0,
          0,
          0,
          0,
          0,
          0,
          0,
          0,
          0,
          0,
          0,
          0,
          0,
          0,
          0,
          0,
          0,
          0,
          0,
          0,
          0,
          0,
          0,
          0,
          0,
          0,
          0,
          0,
          0,
          0,
          0,
          0,
          0,
          0,
          0,
          0,
          0,
          0,
          0,
          0,
          0,
          0,
          0,
          0,
          0,
          0,
          0,
          0,
          0,
          0,
          0,
          0,
          0,
          0,
          0,
          0,
          0,
          0,
          0,
          0,
          0,
          0,
          0,
          0,
          0,
          0,
          0,
          0,
          0,
          0,
          0,
          0,
          0,
          0,
          0,
          0,
          0,
          0,
          0,
          0,
          0,
          0,
          0,
          0
         ],
         "x0": " ",
         "xaxis": "x",
         "y": [
          0.03,
          0.1,
          0.08,
          1.64,
          0.04,
          0,
          0.13,
          0.03,
          0.04,
          0.02,
          0.07,
          0.06,
          0.32,
          0.01,
          0.25,
          0.01,
          0.01,
          1.39,
          0.01,
          0.22,
          0.06,
          0.02,
          0.66,
          0.38,
          0,
          0.52,
          0.03,
          0,
          0.1,
          0.08,
          1.43,
          0.05,
          0.63,
          0.97,
          0,
          0,
          0.07,
          0.07,
          0.62,
          0.08,
          0.01,
          0,
          0.12,
          0,
          0,
          0,
          0.03,
          0.17,
          0.25,
          0.18,
          0.15,
          0.13,
          0.88,
          0.03,
          0.04,
          0.41,
          0.04,
          0.23,
          0.03,
          0,
          0.11,
          0.16,
          0.32,
          0.12,
          0.01,
          0.09,
          0.1,
          0.02,
          0.01,
          0.23,
          0.19,
          0.02,
          0.05,
          0.18,
          0.02,
          0.09,
          0.21,
          0.08,
          0.37,
          0.14,
          0.23,
          0.05,
          0.01,
          0.15,
          0.01,
          0.05,
          0.14,
          0.12,
          0.04,
          0.05,
          0.36,
          0.05,
          0.1,
          0.14,
          0.02,
          0.18,
          0.03,
          0.02,
          0.22,
          0.28,
          0.53,
          0.47,
          0.54,
          0.32,
          0.02,
          0.04,
          0.07,
          0.04,
          0.73,
          0.04,
          0.01,
          0.37,
          0.09,
          0.16,
          0,
          0.95,
          0.23,
          0.04,
          0.11,
          0.01,
          0.07,
          0.11,
          0.13,
          0.06,
          0.6,
          0.15,
          0.05,
          0.75,
          0.53,
          0.52,
          0.12,
          0.43,
          0.19,
          0.16,
          0,
          0.05,
          0.03,
          2.2,
          0.28,
          0.02,
          0.41,
          0.09,
          0.03,
          0.02,
          0.07,
          0.35,
          0.43,
          0.04,
          0.45,
          0.04,
          0,
          0,
          0.07,
          0.08,
          0,
          0.12,
          0.03,
          0.22,
          0.03,
          0.09,
          1.1,
          0.04,
          0.54,
          0.33,
          1.45,
          0,
          0,
          0.06,
          0.01,
          0.04,
          0.48,
          0.09,
          0.93,
          0,
          0.25,
          0.79,
          0,
          0.16,
          0.05,
          0.06,
          0.01,
          0.06,
          0,
          0.01,
          0,
          0.15,
          0.04,
          0.04,
          0.04,
          0.32,
          1.39,
          0.2,
          0.01,
          0.19,
          0.08,
          0.06,
          0.04,
          0.02,
          0.3,
          0.23,
          0.07,
          0,
          0.19,
          0.54,
          0.21,
          0.1,
          0.02,
          0.13,
          0.06,
          0.15,
          0.14,
          0.05,
          0.03,
          0.05,
          0.17,
          0,
          0,
          0.04,
          0.01,
          0.19,
          0.02,
          0.09,
          0.03,
          0.02,
          0.03,
          0.01,
          0.34,
          0.02,
          0.08,
          0.14,
          0.21,
          0.02,
          0,
          0.12,
          0.32,
          0.56,
          0.07,
          0.06,
          0.1,
          0.08,
          0,
          0.19,
          0.27,
          0.22,
          0,
          0.01,
          0.19,
          0.7,
          0.09,
          0.04,
          1.47,
          0,
          0.08,
          0.04,
          0.22,
          0.28,
          0.07,
          0,
          0.13,
          0.07,
          0.03,
          0.17,
          0.03,
          0.18,
          0.08,
          0.1,
          0.82,
          0.04,
          0.47,
          0.61,
          0.05,
          0.02,
          0.03,
          0.14,
          0.03,
          0.06,
          0.17,
          0.39,
          0.09,
          0.01,
          0.07,
          0.18,
          1.69,
          0.11,
          0.01,
          0.08,
          0.54
         ],
         "y0": " ",
         "yaxis": "y"
        },
        {
         "alignmentgroup": "True",
         "hovertemplate": "color=Fake Accounts<br>fake=%{x}<br>activity ratio=%{y}<extra></extra>",
         "legendgroup": "Fake Accounts",
         "marker": {
          "color": "#EF553B"
         },
         "name": "Fake Accounts",
         "notched": false,
         "offsetgroup": "Fake Accounts",
         "orientation": "v",
         "showlegend": true,
         "type": "box",
         "x": [
          1,
          1,
          1,
          1,
          1,
          1,
          1,
          1,
          1,
          1,
          1,
          1,
          1,
          1,
          1,
          1,
          1,
          1,
          1,
          1,
          1,
          1,
          1,
          1,
          1,
          1,
          1,
          1,
          1,
          1,
          1,
          1,
          1,
          1,
          1,
          1,
          1,
          1,
          1,
          1,
          1,
          1,
          1,
          1,
          1,
          1,
          1,
          1,
          1,
          1,
          1,
          1,
          1,
          1,
          1,
          1,
          1,
          1,
          1,
          1,
          1,
          1,
          1,
          1,
          1,
          1,
          1,
          1,
          1,
          1,
          1,
          1,
          1,
          1,
          1,
          1,
          1,
          1,
          1,
          1,
          1,
          1,
          1,
          1,
          1,
          1,
          1,
          1,
          1,
          1,
          1,
          1,
          1,
          1,
          1,
          1,
          1,
          1,
          1,
          1,
          1,
          1,
          1,
          1,
          1,
          1,
          1,
          1,
          1,
          1,
          1,
          1,
          1,
          1,
          1,
          1,
          1,
          1,
          1,
          1,
          1,
          1,
          1,
          1,
          1,
          1,
          1,
          1,
          1,
          1,
          1,
          1,
          1,
          1,
          1,
          1,
          1,
          1,
          1,
          1,
          1,
          1,
          1,
          1,
          1,
          1,
          1,
          1,
          1,
          1,
          1,
          1,
          1,
          1,
          1,
          1,
          1,
          1,
          1,
          1,
          1,
          1,
          1,
          1,
          1,
          1,
          1,
          1,
          1,
          1,
          1,
          1,
          1,
          1,
          1,
          1,
          1,
          1,
          1,
          1,
          1,
          1,
          1,
          1,
          1,
          1,
          1,
          1,
          1,
          1,
          1,
          1,
          1,
          1,
          1,
          1,
          1,
          1,
          1,
          1,
          1,
          1,
          1,
          1,
          1,
          1,
          1,
          1,
          1,
          1,
          1,
          1,
          1,
          1,
          1,
          1,
          1,
          1,
          1,
          1,
          1,
          1,
          1,
          1,
          1,
          1,
          1,
          1,
          1,
          1,
          1,
          1,
          1,
          1,
          1,
          1,
          1,
          1,
          1,
          1,
          1,
          1,
          1,
          1,
          1,
          1,
          1,
          1,
          1,
          1,
          1,
          1,
          1,
          1,
          1,
          1,
          1,
          1,
          1,
          1,
          1,
          1,
          1,
          1,
          1,
          1,
          1,
          1,
          1,
          1,
          1,
          1,
          1,
          1,
          1,
          1,
          1,
          1,
          1,
          1,
          1,
          1,
          1,
          1,
          1,
          1,
          1
         ],
         "x0": " ",
         "xaxis": "x",
         "y": [
          0,
          0,
          0.01,
          3,
          0.08,
          0,
          null,
          null,
          null,
          0,
          0,
          0,
          0,
          null,
          0,
          0,
          0.28,
          0,
          0,
          0,
          0,
          35.25,
          1.2,
          null,
          0,
          0.01,
          4.88,
          0,
          4.5,
          0,
          4.2,
          null,
          0,
          null,
          0.04,
          0,
          0,
          0,
          0,
          0,
          0.19,
          null,
          0,
          0.01,
          0.5,
          0,
          0,
          0,
          0,
          null,
          0.05,
          null,
          0.33,
          0,
          0.03,
          0.07,
          0,
          0,
          0,
          0.19,
          8.27,
          0.15,
          0.71,
          0.05,
          0,
          1.13,
          1.16,
          0.12,
          1.05,
          0.02,
          0.04,
          0.07,
          0.47,
          0.18,
          0.22,
          0.79,
          8.79,
          0.26,
          0,
          0,
          0.03,
          0.17,
          0,
          0,
          0,
          0.23,
          0,
          0,
          0,
          0,
          null,
          0.02,
          0.18,
          0.14,
          0,
          0,
          0.04,
          0,
          0.5,
          0,
          0.25,
          0,
          null,
          null,
          0.1,
          4.84,
          0,
          0,
          0,
          0,
          0.05,
          0.78,
          0.02,
          0,
          0.1,
          null,
          null,
          0.02,
          0,
          0,
          1,
          0.01,
          null,
          0.04,
          0,
          0.08,
          0.03,
          0,
          0.36,
          null,
          0,
          0.13,
          0.01,
          0,
          0,
          0,
          0,
          0,
          0.03,
          0.09,
          0.07,
          0.25,
          0,
          null,
          0.2,
          0.04,
          0.15,
          0.24,
          0,
          0,
          0.06,
          0.03,
          0.83,
          0,
          0.23,
          0.02,
          0,
          0.41,
          0,
          0,
          0.1,
          0.02,
          0.01,
          0,
          0,
          0.02,
          0,
          0,
          0,
          0.05,
          0.02,
          0.05,
          0.06,
          0.05,
          0.07,
          0,
          0,
          0,
          0,
          1,
          0,
          0,
          0.08,
          0,
          0.02,
          0,
          0.17,
          0.01,
          0.12,
          0.06,
          0.21,
          0,
          0,
          0,
          0,
          0,
          0,
          0,
          0.06,
          0.04,
          0,
          0,
          0,
          0,
          0,
          0,
          0,
          0,
          0,
          0,
          0,
          0,
          0,
          0.07,
          0,
          0,
          0.06,
          0.24,
          0,
          0.04,
          0.06,
          0.02,
          0.01,
          0,
          0,
          0,
          0.04,
          0,
          0,
          0.06,
          0,
          0,
          0,
          0,
          0,
          0,
          0,
          0,
          0.09,
          0,
          0,
          0,
          0,
          0.03,
          0.17,
          0.04,
          0,
          0,
          0.14,
          0,
          0,
          0.04,
          0.14,
          0,
          0,
          0,
          0,
          0.02,
          0.06,
          0,
          0,
          1,
          0.05,
          0,
          0,
          0.18,
          0.05,
          0,
          0,
          0.02,
          0.16,
          1.9,
          0,
          0,
          0.49,
          0.1,
          0.11,
          0.06,
          2.62,
          0.09,
          0.29,
          0,
          0.2,
          0.67,
          0.04,
          0,
          0.01
         ],
         "y0": " ",
         "yaxis": "y"
        }
       ],
       "layout": {
        "boxmode": "group",
        "height": 650,
        "legend": {
         "title": {
          "text": "color"
         },
         "tracegroupgap": 0
        },
        "template": {
         "data": {
          "bar": [
           {
            "error_x": {
             "color": "#2a3f5f"
            },
            "error_y": {
             "color": "#2a3f5f"
            },
            "marker": {
             "line": {
              "color": "#E5ECF6",
              "width": 0.5
             },
             "pattern": {
              "fillmode": "overlay",
              "size": 10,
              "solidity": 0.2
             }
            },
            "type": "bar"
           }
          ],
          "barpolar": [
           {
            "marker": {
             "line": {
              "color": "#E5ECF6",
              "width": 0.5
             },
             "pattern": {
              "fillmode": "overlay",
              "size": 10,
              "solidity": 0.2
             }
            },
            "type": "barpolar"
           }
          ],
          "carpet": [
           {
            "aaxis": {
             "endlinecolor": "#2a3f5f",
             "gridcolor": "white",
             "linecolor": "white",
             "minorgridcolor": "white",
             "startlinecolor": "#2a3f5f"
            },
            "baxis": {
             "endlinecolor": "#2a3f5f",
             "gridcolor": "white",
             "linecolor": "white",
             "minorgridcolor": "white",
             "startlinecolor": "#2a3f5f"
            },
            "type": "carpet"
           }
          ],
          "choropleth": [
           {
            "colorbar": {
             "outlinewidth": 0,
             "ticks": ""
            },
            "type": "choropleth"
           }
          ],
          "contour": [
           {
            "colorbar": {
             "outlinewidth": 0,
             "ticks": ""
            },
            "colorscale": [
             [
              0,
              "#0d0887"
             ],
             [
              0.1111111111111111,
              "#46039f"
             ],
             [
              0.2222222222222222,
              "#7201a8"
             ],
             [
              0.3333333333333333,
              "#9c179e"
             ],
             [
              0.4444444444444444,
              "#bd3786"
             ],
             [
              0.5555555555555556,
              "#d8576b"
             ],
             [
              0.6666666666666666,
              "#ed7953"
             ],
             [
              0.7777777777777778,
              "#fb9f3a"
             ],
             [
              0.8888888888888888,
              "#fdca26"
             ],
             [
              1,
              "#f0f921"
             ]
            ],
            "type": "contour"
           }
          ],
          "contourcarpet": [
           {
            "colorbar": {
             "outlinewidth": 0,
             "ticks": ""
            },
            "type": "contourcarpet"
           }
          ],
          "heatmap": [
           {
            "colorbar": {
             "outlinewidth": 0,
             "ticks": ""
            },
            "colorscale": [
             [
              0,
              "#0d0887"
             ],
             [
              0.1111111111111111,
              "#46039f"
             ],
             [
              0.2222222222222222,
              "#7201a8"
             ],
             [
              0.3333333333333333,
              "#9c179e"
             ],
             [
              0.4444444444444444,
              "#bd3786"
             ],
             [
              0.5555555555555556,
              "#d8576b"
             ],
             [
              0.6666666666666666,
              "#ed7953"
             ],
             [
              0.7777777777777778,
              "#fb9f3a"
             ],
             [
              0.8888888888888888,
              "#fdca26"
             ],
             [
              1,
              "#f0f921"
             ]
            ],
            "type": "heatmap"
           }
          ],
          "heatmapgl": [
           {
            "colorbar": {
             "outlinewidth": 0,
             "ticks": ""
            },
            "colorscale": [
             [
              0,
              "#0d0887"
             ],
             [
              0.1111111111111111,
              "#46039f"
             ],
             [
              0.2222222222222222,
              "#7201a8"
             ],
             [
              0.3333333333333333,
              "#9c179e"
             ],
             [
              0.4444444444444444,
              "#bd3786"
             ],
             [
              0.5555555555555556,
              "#d8576b"
             ],
             [
              0.6666666666666666,
              "#ed7953"
             ],
             [
              0.7777777777777778,
              "#fb9f3a"
             ],
             [
              0.8888888888888888,
              "#fdca26"
             ],
             [
              1,
              "#f0f921"
             ]
            ],
            "type": "heatmapgl"
           }
          ],
          "histogram": [
           {
            "marker": {
             "pattern": {
              "fillmode": "overlay",
              "size": 10,
              "solidity": 0.2
             }
            },
            "type": "histogram"
           }
          ],
          "histogram2d": [
           {
            "colorbar": {
             "outlinewidth": 0,
             "ticks": ""
            },
            "colorscale": [
             [
              0,
              "#0d0887"
             ],
             [
              0.1111111111111111,
              "#46039f"
             ],
             [
              0.2222222222222222,
              "#7201a8"
             ],
             [
              0.3333333333333333,
              "#9c179e"
             ],
             [
              0.4444444444444444,
              "#bd3786"
             ],
             [
              0.5555555555555556,
              "#d8576b"
             ],
             [
              0.6666666666666666,
              "#ed7953"
             ],
             [
              0.7777777777777778,
              "#fb9f3a"
             ],
             [
              0.8888888888888888,
              "#fdca26"
             ],
             [
              1,
              "#f0f921"
             ]
            ],
            "type": "histogram2d"
           }
          ],
          "histogram2dcontour": [
           {
            "colorbar": {
             "outlinewidth": 0,
             "ticks": ""
            },
            "colorscale": [
             [
              0,
              "#0d0887"
             ],
             [
              0.1111111111111111,
              "#46039f"
             ],
             [
              0.2222222222222222,
              "#7201a8"
             ],
             [
              0.3333333333333333,
              "#9c179e"
             ],
             [
              0.4444444444444444,
              "#bd3786"
             ],
             [
              0.5555555555555556,
              "#d8576b"
             ],
             [
              0.6666666666666666,
              "#ed7953"
             ],
             [
              0.7777777777777778,
              "#fb9f3a"
             ],
             [
              0.8888888888888888,
              "#fdca26"
             ],
             [
              1,
              "#f0f921"
             ]
            ],
            "type": "histogram2dcontour"
           }
          ],
          "mesh3d": [
           {
            "colorbar": {
             "outlinewidth": 0,
             "ticks": ""
            },
            "type": "mesh3d"
           }
          ],
          "parcoords": [
           {
            "line": {
             "colorbar": {
              "outlinewidth": 0,
              "ticks": ""
             }
            },
            "type": "parcoords"
           }
          ],
          "pie": [
           {
            "automargin": true,
            "type": "pie"
           }
          ],
          "scatter": [
           {
            "fillpattern": {
             "fillmode": "overlay",
             "size": 10,
             "solidity": 0.2
            },
            "type": "scatter"
           }
          ],
          "scatter3d": [
           {
            "line": {
             "colorbar": {
              "outlinewidth": 0,
              "ticks": ""
             }
            },
            "marker": {
             "colorbar": {
              "outlinewidth": 0,
              "ticks": ""
             }
            },
            "type": "scatter3d"
           }
          ],
          "scattercarpet": [
           {
            "marker": {
             "colorbar": {
              "outlinewidth": 0,
              "ticks": ""
             }
            },
            "type": "scattercarpet"
           }
          ],
          "scattergeo": [
           {
            "marker": {
             "colorbar": {
              "outlinewidth": 0,
              "ticks": ""
             }
            },
            "type": "scattergeo"
           }
          ],
          "scattergl": [
           {
            "marker": {
             "colorbar": {
              "outlinewidth": 0,
              "ticks": ""
             }
            },
            "type": "scattergl"
           }
          ],
          "scattermapbox": [
           {
            "marker": {
             "colorbar": {
              "outlinewidth": 0,
              "ticks": ""
             }
            },
            "type": "scattermapbox"
           }
          ],
          "scatterpolar": [
           {
            "marker": {
             "colorbar": {
              "outlinewidth": 0,
              "ticks": ""
             }
            },
            "type": "scatterpolar"
           }
          ],
          "scatterpolargl": [
           {
            "marker": {
             "colorbar": {
              "outlinewidth": 0,
              "ticks": ""
             }
            },
            "type": "scatterpolargl"
           }
          ],
          "scatterternary": [
           {
            "marker": {
             "colorbar": {
              "outlinewidth": 0,
              "ticks": ""
             }
            },
            "type": "scatterternary"
           }
          ],
          "surface": [
           {
            "colorbar": {
             "outlinewidth": 0,
             "ticks": ""
            },
            "colorscale": [
             [
              0,
              "#0d0887"
             ],
             [
              0.1111111111111111,
              "#46039f"
             ],
             [
              0.2222222222222222,
              "#7201a8"
             ],
             [
              0.3333333333333333,
              "#9c179e"
             ],
             [
              0.4444444444444444,
              "#bd3786"
             ],
             [
              0.5555555555555556,
              "#d8576b"
             ],
             [
              0.6666666666666666,
              "#ed7953"
             ],
             [
              0.7777777777777778,
              "#fb9f3a"
             ],
             [
              0.8888888888888888,
              "#fdca26"
             ],
             [
              1,
              "#f0f921"
             ]
            ],
            "type": "surface"
           }
          ],
          "table": [
           {
            "cells": {
             "fill": {
              "color": "#EBF0F8"
             },
             "line": {
              "color": "white"
             }
            },
            "header": {
             "fill": {
              "color": "#C8D4E3"
             },
             "line": {
              "color": "white"
             }
            },
            "type": "table"
           }
          ]
         },
         "layout": {
          "annotationdefaults": {
           "arrowcolor": "#2a3f5f",
           "arrowhead": 0,
           "arrowwidth": 1
          },
          "autotypenumbers": "strict",
          "coloraxis": {
           "colorbar": {
            "outlinewidth": 0,
            "ticks": ""
           }
          },
          "colorscale": {
           "diverging": [
            [
             0,
             "#8e0152"
            ],
            [
             0.1,
             "#c51b7d"
            ],
            [
             0.2,
             "#de77ae"
            ],
            [
             0.3,
             "#f1b6da"
            ],
            [
             0.4,
             "#fde0ef"
            ],
            [
             0.5,
             "#f7f7f7"
            ],
            [
             0.6,
             "#e6f5d0"
            ],
            [
             0.7,
             "#b8e186"
            ],
            [
             0.8,
             "#7fbc41"
            ],
            [
             0.9,
             "#4d9221"
            ],
            [
             1,
             "#276419"
            ]
           ],
           "sequential": [
            [
             0,
             "#0d0887"
            ],
            [
             0.1111111111111111,
             "#46039f"
            ],
            [
             0.2222222222222222,
             "#7201a8"
            ],
            [
             0.3333333333333333,
             "#9c179e"
            ],
            [
             0.4444444444444444,
             "#bd3786"
            ],
            [
             0.5555555555555556,
             "#d8576b"
            ],
            [
             0.6666666666666666,
             "#ed7953"
            ],
            [
             0.7777777777777778,
             "#fb9f3a"
            ],
            [
             0.8888888888888888,
             "#fdca26"
            ],
            [
             1,
             "#f0f921"
            ]
           ],
           "sequentialminus": [
            [
             0,
             "#0d0887"
            ],
            [
             0.1111111111111111,
             "#46039f"
            ],
            [
             0.2222222222222222,
             "#7201a8"
            ],
            [
             0.3333333333333333,
             "#9c179e"
            ],
            [
             0.4444444444444444,
             "#bd3786"
            ],
            [
             0.5555555555555556,
             "#d8576b"
            ],
            [
             0.6666666666666666,
             "#ed7953"
            ],
            [
             0.7777777777777778,
             "#fb9f3a"
            ],
            [
             0.8888888888888888,
             "#fdca26"
            ],
            [
             1,
             "#f0f921"
            ]
           ]
          },
          "colorway": [
           "#636efa",
           "#EF553B",
           "#00cc96",
           "#ab63fa",
           "#FFA15A",
           "#19d3f3",
           "#FF6692",
           "#B6E880",
           "#FF97FF",
           "#FECB52"
          ],
          "font": {
           "color": "#2a3f5f"
          },
          "geo": {
           "bgcolor": "white",
           "lakecolor": "white",
           "landcolor": "#E5ECF6",
           "showlakes": true,
           "showland": true,
           "subunitcolor": "white"
          },
          "hoverlabel": {
           "align": "left"
          },
          "hovermode": "closest",
          "mapbox": {
           "style": "light"
          },
          "paper_bgcolor": "white",
          "plot_bgcolor": "#E5ECF6",
          "polar": {
           "angularaxis": {
            "gridcolor": "white",
            "linecolor": "white",
            "ticks": ""
           },
           "bgcolor": "#E5ECF6",
           "radialaxis": {
            "gridcolor": "white",
            "linecolor": "white",
            "ticks": ""
           }
          },
          "scene": {
           "xaxis": {
            "backgroundcolor": "#E5ECF6",
            "gridcolor": "white",
            "gridwidth": 2,
            "linecolor": "white",
            "showbackground": true,
            "ticks": "",
            "zerolinecolor": "white"
           },
           "yaxis": {
            "backgroundcolor": "#E5ECF6",
            "gridcolor": "white",
            "gridwidth": 2,
            "linecolor": "white",
            "showbackground": true,
            "ticks": "",
            "zerolinecolor": "white"
           },
           "zaxis": {
            "backgroundcolor": "#E5ECF6",
            "gridcolor": "white",
            "gridwidth": 2,
            "linecolor": "white",
            "showbackground": true,
            "ticks": "",
            "zerolinecolor": "white"
           }
          },
          "shapedefaults": {
           "line": {
            "color": "#2a3f5f"
           }
          },
          "ternary": {
           "aaxis": {
            "gridcolor": "white",
            "linecolor": "white",
            "ticks": ""
           },
           "baxis": {
            "gridcolor": "white",
            "linecolor": "white",
            "ticks": ""
           },
           "bgcolor": "#E5ECF6",
           "caxis": {
            "gridcolor": "white",
            "linecolor": "white",
            "ticks": ""
           }
          },
          "title": {
           "x": 0.05
          },
          "xaxis": {
           "automargin": true,
           "gridcolor": "white",
           "linecolor": "white",
           "ticks": "",
           "title": {
            "standoff": 15
           },
           "zerolinecolor": "white",
           "zerolinewidth": 2
          },
          "yaxis": {
           "automargin": true,
           "gridcolor": "white",
           "linecolor": "white",
           "ticks": "",
           "title": {
            "standoff": 15
           },
           "zerolinecolor": "white",
           "zerolinewidth": 2
          }
         }
        },
        "title": {
         "text": "Activity Ratio"
        },
        "xaxis": {
         "anchor": "y",
         "domain": [
          0,
          1
         ],
         "tickmode": "array",
         "ticktext": [
          "Real Accounts",
          "Fake Accounts"
         ],
         "tickvals": [
          0,
          1
         ],
         "title": {
          "text": "Real/Fake"
         }
        },
        "yaxis": {
         "anchor": "x",
         "domain": [
          0,
          1
         ],
         "title": {
          "text": "Count"
         }
        }
       }
      },
      "text/html": [
       "<div>                            <div id=\"2530a747-49a5-4bee-8fc6-d2c9cde91c7b\" class=\"plotly-graph-div\" style=\"height:650px; width:100%;\"></div>            <script type=\"text/javascript\">                require([\"plotly\"], function(Plotly) {                    window.PLOTLYENV=window.PLOTLYENV || {};                                    if (document.getElementById(\"2530a747-49a5-4bee-8fc6-d2c9cde91c7b\")) {                    Plotly.newPlot(                        \"2530a747-49a5-4bee-8fc6-d2c9cde91c7b\",                        [{\"alignmentgroup\":\"True\",\"hovertemplate\":\"color=Real Accounts<br>fake=%{x}<br>activity ratio=%{y}<extra></extra>\",\"legendgroup\":\"Real Accounts\",\"marker\":{\"color\":\"#636efa\"},\"name\":\"Real Accounts\",\"notched\":false,\"offsetgroup\":\"Real Accounts\",\"orientation\":\"v\",\"showlegend\":true,\"x\":[0,0,0,0,0,0,0,0,0,0,0,0,0,0,0,0,0,0,0,0,0,0,0,0,0,0,0,0,0,0,0,0,0,0,0,0,0,0,0,0,0,0,0,0,0,0,0,0,0,0,0,0,0,0,0,0,0,0,0,0,0,0,0,0,0,0,0,0,0,0,0,0,0,0,0,0,0,0,0,0,0,0,0,0,0,0,0,0,0,0,0,0,0,0,0,0,0,0,0,0,0,0,0,0,0,0,0,0,0,0,0,0,0,0,0,0,0,0,0,0,0,0,0,0,0,0,0,0,0,0,0,0,0,0,0,0,0,0,0,0,0,0,0,0,0,0,0,0,0,0,0,0,0,0,0,0,0,0,0,0,0,0,0,0,0,0,0,0,0,0,0,0,0,0,0,0,0,0,0,0,0,0,0,0,0,0,0,0,0,0,0,0,0,0,0,0,0,0,0,0,0,0,0,0,0,0,0,0,0,0,0,0,0,0,0,0,0,0,0,0,0,0,0,0,0,0,0,0,0,0,0,0,0,0,0,0,0,0,0,0,0,0,0,0,0,0,0,0,0,0,0,0,0,0,0,0,0,0,0,0,0,0,0,0,0,0,0,0,0,0,0,0,0,0,0,0,0,0,0,0,0,0,0,0,0,0,0],\"x0\":\" \",\"xaxis\":\"x\",\"y\":[0.03,0.1,0.08,1.64,0.04,0.0,0.13,0.03,0.04,0.02,0.07,0.06,0.32,0.01,0.25,0.01,0.01,1.39,0.01,0.22,0.06,0.02,0.66,0.38,0.0,0.52,0.03,0.0,0.1,0.08,1.43,0.05,0.63,0.97,0.0,0.0,0.07,0.07,0.62,0.08,0.01,0.0,0.12,0.0,0.0,0.0,0.03,0.17,0.25,0.18,0.15,0.13,0.88,0.03,0.04,0.41,0.04,0.23,0.03,0.0,0.11,0.16,0.32,0.12,0.01,0.09,0.1,0.02,0.01,0.23,0.19,0.02,0.05,0.18,0.02,0.09,0.21,0.08,0.37,0.14,0.23,0.05,0.01,0.15,0.01,0.05,0.14,0.12,0.04,0.05,0.36,0.05,0.1,0.14,0.02,0.18,0.03,0.02,0.22,0.28,0.53,0.47,0.54,0.32,0.02,0.04,0.07,0.04,0.73,0.04,0.01,0.37,0.09,0.16,0.0,0.95,0.23,0.04,0.11,0.01,0.07,0.11,0.13,0.06,0.6,0.15,0.05,0.75,0.53,0.52,0.12,0.43,0.19,0.16,0.0,0.05,0.03,2.2,0.28,0.02,0.41,0.09,0.03,0.02,0.07,0.35,0.43,0.04,0.45,0.04,0.0,0.0,0.07,0.08,0.0,0.12,0.03,0.22,0.03,0.09,1.1,0.04,0.54,0.33,1.45,0.0,0.0,0.06,0.01,0.04,0.48,0.09,0.93,0.0,0.25,0.79,0.0,0.16,0.05,0.06,0.01,0.06,0.0,0.01,0.0,0.15,0.04,0.04,0.04,0.32,1.39,0.2,0.01,0.19,0.08,0.06,0.04,0.02,0.3,0.23,0.07,0.0,0.19,0.54,0.21,0.1,0.02,0.13,0.06,0.15,0.14,0.05,0.03,0.05,0.17,0.0,0.0,0.04,0.01,0.19,0.02,0.09,0.03,0.02,0.03,0.01,0.34,0.02,0.08,0.14,0.21,0.02,0.0,0.12,0.32,0.56,0.07,0.06,0.1,0.08,0.0,0.19,0.27,0.22,0.0,0.01,0.19,0.7,0.09,0.04,1.47,0.0,0.08,0.04,0.22,0.28,0.07,0.0,0.13,0.07,0.03,0.17,0.03,0.18,0.08,0.1,0.82,0.04,0.47,0.61,0.05,0.02,0.03,0.14,0.03,0.06,0.17,0.39,0.09,0.01,0.07,0.18,1.69,0.11,0.01,0.08,0.54],\"y0\":\" \",\"yaxis\":\"y\",\"type\":\"box\"},{\"alignmentgroup\":\"True\",\"hovertemplate\":\"color=Fake Accounts<br>fake=%{x}<br>activity ratio=%{y}<extra></extra>\",\"legendgroup\":\"Fake Accounts\",\"marker\":{\"color\":\"#EF553B\"},\"name\":\"Fake Accounts\",\"notched\":false,\"offsetgroup\":\"Fake Accounts\",\"orientation\":\"v\",\"showlegend\":true,\"x\":[1,1,1,1,1,1,1,1,1,1,1,1,1,1,1,1,1,1,1,1,1,1,1,1,1,1,1,1,1,1,1,1,1,1,1,1,1,1,1,1,1,1,1,1,1,1,1,1,1,1,1,1,1,1,1,1,1,1,1,1,1,1,1,1,1,1,1,1,1,1,1,1,1,1,1,1,1,1,1,1,1,1,1,1,1,1,1,1,1,1,1,1,1,1,1,1,1,1,1,1,1,1,1,1,1,1,1,1,1,1,1,1,1,1,1,1,1,1,1,1,1,1,1,1,1,1,1,1,1,1,1,1,1,1,1,1,1,1,1,1,1,1,1,1,1,1,1,1,1,1,1,1,1,1,1,1,1,1,1,1,1,1,1,1,1,1,1,1,1,1,1,1,1,1,1,1,1,1,1,1,1,1,1,1,1,1,1,1,1,1,1,1,1,1,1,1,1,1,1,1,1,1,1,1,1,1,1,1,1,1,1,1,1,1,1,1,1,1,1,1,1,1,1,1,1,1,1,1,1,1,1,1,1,1,1,1,1,1,1,1,1,1,1,1,1,1,1,1,1,1,1,1,1,1,1,1,1,1,1,1,1,1,1,1,1,1,1,1,1,1,1,1,1,1,1,1,1,1,1,1,1,1,1,1,1,1,1],\"x0\":\" \",\"xaxis\":\"x\",\"y\":[0.0,0.0,0.01,3.0,0.08,0.0,null,null,null,0.0,0.0,0.0,0.0,null,0.0,0.0,0.28,0.0,0.0,0.0,0.0,35.25,1.2,null,0.0,0.01,4.88,0.0,4.5,0.0,4.2,null,0.0,null,0.04,0.0,0.0,0.0,0.0,0.0,0.19,null,0.0,0.01,0.5,0.0,0.0,0.0,0.0,null,0.05,null,0.33,0.0,0.03,0.07,0.0,0.0,0.0,0.19,8.27,0.15,0.71,0.05,0.0,1.13,1.16,0.12,1.05,0.02,0.04,0.07,0.47,0.18,0.22,0.79,8.79,0.26,0.0,0.0,0.03,0.17,0.0,0.0,0.0,0.23,0.0,0.0,0.0,0.0,null,0.02,0.18,0.14,0.0,0.0,0.04,0.0,0.5,0.0,0.25,0.0,null,null,0.1,4.84,0.0,0.0,0.0,0.0,0.05,0.78,0.02,0.0,0.1,null,null,0.02,0.0,0.0,1.0,0.01,null,0.04,0.0,0.08,0.03,0.0,0.36,null,0.0,0.13,0.01,0.0,0.0,0.0,0.0,0.0,0.03,0.09,0.07,0.25,0.0,null,0.2,0.04,0.15,0.24,0.0,0.0,0.06,0.03,0.83,0.0,0.23,0.02,0.0,0.41,0.0,0.0,0.1,0.02,0.01,0.0,0.0,0.02,0.0,0.0,0.0,0.05,0.02,0.05,0.06,0.05,0.07,0.0,0.0,0.0,0.0,1.0,0.0,0.0,0.08,0.0,0.02,0.0,0.17,0.01,0.12,0.06,0.21,0.0,0.0,0.0,0.0,0.0,0.0,0.0,0.06,0.04,0.0,0.0,0.0,0.0,0.0,0.0,0.0,0.0,0.0,0.0,0.0,0.0,0.0,0.07,0.0,0.0,0.06,0.24,0.0,0.04,0.06,0.02,0.01,0.0,0.0,0.0,0.04,0.0,0.0,0.06,0.0,0.0,0.0,0.0,0.0,0.0,0.0,0.0,0.09,0.0,0.0,0.0,0.0,0.03,0.17,0.04,0.0,0.0,0.14,0.0,0.0,0.04,0.14,0.0,0.0,0.0,0.0,0.02,0.06,0.0,0.0,1.0,0.05,0.0,0.0,0.18,0.05,0.0,0.0,0.02,0.16,1.9,0.0,0.0,0.49,0.1,0.11,0.06,2.62,0.09,0.29,0.0,0.2,0.67,0.04,0.0,0.01],\"y0\":\" \",\"yaxis\":\"y\",\"type\":\"box\"}],                        {\"template\":{\"data\":{\"histogram2dcontour\":[{\"type\":\"histogram2dcontour\",\"colorbar\":{\"outlinewidth\":0,\"ticks\":\"\"},\"colorscale\":[[0.0,\"#0d0887\"],[0.1111111111111111,\"#46039f\"],[0.2222222222222222,\"#7201a8\"],[0.3333333333333333,\"#9c179e\"],[0.4444444444444444,\"#bd3786\"],[0.5555555555555556,\"#d8576b\"],[0.6666666666666666,\"#ed7953\"],[0.7777777777777778,\"#fb9f3a\"],[0.8888888888888888,\"#fdca26\"],[1.0,\"#f0f921\"]]}],\"choropleth\":[{\"type\":\"choropleth\",\"colorbar\":{\"outlinewidth\":0,\"ticks\":\"\"}}],\"histogram2d\":[{\"type\":\"histogram2d\",\"colorbar\":{\"outlinewidth\":0,\"ticks\":\"\"},\"colorscale\":[[0.0,\"#0d0887\"],[0.1111111111111111,\"#46039f\"],[0.2222222222222222,\"#7201a8\"],[0.3333333333333333,\"#9c179e\"],[0.4444444444444444,\"#bd3786\"],[0.5555555555555556,\"#d8576b\"],[0.6666666666666666,\"#ed7953\"],[0.7777777777777778,\"#fb9f3a\"],[0.8888888888888888,\"#fdca26\"],[1.0,\"#f0f921\"]]}],\"heatmap\":[{\"type\":\"heatmap\",\"colorbar\":{\"outlinewidth\":0,\"ticks\":\"\"},\"colorscale\":[[0.0,\"#0d0887\"],[0.1111111111111111,\"#46039f\"],[0.2222222222222222,\"#7201a8\"],[0.3333333333333333,\"#9c179e\"],[0.4444444444444444,\"#bd3786\"],[0.5555555555555556,\"#d8576b\"],[0.6666666666666666,\"#ed7953\"],[0.7777777777777778,\"#fb9f3a\"],[0.8888888888888888,\"#fdca26\"],[1.0,\"#f0f921\"]]}],\"heatmapgl\":[{\"type\":\"heatmapgl\",\"colorbar\":{\"outlinewidth\":0,\"ticks\":\"\"},\"colorscale\":[[0.0,\"#0d0887\"],[0.1111111111111111,\"#46039f\"],[0.2222222222222222,\"#7201a8\"],[0.3333333333333333,\"#9c179e\"],[0.4444444444444444,\"#bd3786\"],[0.5555555555555556,\"#d8576b\"],[0.6666666666666666,\"#ed7953\"],[0.7777777777777778,\"#fb9f3a\"],[0.8888888888888888,\"#fdca26\"],[1.0,\"#f0f921\"]]}],\"contourcarpet\":[{\"type\":\"contourcarpet\",\"colorbar\":{\"outlinewidth\":0,\"ticks\":\"\"}}],\"contour\":[{\"type\":\"contour\",\"colorbar\":{\"outlinewidth\":0,\"ticks\":\"\"},\"colorscale\":[[0.0,\"#0d0887\"],[0.1111111111111111,\"#46039f\"],[0.2222222222222222,\"#7201a8\"],[0.3333333333333333,\"#9c179e\"],[0.4444444444444444,\"#bd3786\"],[0.5555555555555556,\"#d8576b\"],[0.6666666666666666,\"#ed7953\"],[0.7777777777777778,\"#fb9f3a\"],[0.8888888888888888,\"#fdca26\"],[1.0,\"#f0f921\"]]}],\"surface\":[{\"type\":\"surface\",\"colorbar\":{\"outlinewidth\":0,\"ticks\":\"\"},\"colorscale\":[[0.0,\"#0d0887\"],[0.1111111111111111,\"#46039f\"],[0.2222222222222222,\"#7201a8\"],[0.3333333333333333,\"#9c179e\"],[0.4444444444444444,\"#bd3786\"],[0.5555555555555556,\"#d8576b\"],[0.6666666666666666,\"#ed7953\"],[0.7777777777777778,\"#fb9f3a\"],[0.8888888888888888,\"#fdca26\"],[1.0,\"#f0f921\"]]}],\"mesh3d\":[{\"type\":\"mesh3d\",\"colorbar\":{\"outlinewidth\":0,\"ticks\":\"\"}}],\"scatter\":[{\"fillpattern\":{\"fillmode\":\"overlay\",\"size\":10,\"solidity\":0.2},\"type\":\"scatter\"}],\"parcoords\":[{\"type\":\"parcoords\",\"line\":{\"colorbar\":{\"outlinewidth\":0,\"ticks\":\"\"}}}],\"scatterpolargl\":[{\"type\":\"scatterpolargl\",\"marker\":{\"colorbar\":{\"outlinewidth\":0,\"ticks\":\"\"}}}],\"bar\":[{\"error_x\":{\"color\":\"#2a3f5f\"},\"error_y\":{\"color\":\"#2a3f5f\"},\"marker\":{\"line\":{\"color\":\"#E5ECF6\",\"width\":0.5},\"pattern\":{\"fillmode\":\"overlay\",\"size\":10,\"solidity\":0.2}},\"type\":\"bar\"}],\"scattergeo\":[{\"type\":\"scattergeo\",\"marker\":{\"colorbar\":{\"outlinewidth\":0,\"ticks\":\"\"}}}],\"scatterpolar\":[{\"type\":\"scatterpolar\",\"marker\":{\"colorbar\":{\"outlinewidth\":0,\"ticks\":\"\"}}}],\"histogram\":[{\"marker\":{\"pattern\":{\"fillmode\":\"overlay\",\"size\":10,\"solidity\":0.2}},\"type\":\"histogram\"}],\"scattergl\":[{\"type\":\"scattergl\",\"marker\":{\"colorbar\":{\"outlinewidth\":0,\"ticks\":\"\"}}}],\"scatter3d\":[{\"type\":\"scatter3d\",\"line\":{\"colorbar\":{\"outlinewidth\":0,\"ticks\":\"\"}},\"marker\":{\"colorbar\":{\"outlinewidth\":0,\"ticks\":\"\"}}}],\"scattermapbox\":[{\"type\":\"scattermapbox\",\"marker\":{\"colorbar\":{\"outlinewidth\":0,\"ticks\":\"\"}}}],\"scatterternary\":[{\"type\":\"scatterternary\",\"marker\":{\"colorbar\":{\"outlinewidth\":0,\"ticks\":\"\"}}}],\"scattercarpet\":[{\"type\":\"scattercarpet\",\"marker\":{\"colorbar\":{\"outlinewidth\":0,\"ticks\":\"\"}}}],\"carpet\":[{\"aaxis\":{\"endlinecolor\":\"#2a3f5f\",\"gridcolor\":\"white\",\"linecolor\":\"white\",\"minorgridcolor\":\"white\",\"startlinecolor\":\"#2a3f5f\"},\"baxis\":{\"endlinecolor\":\"#2a3f5f\",\"gridcolor\":\"white\",\"linecolor\":\"white\",\"minorgridcolor\":\"white\",\"startlinecolor\":\"#2a3f5f\"},\"type\":\"carpet\"}],\"table\":[{\"cells\":{\"fill\":{\"color\":\"#EBF0F8\"},\"line\":{\"color\":\"white\"}},\"header\":{\"fill\":{\"color\":\"#C8D4E3\"},\"line\":{\"color\":\"white\"}},\"type\":\"table\"}],\"barpolar\":[{\"marker\":{\"line\":{\"color\":\"#E5ECF6\",\"width\":0.5},\"pattern\":{\"fillmode\":\"overlay\",\"size\":10,\"solidity\":0.2}},\"type\":\"barpolar\"}],\"pie\":[{\"automargin\":true,\"type\":\"pie\"}]},\"layout\":{\"autotypenumbers\":\"strict\",\"colorway\":[\"#636efa\",\"#EF553B\",\"#00cc96\",\"#ab63fa\",\"#FFA15A\",\"#19d3f3\",\"#FF6692\",\"#B6E880\",\"#FF97FF\",\"#FECB52\"],\"font\":{\"color\":\"#2a3f5f\"},\"hovermode\":\"closest\",\"hoverlabel\":{\"align\":\"left\"},\"paper_bgcolor\":\"white\",\"plot_bgcolor\":\"#E5ECF6\",\"polar\":{\"bgcolor\":\"#E5ECF6\",\"angularaxis\":{\"gridcolor\":\"white\",\"linecolor\":\"white\",\"ticks\":\"\"},\"radialaxis\":{\"gridcolor\":\"white\",\"linecolor\":\"white\",\"ticks\":\"\"}},\"ternary\":{\"bgcolor\":\"#E5ECF6\",\"aaxis\":{\"gridcolor\":\"white\",\"linecolor\":\"white\",\"ticks\":\"\"},\"baxis\":{\"gridcolor\":\"white\",\"linecolor\":\"white\",\"ticks\":\"\"},\"caxis\":{\"gridcolor\":\"white\",\"linecolor\":\"white\",\"ticks\":\"\"}},\"coloraxis\":{\"colorbar\":{\"outlinewidth\":0,\"ticks\":\"\"}},\"colorscale\":{\"sequential\":[[0.0,\"#0d0887\"],[0.1111111111111111,\"#46039f\"],[0.2222222222222222,\"#7201a8\"],[0.3333333333333333,\"#9c179e\"],[0.4444444444444444,\"#bd3786\"],[0.5555555555555556,\"#d8576b\"],[0.6666666666666666,\"#ed7953\"],[0.7777777777777778,\"#fb9f3a\"],[0.8888888888888888,\"#fdca26\"],[1.0,\"#f0f921\"]],\"sequentialminus\":[[0.0,\"#0d0887\"],[0.1111111111111111,\"#46039f\"],[0.2222222222222222,\"#7201a8\"],[0.3333333333333333,\"#9c179e\"],[0.4444444444444444,\"#bd3786\"],[0.5555555555555556,\"#d8576b\"],[0.6666666666666666,\"#ed7953\"],[0.7777777777777778,\"#fb9f3a\"],[0.8888888888888888,\"#fdca26\"],[1.0,\"#f0f921\"]],\"diverging\":[[0,\"#8e0152\"],[0.1,\"#c51b7d\"],[0.2,\"#de77ae\"],[0.3,\"#f1b6da\"],[0.4,\"#fde0ef\"],[0.5,\"#f7f7f7\"],[0.6,\"#e6f5d0\"],[0.7,\"#b8e186\"],[0.8,\"#7fbc41\"],[0.9,\"#4d9221\"],[1,\"#276419\"]]},\"xaxis\":{\"gridcolor\":\"white\",\"linecolor\":\"white\",\"ticks\":\"\",\"title\":{\"standoff\":15},\"zerolinecolor\":\"white\",\"automargin\":true,\"zerolinewidth\":2},\"yaxis\":{\"gridcolor\":\"white\",\"linecolor\":\"white\",\"ticks\":\"\",\"title\":{\"standoff\":15},\"zerolinecolor\":\"white\",\"automargin\":true,\"zerolinewidth\":2},\"scene\":{\"xaxis\":{\"backgroundcolor\":\"#E5ECF6\",\"gridcolor\":\"white\",\"linecolor\":\"white\",\"showbackground\":true,\"ticks\":\"\",\"zerolinecolor\":\"white\",\"gridwidth\":2},\"yaxis\":{\"backgroundcolor\":\"#E5ECF6\",\"gridcolor\":\"white\",\"linecolor\":\"white\",\"showbackground\":true,\"ticks\":\"\",\"zerolinecolor\":\"white\",\"gridwidth\":2},\"zaxis\":{\"backgroundcolor\":\"#E5ECF6\",\"gridcolor\":\"white\",\"linecolor\":\"white\",\"showbackground\":true,\"ticks\":\"\",\"zerolinecolor\":\"white\",\"gridwidth\":2}},\"shapedefaults\":{\"line\":{\"color\":\"#2a3f5f\"}},\"annotationdefaults\":{\"arrowcolor\":\"#2a3f5f\",\"arrowhead\":0,\"arrowwidth\":1},\"geo\":{\"bgcolor\":\"white\",\"landcolor\":\"#E5ECF6\",\"subunitcolor\":\"white\",\"showland\":true,\"showlakes\":true,\"lakecolor\":\"white\"},\"title\":{\"x\":0.05},\"mapbox\":{\"style\":\"light\"}}},\"xaxis\":{\"anchor\":\"y\",\"domain\":[0.0,1.0],\"title\":{\"text\":\"Real/Fake\"},\"tickmode\":\"array\",\"tickvals\":[0,1],\"ticktext\":[\"Real Accounts\",\"Fake Accounts\"]},\"yaxis\":{\"anchor\":\"x\",\"domain\":[0.0,1.0],\"title\":{\"text\":\"Count\"}},\"legend\":{\"title\":{\"text\":\"color\"},\"tracegroupgap\":0},\"title\":{\"text\":\"Activity Ratio\"},\"boxmode\":\"group\",\"height\":650},                        {\"responsive\": true}                    ).then(function(){\n",
       "                            \n",
       "var gd = document.getElementById('2530a747-49a5-4bee-8fc6-d2c9cde91c7b');\n",
       "var x = new MutationObserver(function (mutations, observer) {{\n",
       "        var display = window.getComputedStyle(gd).display;\n",
       "        if (!display || display === 'none') {{\n",
       "            console.log([gd, 'removed!']);\n",
       "            Plotly.purge(gd);\n",
       "            observer.disconnect();\n",
       "        }}\n",
       "}});\n",
       "\n",
       "// Listen for the removal of the full notebook cells\n",
       "var notebookContainer = gd.closest('#notebook-container');\n",
       "if (notebookContainer) {{\n",
       "    x.observe(notebookContainer, {childList: true});\n",
       "}}\n",
       "\n",
       "// Listen for the clearing of the current output cell\n",
       "var outputEl = gd.closest('.output');\n",
       "if (outputEl) {{\n",
       "    x.observe(outputEl, {childList: true});\n",
       "}}\n",
       "\n",
       "                        })                };                });            </script>        </div>"
      ]
     },
     "metadata": {},
     "output_type": "display_data"
    }
   ],
   "source": [
    "fig = px.box(training_data, x='fake', y='activity ratio', color = legend_df['fake'], title = \"Activity Ratio\")\n",
    "\n",
    "fig.update_layout(xaxis_title=\"Real/Fake\", yaxis_title='Count', xaxis=dict(tickmode='array',\n",
    "                                                                               tickvals=[0, 1],\n",
    "                                                                               ticktext=['Real Accounts', 'Fake Accounts']\n",
    "                                                                               ),\n",
    "                     height = 650)\n",
    "\n",
    "\n",
    "fig.show()"
   ]
  },
  {
   "cell_type": "markdown",
   "id": "f5142f88",
   "metadata": {},
   "source": [
    "Overall, real accounts have a higher activity ratio than fake accounts.\n",
    "However, there are much more outliers, with an extremely positive activity ratio for fake accounts than for real accounts, which may also indicate something for our models when trying to predict the target variable.\n",
    "\n",
    "After performing the feature engineering above, it's important to once again check for null and inf values."
   ]
  },
  {
   "cell_type": "code",
   "execution_count": 33,
   "id": "f17f797a",
   "metadata": {},
   "outputs": [
    {
     "data": {
      "text/plain": [
       "profile pic                0\n",
       "nums/length username       0\n",
       "fullname words             0\n",
       "nums/length fullname       0\n",
       "name==username             0\n",
       "description length         0\n",
       "external URL               0\n",
       "private                    0\n",
       "#posts                     0\n",
       "#followers                 0\n",
       "#follows                   0\n",
       "fake                       0\n",
       "activity ratio            15\n",
       "#followers > #follows?     0\n",
       "dtype: int64"
      ]
     },
     "execution_count": 33,
     "metadata": {},
     "output_type": "execute_result"
    }
   ],
   "source": [
    "training_data.isnull().sum()"
   ]
  },
  {
   "cell_type": "code",
   "execution_count": 34,
   "id": "79dcf92b",
   "metadata": {},
   "outputs": [
    {
     "data": {
      "text/plain": [
       "profile pic               0\n",
       "nums/length username      0\n",
       "fullname words            0\n",
       "nums/length fullname      0\n",
       "name==username            0\n",
       "description length        0\n",
       "external URL              0\n",
       "private                   0\n",
       "#posts                    0\n",
       "#followers                0\n",
       "#follows                  0\n",
       "fake                      0\n",
       "activity ratio            3\n",
       "#followers > #follows?    0\n",
       "dtype: int64"
      ]
     },
     "execution_count": 34,
     "metadata": {},
     "output_type": "execute_result"
    }
   ],
   "source": [
    "training_data.isin([np.inf, -np.inf]).sum()"
   ]
  },
  {
   "cell_type": "code",
   "execution_count": 41,
   "id": "0ae7ac85",
   "metadata": {},
   "outputs": [],
   "source": [
    "# activity ratio generated infinite and missing values, replace them with NaN\n",
    "training_data.replace([np.inf, -np.inf], np.nan, inplace=True)\n",
    "training_data.dropna(inplace=True)"
   ]
  },
  {
   "cell_type": "markdown",
   "id": "b746984d",
   "metadata": {},
   "source": [
    "## Modeling"
   ]
  },
  {
   "cell_type": "markdown",
   "id": "26d33db8",
   "metadata": {},
   "source": [
    "Before the modeling, I'll evaluate the means and standard deviations of all the features in our dataset. This will help determine if there's a need to rescale our data. \n",
    "By examining the means and standard deviations, we can gauge the relative scales of the features. If all features operate within a comparable value range, they'll likely contribute uniformly to the learning process."
   ]
  },
  {
   "cell_type": "code",
   "execution_count": 42,
   "id": "61eec33f",
   "metadata": {
    "scrolled": true
   },
   "outputs": [
    {
     "data": {
      "text/html": [
       "<div>\n",
       "<style scoped>\n",
       "    .dataframe tbody tr th:only-of-type {\n",
       "        vertical-align: middle;\n",
       "    }\n",
       "\n",
       "    .dataframe tbody tr th {\n",
       "        vertical-align: top;\n",
       "    }\n",
       "\n",
       "    .dataframe thead th {\n",
       "        text-align: right;\n",
       "    }\n",
       "</style>\n",
       "<table border=\"1\" class=\"dataframe\">\n",
       "  <thead>\n",
       "    <tr style=\"text-align: right;\">\n",
       "      <th></th>\n",
       "      <th>Mean</th>\n",
       "      <th>Standard Deviation</th>\n",
       "    </tr>\n",
       "  </thead>\n",
       "  <tbody>\n",
       "    <tr>\n",
       "      <th>profile pic</th>\n",
       "      <td>0.72</td>\n",
       "      <td>0.45</td>\n",
       "    </tr>\n",
       "    <tr>\n",
       "      <th>nums/length username</th>\n",
       "      <td>0.16</td>\n",
       "      <td>0.21</td>\n",
       "    </tr>\n",
       "    <tr>\n",
       "      <th>fullname words</th>\n",
       "      <td>1.47</td>\n",
       "      <td>1.06</td>\n",
       "    </tr>\n",
       "    <tr>\n",
       "      <th>nums/length fullname</th>\n",
       "      <td>0.04</td>\n",
       "      <td>0.13</td>\n",
       "    </tr>\n",
       "    <tr>\n",
       "      <th>name==username</th>\n",
       "      <td>0.03</td>\n",
       "      <td>0.18</td>\n",
       "    </tr>\n",
       "    <tr>\n",
       "      <th>description length</th>\n",
       "      <td>23.27</td>\n",
       "      <td>38.13</td>\n",
       "    </tr>\n",
       "    <tr>\n",
       "      <th>external URL</th>\n",
       "      <td>0.12</td>\n",
       "      <td>0.33</td>\n",
       "    </tr>\n",
       "    <tr>\n",
       "      <th>private</th>\n",
       "      <td>0.37</td>\n",
       "      <td>0.48</td>\n",
       "    </tr>\n",
       "    <tr>\n",
       "      <th>#posts</th>\n",
       "      <td>110.94</td>\n",
       "      <td>408.69</td>\n",
       "    </tr>\n",
       "    <tr>\n",
       "      <th>#followers</th>\n",
       "      <td>88366.21</td>\n",
       "      <td>926256.64</td>\n",
       "    </tr>\n",
       "    <tr>\n",
       "      <th>#follows</th>\n",
       "      <td>519.88</td>\n",
       "      <td>930.82</td>\n",
       "    </tr>\n",
       "    <tr>\n",
       "      <th>fake</th>\n",
       "      <td>0.48</td>\n",
       "      <td>0.50</td>\n",
       "    </tr>\n",
       "    <tr>\n",
       "      <th>activity ratio</th>\n",
       "      <td>0.28</td>\n",
       "      <td>1.64</td>\n",
       "    </tr>\n",
       "    <tr>\n",
       "      <th>#followers &gt; #follows?</th>\n",
       "      <td>0.43</td>\n",
       "      <td>0.50</td>\n",
       "    </tr>\n",
       "  </tbody>\n",
       "</table>\n",
       "</div>"
      ],
      "text/plain": [
       "                            Mean  Standard Deviation\n",
       "profile pic                 0.72                0.45\n",
       "nums/length username        0.16                0.21\n",
       "fullname words              1.47                1.06\n",
       "nums/length fullname        0.04                0.13\n",
       "name==username              0.03                0.18\n",
       "description length         23.27               38.13\n",
       "external URL                0.12                0.33\n",
       "private                     0.37                0.48\n",
       "#posts                    110.94              408.69\n",
       "#followers              88366.21           926256.64\n",
       "#follows                  519.88              930.82\n",
       "fake                        0.48                0.50\n",
       "activity ratio              0.28                1.64\n",
       "#followers > #follows?      0.43                0.50"
      ]
     },
     "execution_count": 42,
     "metadata": {},
     "output_type": "execute_result"
    }
   ],
   "source": [
    "# Measuring mean values and standard deviations\n",
    "df_means = training_data.mean().round(2)\n",
    "df_stds = training_data.std().round(2)\n",
    "results = pd.concat([df_means, df_stds], axis = 1)\n",
    "results.columns = ['Mean', 'Standard Deviation']\n",
    "results"
   ]
  },
  {
   "cell_type": "markdown",
   "id": "5a5e7b12",
   "metadata": {},
   "source": [
    "It's evident that certain features, like #followers and #follows, operate on a significantly larger scale compared to other features in the dataframe. This contrast can potentially skew our final models. For consistent value range, employing the Standard Scaler to rescale these features is crucial."
   ]
  },
  {
   "cell_type": "code",
   "execution_count": 43,
   "id": "aeb5d8f2",
   "metadata": {},
   "outputs": [],
   "source": [
    "X = training_data.drop('fake', axis = 1)\n",
    "y = training_data.fake"
   ]
  },
  {
   "cell_type": "code",
   "execution_count": 44,
   "id": "168d88d5",
   "metadata": {},
   "outputs": [],
   "source": [
    "# Spitting data into training and validation sets. \n",
    "# 35% of data will be used for validation\n",
    "\n",
    "X_train, X_val, y_train, y_val = train_test_split(X, y, test_size = 0.35, random_state = 123)"
   ]
  },
  {
   "cell_type": "code",
   "execution_count": 46,
   "id": "0b6fb5f5",
   "metadata": {
    "scrolled": true
   },
   "outputs": [
    {
     "name": "stdout",
     "output_type": "stream",
     "text": [
      "XGBoost: AUC-ROC score = 0.90\n",
      "LGBM: AUC-ROC score = 0.89\n",
      "CatBoost: AUC-ROC score = 0.93\n",
      "AdaBoost: AUC-ROC score = 0.89\n"
     ]
    },
    {
     "data": {
      "image/png": "[encoded data removed]",
      "text/plain": [
       "<Figure size 576x432 with 1 Axes>"
      ]
     },
     "metadata": {},
     "output_type": "display_data"
    }
   ],
   "source": [
    "# Models\n",
    "models = {\n",
    "    \"XGBoost\": XGBClassifier(random_state = 42),\n",
    "    \"LGBM\": LGBMClassifier(random_state = 42,  verbose=-1),\n",
    "    \"CatBoost\": CatBoostClassifier(verbose=False, random_state = 42),\n",
    "    \"AdaBoost\": AdaBoostClassifier(random_state = 42)\n",
    "}\n",
    "\n",
    "# Defining the pipeline process for each model\n",
    "pipelines = {}\n",
    "for name, model in models.items():\n",
    "    pipelines[name] = Pipeline([\n",
    "        (\"scaler\", StandardScaler()), # Rescaling data\n",
    "        (\"model\", model) # Initializing model\n",
    "    ])\n",
    "\n",
    "# Computing AUC-ROC scores\n",
    "results = {}\n",
    "for name, pipeline in pipelines.items():\n",
    "    pipeline.fit(X_train, y_train)\n",
    "    y_pred = pipeline.predict(X_val)\n",
    "    auc = roc_auc_score(y_val, y_pred)\n",
    "    results[name] = {\n",
    "        \"pipeline\": pipeline,\n",
    "        \"auc\": auc\n",
    "    }\n",
    "    print(f\"{name}: AUC-ROC score = {auc:.2f}\")\n",
    "    \n",
    "# Plot AUC-ROC curve for all models\n",
    "plt.figure(figsize=(8, 6))\n",
    "for name, result in results.items():\n",
    "    fpr, tpr, _ = roc_curve(y_val, result[\"pipeline\"].predict(X_val))\n",
    "    plt.plot(fpr, tpr, label=f\"{name} (AUC = {result['auc']:.2f})\")\n",
    "plt.plot([0, 1], [0, 1], 'k--', label = 'Random Guessing')\n",
    "plt.xlim([0.0, 1.0])\n",
    "plt.ylim([0.0, 1.05])\n",
    "plt.xlabel('False Positive Rate')\n",
    "plt.ylabel('True Positive Rate')\n",
    "plt.title('Receiver Operating Characteristic')\n",
    "plt.legend(loc=\"lower right\")\n",
    "plt.show()"
   ]
  },
  {
   "cell_type": "markdown",
   "id": "05268f9b",
   "metadata": {},
   "source": [
    "Overall, most models didn't perform any better than the baseline. The CatBoost was the one that achieved the highest performance, being the only one that outperformed the baseline."
   ]
  },
  {
   "cell_type": "markdown",
   "id": "e72a0000",
   "metadata": {},
   "source": [
    "## Testing"
   ]
  },
  {
   "cell_type": "code",
   "execution_count": 47,
   "id": "de658d49",
   "metadata": {},
   "outputs": [],
   "source": [
    "# Creating activity ratio feature\n",
    "testing_data['activity ratio'] = np.round(testing_data['#posts'] / testing_data['#followers'], 2)\n",
    "\n",
    "# Does the account has more followers than follows?\n",
    "testing_data['#followers > #follows?'] = (testing_data['#followers'] > testing_data['#follows']).astype(int)"
   ]
  },
  {
   "cell_type": "code",
   "execution_count": 48,
   "id": "53bf192a",
   "metadata": {},
   "outputs": [],
   "source": [
    "testing_data.replace([np.inf, -np.inf], np.nan, inplace=True)\n",
    "testing_data.dropna(inplace=True)"
   ]
  },
  {
   "cell_type": "code",
   "execution_count": 49,
   "id": "a0d6ea5f",
   "metadata": {},
   "outputs": [
    {
     "data": {
      "text/html": [
       "<div>\n",
       "<style scoped>\n",
       "    .dataframe tbody tr th:only-of-type {\n",
       "        vertical-align: middle;\n",
       "    }\n",
       "\n",
       "    .dataframe tbody tr th {\n",
       "        vertical-align: top;\n",
       "    }\n",
       "\n",
       "    .dataframe thead th {\n",
       "        text-align: right;\n",
       "    }\n",
       "</style>\n",
       "<table border=\"1\" class=\"dataframe\">\n",
       "  <thead>\n",
       "    <tr style=\"text-align: right;\">\n",
       "      <th></th>\n",
       "      <th>profile pic</th>\n",
       "      <th>nums/length username</th>\n",
       "      <th>fullname words</th>\n",
       "      <th>nums/length fullname</th>\n",
       "      <th>name==username</th>\n",
       "      <th>description length</th>\n",
       "      <th>external URL</th>\n",
       "      <th>private</th>\n",
       "      <th>#posts</th>\n",
       "      <th>#followers</th>\n",
       "      <th>#follows</th>\n",
       "      <th>fake</th>\n",
       "      <th>activity ratio</th>\n",
       "      <th>#followers &gt; #follows?</th>\n",
       "    </tr>\n",
       "  </thead>\n",
       "  <tbody>\n",
       "    <tr>\n",
       "      <th>0</th>\n",
       "      <td>1</td>\n",
       "      <td>0.33</td>\n",
       "      <td>1</td>\n",
       "      <td>0.33</td>\n",
       "      <td>1</td>\n",
       "      <td>30</td>\n",
       "      <td>0</td>\n",
       "      <td>1</td>\n",
       "      <td>35</td>\n",
       "      <td>488</td>\n",
       "      <td>604</td>\n",
       "      <td>0</td>\n",
       "      <td>0.07</td>\n",
       "      <td>0</td>\n",
       "    </tr>\n",
       "    <tr>\n",
       "      <th>1</th>\n",
       "      <td>1</td>\n",
       "      <td>0.00</td>\n",
       "      <td>5</td>\n",
       "      <td>0.00</td>\n",
       "      <td>0</td>\n",
       "      <td>64</td>\n",
       "      <td>0</td>\n",
       "      <td>1</td>\n",
       "      <td>3</td>\n",
       "      <td>35</td>\n",
       "      <td>6</td>\n",
       "      <td>0</td>\n",
       "      <td>0.09</td>\n",
       "      <td>1</td>\n",
       "    </tr>\n",
       "    <tr>\n",
       "      <th>2</th>\n",
       "      <td>1</td>\n",
       "      <td>0.00</td>\n",
       "      <td>2</td>\n",
       "      <td>0.00</td>\n",
       "      <td>0</td>\n",
       "      <td>82</td>\n",
       "      <td>0</td>\n",
       "      <td>1</td>\n",
       "      <td>319</td>\n",
       "      <td>328</td>\n",
       "      <td>668</td>\n",
       "      <td>0</td>\n",
       "      <td>0.97</td>\n",
       "      <td>0</td>\n",
       "    </tr>\n",
       "    <tr>\n",
       "      <th>3</th>\n",
       "      <td>1</td>\n",
       "      <td>0.00</td>\n",
       "      <td>1</td>\n",
       "      <td>0.00</td>\n",
       "      <td>0</td>\n",
       "      <td>143</td>\n",
       "      <td>0</td>\n",
       "      <td>1</td>\n",
       "      <td>273</td>\n",
       "      <td>14890</td>\n",
       "      <td>7369</td>\n",
       "      <td>0</td>\n",
       "      <td>0.02</td>\n",
       "      <td>1</td>\n",
       "    </tr>\n",
       "    <tr>\n",
       "      <th>4</th>\n",
       "      <td>1</td>\n",
       "      <td>0.50</td>\n",
       "      <td>1</td>\n",
       "      <td>0.00</td>\n",
       "      <td>0</td>\n",
       "      <td>76</td>\n",
       "      <td>0</td>\n",
       "      <td>1</td>\n",
       "      <td>6</td>\n",
       "      <td>225</td>\n",
       "      <td>356</td>\n",
       "      <td>0</td>\n",
       "      <td>0.03</td>\n",
       "      <td>0</td>\n",
       "    </tr>\n",
       "    <tr>\n",
       "      <th>...</th>\n",
       "      <td>...</td>\n",
       "      <td>...</td>\n",
       "      <td>...</td>\n",
       "      <td>...</td>\n",
       "      <td>...</td>\n",
       "      <td>...</td>\n",
       "      <td>...</td>\n",
       "      <td>...</td>\n",
       "      <td>...</td>\n",
       "      <td>...</td>\n",
       "      <td>...</td>\n",
       "      <td>...</td>\n",
       "      <td>...</td>\n",
       "      <td>...</td>\n",
       "    </tr>\n",
       "    <tr>\n",
       "      <th>115</th>\n",
       "      <td>1</td>\n",
       "      <td>0.29</td>\n",
       "      <td>1</td>\n",
       "      <td>0.00</td>\n",
       "      <td>0</td>\n",
       "      <td>0</td>\n",
       "      <td>0</td>\n",
       "      <td>0</td>\n",
       "      <td>13</td>\n",
       "      <td>114</td>\n",
       "      <td>811</td>\n",
       "      <td>1</td>\n",
       "      <td>0.11</td>\n",
       "      <td>0</td>\n",
       "    </tr>\n",
       "    <tr>\n",
       "      <th>116</th>\n",
       "      <td>1</td>\n",
       "      <td>0.40</td>\n",
       "      <td>1</td>\n",
       "      <td>0.00</td>\n",
       "      <td>0</td>\n",
       "      <td>0</td>\n",
       "      <td>0</td>\n",
       "      <td>0</td>\n",
       "      <td>4</td>\n",
       "      <td>150</td>\n",
       "      <td>164</td>\n",
       "      <td>1</td>\n",
       "      <td>0.03</td>\n",
       "      <td>0</td>\n",
       "    </tr>\n",
       "    <tr>\n",
       "      <th>117</th>\n",
       "      <td>1</td>\n",
       "      <td>0.00</td>\n",
       "      <td>2</td>\n",
       "      <td>0.00</td>\n",
       "      <td>0</td>\n",
       "      <td>0</td>\n",
       "      <td>0</td>\n",
       "      <td>0</td>\n",
       "      <td>3</td>\n",
       "      <td>833</td>\n",
       "      <td>3572</td>\n",
       "      <td>1</td>\n",
       "      <td>0.00</td>\n",
       "      <td>0</td>\n",
       "    </tr>\n",
       "    <tr>\n",
       "      <th>118</th>\n",
       "      <td>0</td>\n",
       "      <td>0.17</td>\n",
       "      <td>1</td>\n",
       "      <td>0.00</td>\n",
       "      <td>0</td>\n",
       "      <td>0</td>\n",
       "      <td>0</td>\n",
       "      <td>0</td>\n",
       "      <td>1</td>\n",
       "      <td>219</td>\n",
       "      <td>1695</td>\n",
       "      <td>1</td>\n",
       "      <td>0.00</td>\n",
       "      <td>0</td>\n",
       "    </tr>\n",
       "    <tr>\n",
       "      <th>119</th>\n",
       "      <td>1</td>\n",
       "      <td>0.44</td>\n",
       "      <td>1</td>\n",
       "      <td>0.00</td>\n",
       "      <td>0</td>\n",
       "      <td>0</td>\n",
       "      <td>0</td>\n",
       "      <td>0</td>\n",
       "      <td>3</td>\n",
       "      <td>39</td>\n",
       "      <td>68</td>\n",
       "      <td>1</td>\n",
       "      <td>0.08</td>\n",
       "      <td>0</td>\n",
       "    </tr>\n",
       "  </tbody>\n",
       "</table>\n",
       "<p>116 rows × 14 columns</p>\n",
       "</div>"
      ],
      "text/plain": [
       "     profile pic  nums/length username  fullname words  nums/length fullname  \\\n",
       "0              1                  0.33               1                  0.33   \n",
       "1              1                  0.00               5                  0.00   \n",
       "2              1                  0.00               2                  0.00   \n",
       "3              1                  0.00               1                  0.00   \n",
       "4              1                  0.50               1                  0.00   \n",
       "..           ...                   ...             ...                   ...   \n",
       "115            1                  0.29               1                  0.00   \n",
       "116            1                  0.40               1                  0.00   \n",
       "117            1                  0.00               2                  0.00   \n",
       "118            0                  0.17               1                  0.00   \n",
       "119            1                  0.44               1                  0.00   \n",
       "\n",
       "     name==username  description length  external URL  private  #posts  \\\n",
       "0                 1                  30             0        1      35   \n",
       "1                 0                  64             0        1       3   \n",
       "2                 0                  82             0        1     319   \n",
       "3                 0                 143             0        1     273   \n",
       "4                 0                  76             0        1       6   \n",
       "..              ...                 ...           ...      ...     ...   \n",
       "115               0                   0             0        0      13   \n",
       "116               0                   0             0        0       4   \n",
       "117               0                   0             0        0       3   \n",
       "118               0                   0             0        0       1   \n",
       "119               0                   0             0        0       3   \n",
       "\n",
       "     #followers  #follows  fake  activity ratio  #followers > #follows?  \n",
       "0           488       604     0            0.07                       0  \n",
       "1            35         6     0            0.09                       1  \n",
       "2           328       668     0            0.97                       0  \n",
       "3         14890      7369     0            0.02                       1  \n",
       "4           225       356     0            0.03                       0  \n",
       "..          ...       ...   ...             ...                     ...  \n",
       "115         114       811     1            0.11                       0  \n",
       "116         150       164     1            0.03                       0  \n",
       "117         833      3572     1            0.00                       0  \n",
       "118         219      1695     1            0.00                       0  \n",
       "119          39        68     1            0.08                       0  \n",
       "\n",
       "[116 rows x 14 columns]"
      ]
     },
     "execution_count": 49,
     "metadata": {},
     "output_type": "execute_result"
    }
   ],
   "source": [
    "testing_data "
   ]
  },
  {
   "cell_type": "code",
   "execution_count": 50,
   "id": "d51d42f8",
   "metadata": {},
   "outputs": [],
   "source": [
    "X = testing_data.drop('fake', axis = 1) \n",
    "y = testing_data.fake "
   ]
  },
  {
   "cell_type": "code",
   "execution_count": 51,
   "id": "f2bed438",
   "metadata": {},
   "outputs": [
    {
     "data": {
      "text/html": [
       "<div>\n",
       "<style scoped>\n",
       "    .dataframe tbody tr th:only-of-type {\n",
       "        vertical-align: middle;\n",
       "    }\n",
       "\n",
       "    .dataframe tbody tr th {\n",
       "        vertical-align: top;\n",
       "    }\n",
       "\n",
       "    .dataframe thead th {\n",
       "        text-align: right;\n",
       "    }\n",
       "</style>\n",
       "<table border=\"1\" class=\"dataframe\">\n",
       "  <thead>\n",
       "    <tr style=\"text-align: right;\">\n",
       "      <th></th>\n",
       "      <th>profile pic</th>\n",
       "      <th>nums/length username</th>\n",
       "      <th>fullname words</th>\n",
       "      <th>nums/length fullname</th>\n",
       "      <th>name==username</th>\n",
       "      <th>description length</th>\n",
       "      <th>external URL</th>\n",
       "      <th>private</th>\n",
       "      <th>#posts</th>\n",
       "      <th>#followers</th>\n",
       "      <th>#follows</th>\n",
       "      <th>activity ratio</th>\n",
       "      <th>#followers &gt; #follows?</th>\n",
       "    </tr>\n",
       "  </thead>\n",
       "  <tbody>\n",
       "    <tr>\n",
       "      <th>0</th>\n",
       "      <td>1</td>\n",
       "      <td>0.33</td>\n",
       "      <td>1</td>\n",
       "      <td>0.33</td>\n",
       "      <td>1</td>\n",
       "      <td>30</td>\n",
       "      <td>0</td>\n",
       "      <td>1</td>\n",
       "      <td>35</td>\n",
       "      <td>488</td>\n",
       "      <td>604</td>\n",
       "      <td>0.07</td>\n",
       "      <td>0</td>\n",
       "    </tr>\n",
       "    <tr>\n",
       "      <th>1</th>\n",
       "      <td>1</td>\n",
       "      <td>0.00</td>\n",
       "      <td>5</td>\n",
       "      <td>0.00</td>\n",
       "      <td>0</td>\n",
       "      <td>64</td>\n",
       "      <td>0</td>\n",
       "      <td>1</td>\n",
       "      <td>3</td>\n",
       "      <td>35</td>\n",
       "      <td>6</td>\n",
       "      <td>0.09</td>\n",
       "      <td>1</td>\n",
       "    </tr>\n",
       "    <tr>\n",
       "      <th>2</th>\n",
       "      <td>1</td>\n",
       "      <td>0.00</td>\n",
       "      <td>2</td>\n",
       "      <td>0.00</td>\n",
       "      <td>0</td>\n",
       "      <td>82</td>\n",
       "      <td>0</td>\n",
       "      <td>1</td>\n",
       "      <td>319</td>\n",
       "      <td>328</td>\n",
       "      <td>668</td>\n",
       "      <td>0.97</td>\n",
       "      <td>0</td>\n",
       "    </tr>\n",
       "    <tr>\n",
       "      <th>3</th>\n",
       "      <td>1</td>\n",
       "      <td>0.00</td>\n",
       "      <td>1</td>\n",
       "      <td>0.00</td>\n",
       "      <td>0</td>\n",
       "      <td>143</td>\n",
       "      <td>0</td>\n",
       "      <td>1</td>\n",
       "      <td>273</td>\n",
       "      <td>14890</td>\n",
       "      <td>7369</td>\n",
       "      <td>0.02</td>\n",
       "      <td>1</td>\n",
       "    </tr>\n",
       "    <tr>\n",
       "      <th>4</th>\n",
       "      <td>1</td>\n",
       "      <td>0.50</td>\n",
       "      <td>1</td>\n",
       "      <td>0.00</td>\n",
       "      <td>0</td>\n",
       "      <td>76</td>\n",
       "      <td>0</td>\n",
       "      <td>1</td>\n",
       "      <td>6</td>\n",
       "      <td>225</td>\n",
       "      <td>356</td>\n",
       "      <td>0.03</td>\n",
       "      <td>0</td>\n",
       "    </tr>\n",
       "    <tr>\n",
       "      <th>...</th>\n",
       "      <td>...</td>\n",
       "      <td>...</td>\n",
       "      <td>...</td>\n",
       "      <td>...</td>\n",
       "      <td>...</td>\n",
       "      <td>...</td>\n",
       "      <td>...</td>\n",
       "      <td>...</td>\n",
       "      <td>...</td>\n",
       "      <td>...</td>\n",
       "      <td>...</td>\n",
       "      <td>...</td>\n",
       "      <td>...</td>\n",
       "    </tr>\n",
       "    <tr>\n",
       "      <th>115</th>\n",
       "      <td>1</td>\n",
       "      <td>0.29</td>\n",
       "      <td>1</td>\n",
       "      <td>0.00</td>\n",
       "      <td>0</td>\n",
       "      <td>0</td>\n",
       "      <td>0</td>\n",
       "      <td>0</td>\n",
       "      <td>13</td>\n",
       "      <td>114</td>\n",
       "      <td>811</td>\n",
       "      <td>0.11</td>\n",
       "      <td>0</td>\n",
       "    </tr>\n",
       "    <tr>\n",
       "      <th>116</th>\n",
       "      <td>1</td>\n",
       "      <td>0.40</td>\n",
       "      <td>1</td>\n",
       "      <td>0.00</td>\n",
       "      <td>0</td>\n",
       "      <td>0</td>\n",
       "      <td>0</td>\n",
       "      <td>0</td>\n",
       "      <td>4</td>\n",
       "      <td>150</td>\n",
       "      <td>164</td>\n",
       "      <td>0.03</td>\n",
       "      <td>0</td>\n",
       "    </tr>\n",
       "    <tr>\n",
       "      <th>117</th>\n",
       "      <td>1</td>\n",
       "      <td>0.00</td>\n",
       "      <td>2</td>\n",
       "      <td>0.00</td>\n",
       "      <td>0</td>\n",
       "      <td>0</td>\n",
       "      <td>0</td>\n",
       "      <td>0</td>\n",
       "      <td>3</td>\n",
       "      <td>833</td>\n",
       "      <td>3572</td>\n",
       "      <td>0.00</td>\n",
       "      <td>0</td>\n",
       "    </tr>\n",
       "    <tr>\n",
       "      <th>118</th>\n",
       "      <td>0</td>\n",
       "      <td>0.17</td>\n",
       "      <td>1</td>\n",
       "      <td>0.00</td>\n",
       "      <td>0</td>\n",
       "      <td>0</td>\n",
       "      <td>0</td>\n",
       "      <td>0</td>\n",
       "      <td>1</td>\n",
       "      <td>219</td>\n",
       "      <td>1695</td>\n",
       "      <td>0.00</td>\n",
       "      <td>0</td>\n",
       "    </tr>\n",
       "    <tr>\n",
       "      <th>119</th>\n",
       "      <td>1</td>\n",
       "      <td>0.44</td>\n",
       "      <td>1</td>\n",
       "      <td>0.00</td>\n",
       "      <td>0</td>\n",
       "      <td>0</td>\n",
       "      <td>0</td>\n",
       "      <td>0</td>\n",
       "      <td>3</td>\n",
       "      <td>39</td>\n",
       "      <td>68</td>\n",
       "      <td>0.08</td>\n",
       "      <td>0</td>\n",
       "    </tr>\n",
       "  </tbody>\n",
       "</table>\n",
       "<p>116 rows × 13 columns</p>\n",
       "</div>"
      ],
      "text/plain": [
       "     profile pic  nums/length username  fullname words  nums/length fullname  \\\n",
       "0              1                  0.33               1                  0.33   \n",
       "1              1                  0.00               5                  0.00   \n",
       "2              1                  0.00               2                  0.00   \n",
       "3              1                  0.00               1                  0.00   \n",
       "4              1                  0.50               1                  0.00   \n",
       "..           ...                   ...             ...                   ...   \n",
       "115            1                  0.29               1                  0.00   \n",
       "116            1                  0.40               1                  0.00   \n",
       "117            1                  0.00               2                  0.00   \n",
       "118            0                  0.17               1                  0.00   \n",
       "119            1                  0.44               1                  0.00   \n",
       "\n",
       "     name==username  description length  external URL  private  #posts  \\\n",
       "0                 1                  30             0        1      35   \n",
       "1                 0                  64             0        1       3   \n",
       "2                 0                  82             0        1     319   \n",
       "3                 0                 143             0        1     273   \n",
       "4                 0                  76             0        1       6   \n",
       "..              ...                 ...           ...      ...     ...   \n",
       "115               0                   0             0        0      13   \n",
       "116               0                   0             0        0       4   \n",
       "117               0                   0             0        0       3   \n",
       "118               0                   0             0        0       1   \n",
       "119               0                   0             0        0       3   \n",
       "\n",
       "     #followers  #follows  activity ratio  #followers > #follows?  \n",
       "0           488       604            0.07                       0  \n",
       "1            35         6            0.09                       1  \n",
       "2           328       668            0.97                       0  \n",
       "3         14890      7369            0.02                       1  \n",
       "4           225       356            0.03                       0  \n",
       "..          ...       ...             ...                     ...  \n",
       "115         114       811            0.11                       0  \n",
       "116         150       164            0.03                       0  \n",
       "117         833      3572            0.00                       0  \n",
       "118         219      1695            0.00                       0  \n",
       "119          39        68            0.08                       0  \n",
       "\n",
       "[116 rows x 13 columns]"
      ]
     },
     "execution_count": 51,
     "metadata": {},
     "output_type": "execute_result"
    }
   ],
   "source": [
    "X "
   ]
  },
  {
   "cell_type": "code",
   "execution_count": 52,
   "id": "9ae58a42",
   "metadata": {},
   "outputs": [
    {
     "data": {
      "text/plain": [
       "0    60\n",
       "1    56\n",
       "Name: fake, dtype: int64"
      ]
     },
     "execution_count": 52,
     "metadata": {},
     "output_type": "execute_result"
    }
   ],
   "source": [
    "y.value_counts() "
   ]
  },
  {
   "cell_type": "code",
   "execution_count": 62,
   "id": "ff828768",
   "metadata": {},
   "outputs": [],
   "source": [
    "catboost_pipeline = results[\"CatBoost\"][\"pipeline\"] # Creating a CatBoost model\n",
    "\n",
    "y_pred = catboost_pipeline.predict(X) # Predicting on test data "
   ]
  },
  {
   "cell_type": "code",
   "execution_count": 63,
   "id": "b601f5e0",
   "metadata": {
    "scrolled": true
   },
   "outputs": [
    {
     "name": "stdout",
     "output_type": "stream",
     "text": [
      "CatBoos: AUC-ROC score on unseen data = 0.9214\n"
     ]
    },
    {
     "data": {
      "image/png": "[encoded data removed]",
      "text/plain": [
       "<Figure size 576x432 with 1 Axes>"
      ]
     },
     "metadata": {
      "needs_background": "light"
     },
     "output_type": "display_data"
    },
    {
     "name": "stdout",
     "output_type": "stream",
     "text": [
      "Value counts for y:\n",
      "0    60\n",
      "1    56\n",
      "Name: fake, dtype: int64\n",
      "\n",
      "\n",
      "Value counts for y_pred:\n",
      "0    63\n",
      "1    53\n",
      "dtype: int64\n",
      "\n",
      "\n"
     ]
    },
    {
     "data": {
      "image/png": "[encoded data removed]",
      "text/plain": [
       "<Figure size 432x288 with 2 Axes>"
      ]
     },
     "metadata": {
      "needs_background": "light"
     },
     "output_type": "display_data"
    },
    {
     "name": "stdout",
     "output_type": "stream",
     "text": [
      "\n",
      "\n",
      "Recall Score: 89.0%\n"
     ]
    }
   ],
   "source": [
    "# Computing AUC-ROC score\n",
    "auc = roc_auc_score(y, y_pred)\n",
    "print(f\"CatBoos: AUC-ROC score on unseen data = {auc:.4f}\")\n",
    "\n",
    "# Plotting ROC curve\n",
    "plt.figure(figsize=(8, 6))\n",
    "fpr, tpr, _ = roc_curve(y, catboost_pipeline.predict(X))\n",
    "plt.plot(fpr, tpr, label=f\"(CatBoost AUC = {auc:.4f})\")\n",
    "plt.plot([0, 1], [0, 1], 'k--', label = 'Random Guessing')\n",
    "plt.xlim([0.0, 1.0])\n",
    "plt.ylim([0.0, 1.05])\n",
    "plt.xlabel('False Positive Rate')\n",
    "plt.ylabel('True Positive Rate')\n",
    "plt.title('Receiver Operating Characteristic')\n",
    "plt.legend(loc=\"lower right\")\n",
    "plt.show()\n",
    "\n",
    "# Printing value counts\n",
    "print(\"Value counts for y:\")\n",
    "print(y.value_counts())\n",
    "print('\\n')\n",
    "print(\"Value counts for y_pred:\")\n",
    "print(pd.Series(y_pred).value_counts())\n",
    "print('\\n')\n",
    "# Plotting confusion matrix\n",
    "cm = confusion_matrix(y, y_pred)\n",
    "sns.heatmap(cm, annot=True, cmap=\"Blues\")\n",
    "plt.xlabel(\"Predicted Labels\")\n",
    "plt.ylabel(\"True Labels\")\n",
    "plt.show()\n",
    "print('\\n')\n",
    "print(f'Recall Score: {np.round(recall_score(y, y_pred),2) * 100}%') # Printing Recall Score"
   ]
  },
  {
   "cell_type": "markdown",
   "id": "7ab73f67",
   "metadata": {},
   "source": [
    "The final model scored an AUC-ROC of 0.9214, which means it's doing well at spotting fakes.\n",
    "\n",
    "Looking at the original y test, we had 60 real accounts and 56 fakes. \n",
    "Our model guessed 63 as real and 53 as fake. \n",
    "\n",
    "Finally, the Recall Score shows us that the model correctly flagged 89% of fake accounts, 50 out of 56."
   ]
  },
  {
   "cell_type": "markdown",
   "id": "65f1fca4",
   "metadata": {},
   "source": [
    "## Model Explainability"
   ]
  },
  {
   "cell_type": "markdown",
   "id": "051ce5ee",
   "metadata": {},
   "source": [
    "Model explainability is important to understand how the model works and what was relevant during its classification process. \n",
    "It allows to understand the results we've achieved, as well as help us understand how effective the new features created were in predicting the target variable. Use the SHAP library for that."
   ]
  },
  {
   "cell_type": "code",
   "execution_count": 65,
   "id": "e922bfe9",
   "metadata": {},
   "outputs": [
    {
     "data": {
      "image/png": "[encoded data removed]",
      "text/plain": [
       "<Figure size 576x482.4 with 1 Axes>"
      ]
     },
     "metadata": {
      "needs_background": "light"
     },
     "output_type": "display_data"
    }
   ],
   "source": [
    "# Extracting the model and explainer\n",
    "model = catboost_pipeline.named_steps['model']\n",
    "explainer = shap.TreeExplainer(model)\n",
    "\n",
    "# Computing the SHAP values\n",
    "shap_values = explainer.shap_values(X_train)\n",
    "\n",
    "# Summary plot\n",
    "shap.summary_plot(shap_values, X, plot_type=\"bar\", show=False)\n",
    "plt.title('CatBoost - Feature Importance')\n",
    "plt.tight_layout()\n",
    "plt.show()"
   ]
  },
  {
   "cell_type": "markdown",
   "id": "a22ba306",
   "metadata": {},
   "source": [
    "## Conclusion"
   ]
  },
  {
   "cell_type": "markdown",
   "id": "d9d3df6e",
   "metadata": {},
   "source": [
    "During the development of this project, we performed multiple data treatment and data analysis tasks to identify patterns and extract insights from data.\n",
    "\n",
    "We could successfully point to differences between fake accounts and real accounts on Instagram, by identifying that real accounts have more posts than fakes, and that fakes generally follow more people than real accounts, as well as other different traces between them.\n",
    "\n",
    "By developing a baseline model, we've established a benchmark to compare our final models to. That also allowed us to understand what features displayed a high predicting importance of the target variable to the baseline model, which helped us to select relevant features for the feature engineering process.\n",
    "\n",
    "After creating new features, we could also identify relevant patterns on them, such as the fact that most accounts following more people than they had followers were mostly fake accounts. This feature alone turned out to have somewhat significant impact on the final model output.\n",
    "\n",
    "Finally, after testing a bunch of different Gradient Boosting algorithms, the CatBoost model achieved the higher AUC-ROC score, being picked to perform final predictions on the test dataset and efficiently scoring 0.9214 on the test set, correctly identifying 89% of fake accounts."
   ]
  },
  {
   "cell_type": "code",
   "execution_count": null,
   "id": "54faa634",
   "metadata": {},
   "outputs": [],
   "source": []
  }
 ],
 "metadata": {
  "kernelspec": {
   "display_name": "Python 3 (ipykernel)",
   "language": "python",
   "name": "python3"
  },
  "language_info": {
   "codemirror_mode": {
    "name": "ipython",
    "version": 3
   },
   "file_extension": ".py",
   "mimetype": "text/x-python",
   "name": "python",
   "nbconvert_exporter": "python",
   "pygments_lexer": "ipython3",
   "version": "3.9.7"
  }
 },
 "nbformat": 4,
 "nbformat_minor": 5
}
